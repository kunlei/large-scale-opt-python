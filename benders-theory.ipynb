{
 "cells": [
  {
   "cell_type": "markdown",
   "metadata": {},
   "source": [
    "---\n",
    "format:\n",
    "  html:\n",
    "    code-line-numbers: false\n",
    "    code-overflow: wrap\n",
    "    code-block-bg: true\n",
    "    code-block-border-left: true\n",
    "    highlight-style: arrow\n",
    "---"
   ]
  },
  {
   "cell_type": "markdown",
   "metadata": {},
   "source": [
    "# Benders Decomposition"
   ]
  },
  {
   "cell_type": "markdown",
   "metadata": {},
   "source": [
    "In this chapter, we will explain the theories behind Benders decomposition and demonstrate its usage on a trial linear programming problem.\n",
    "Keep in mind that Benders decomposition is not limited to solving linear programming problems.\n",
    "In fact, it is one of the most powerful techniques to solve some large-scale mixed-integer linear programming problems."
   ]
  },
  {
   "cell_type": "markdown",
   "metadata": {},
   "source": [
    "In the following sections, we will go through the critical steps during the decomposition process when applying the algorithm on optimization problems represented in standard forms.\n",
    "This is important as it helps build up the intuition of when we should consider applying Benders decomposition to a problem at hand.\n",
    "Often times, recognizing the applicability of Benders decomposition is the most important and challenging step when solving an optimization problem.\n",
    "Once we know that the problem structure is suitable to solve via Benders decomposition, it is straightforward to follow the decomposition steps and put it into work."
   ]
  },
  {
   "cell_type": "markdown",
   "metadata": {},
   "source": [
    "Generally speaking, Benders decomposition is a good solution candidate when the resulting problem is much easier to solve if some of the variables in the original problem are fixed.\n",
    "We will illustrate this point using an example in the following sections.\n",
    "In the optimization world, the first candidate that should come to mind when we say a problem is easy to solve is a linear programming formulation, which is indeed the case in Benders decomposition applications."
   ]
  },
  {
   "cell_type": "markdown",
   "metadata": {},
   "source": [
    "## The Decomposition Logic"
   ]
  },
  {
   "cell_type": "markdown",
   "metadata": {},
   "source": [
    "To explain the workings of Benders decomposition, let us look at the standard form of linear programming problems that involve two vector variables, $\\mathbf{x}$ and $\\mathbf{y}$. Let $p$ and $q$ indicate the dimensions of $\\mathbf{x}$ and $\\mathbf{y}$, respectively.\n",
    "Below is the original problem (**P**) we intend to solve."
   ]
  },
  {
   "cell_type": "markdown",
   "metadata": {},
   "source": [
    "\\begin{align}\n",
    "\\text{min.} &\\quad \\mathbf{c}^T \\mathbf{x} + \\mathbf{f}^T \\mathbf{y} \\\\\n",
    "\\text{s.t.} &\\quad \\mathbf{A} \\mathbf{x} + \\mathbf{B} \\mathbf{y} = \\mathbf{b} \\\\\n",
    "&\\quad \\mathbf{x} \\geq 0, \\mathbf{y} \\geq 0\n",
    "\\end{align}"
   ]
  },
  {
   "cell_type": "markdown",
   "metadata": {},
   "source": [
    "In this formulation, $\\mathbf{c}$ and $\\mathbf{f}$ in the objective function represent the cost coefficients associated with decision variables $\\mathbf{x}$ and $\\mathbf{y}$, respectively.\n",
    "Both of them are column vectors of corresponding dimensions.\n",
    "In the constraints, matrix $\\mathbf{A}$ is of dimension $m \\times p$, and matrix $\\mathbf{B}$ is of dimension $m \\times q$.\n",
    "$\\mathbf{b}$ is a column vector of dimension $m$."
   ]
  },
  {
   "cell_type": "markdown",
   "metadata": {},
   "source": [
    "Suppose the variable $\\mathbf{y}$ is a complicating variable in the sense that the resulting problem is substantially easier to solve if the value of $\\mathbf{y}$ is fixed.\n",
    "In this case, we could rewrite problem $\\mathbf{P}$ as the following form:"
   ]
  },
  {
   "cell_type": "markdown",
   "metadata": {},
   "source": [
    "\\begin{align}\n",
    "\\text{min.} &\\quad \\mathbf{f}^T \\mathbf{y} + g(\\mathbf{y}) \\\\\n",
    "\\text{s.t.} &\\quad \\mathbf{y} \\geq 0\n",
    "\\end{align}"
   ]
  },
  {
   "cell_type": "markdown",
   "metadata": {},
   "source": [
    "where $g(\\mathbf{y})$ is a function of $\\mathbf{y}$ and is defined as the subproblem $\\mathbf{SP}$ of the form below:"
   ]
  },
  {
   "cell_type": "markdown",
   "metadata": {},
   "source": [
    "\\begin{align}\n",
    "    \\text{min.} &\\quad \\mathbf{c}^T \\mathbf{x} \\\\\n",
    "    \\text{s.t.} &\\quad \\mathbf{A} \\mathbf{x}  = \\mathbf{b} - \\mathbf{B} \\mathbf{y} \\label{bd-cons1} \\\\\n",
    "    &\\quad \\mathbf{x} \\geq 0\n",
    "\\end{align}"
   ]
  },
  {
   "cell_type": "markdown",
   "metadata": {},
   "source": [
    "Note that the $\\mathbf{y}$ in constraint \\eqref{bd-cons1} takes on some known values when the problem is solved and the only decision variable in the above formulation is $\\mathbf{x}$.\n",
    "The dual problem of $\\mathbf{SP}$, $\\mathbf{DSP}$, is given below.\n"
   ]
  },
  {
   "cell_type": "markdown",
   "metadata": {},
   "source": [
    "\\begin{align}\n",
    "    \\text{max.} &\\quad (\\mathbf{b} - \\mathbf{B} \\mathbf{y})^{T} \\mathbf{u} \\\\\n",
    "    \\text{s.t.} &\\quad \\mathbf{A}^T \\mathbf{u} \\leq \\mathbf{c} \\label{bd-cons2} \\\\\n",
    "    &\\quad \\mathbf{u}\\  \\text{unrestricted}\n",
    "\\end{align}"
   ]
  },
  {
   "cell_type": "markdown",
   "metadata": {},
   "source": [
    "A key characteristic of the above $\\mathbf{DSP}$ is that its solution space does not depend on the value of $\\mathbf{y}$, which only affects the objective function.\n",
    "According to the Minkowski’s representation theorem, any $\\bar{\\mathbf{u}}$ satisfying the constraints \\eqref{bd-cons2} can be expressed as"
   ]
  },
  {
   "cell_type": "markdown",
   "metadata": {},
   "source": [
    "\\begin{align}\n",
    "\\bar{\\mathbf{u}} = \\sum_{j \\in \\mathbf{J}} \\lambda_j \\mathbf{u}_{j}^{point} + \\sum_{k \\in \\mathbf{K}} \\mu_k \\mathbf{u}_k^{ray}\n",
    "\\end{align}"
   ]
  },
  {
   "cell_type": "markdown",
   "metadata": {},
   "source": [
    "where $\\mathbf{u}_j^{point}$ and $\\mathbf{u}_k^{ray}$ represent an extreme point and extreme ray, respectively.\n",
    "In addition, $\\lambda_j \\geq 0$ for all $j \\in \\mathbf{J}$ and $\\sum_{j \\in \\mathbf{J}}\\lambda_j = 1$, and $\\mu_k \\geq 0$ for all $k \\in \\mathbf{K}$.\n",
    "It follows that the $\\mathbf{DSP}$ is equivalent to "
   ]
  },
  {
   "cell_type": "markdown",
   "metadata": {},
   "source": [
    "\\begin{align}\n",
    "\\text{max.} &\\quad (\\mathbf{b} - \\mathbf{B} \\mathbf{y})^{T} (\\sum_{j \\in \\mathbf{J}} \\lambda_j \\mathbf{u}_{j}^{point} + \\sum_{k \\in \\mathbf{K}} \\mu_k \\mathbf{u}_k^{ray}) \\\\\n",
    "\\text{s.t.} &\\quad \\sum_{j \\in \\mathbf{J}}\\lambda_j = 1 \\\\\n",
    "&\\quad \\lambda_j \\geq 0, \\ \\forall j \\in \\mathbf{J} \\\\\n",
    "&\\quad \\mu_k \\geq 0, \\ \\forall k \\in \\mathbf{K}\n",
    "\\end{align}"
   ]
  },
  {
   "cell_type": "markdown",
   "metadata": {},
   "source": [
    "We can therefore conclude that\n",
    "\n",
    "- The $\\mathbf{DSP}$ becomes unbounded if any $\\mathbf{u}_k^{ray}$ exists such that $(\\mathbf{b} - \\mathbf{B} \\mathbf{y})^{T} \\mathbf{u}_k^{ray} > 0$.\n",
    "Note that an unbounded $\\mathbf{DSP}$ implies an infeasible $\\mathbf{SP}$ and to prevent this from happening, we have to ensure that $(\\mathbf{b} - \\mathbf{B} \\mathbf{y})^{T} \\mathbf{u}_k^{ray} \\leq 0$ for all $k \\in \\mathbf{K}$.\n",
    "- If an optimal solution to $\\mathbf{DSP}$ exists, it must occur at one of the extreme points. Let $g$ denote the optimal objective value, it follows that $(\\mathbf{b} - \\mathbf{B} \\mathbf{y})^{T} \\mathbf{u}_j^{point} \\leq g$ for all $j \\in \\mathbf{J}$.\n",
    "\n",
    "Based on this idea, the $\\mathbf{DSP}$ can be reformulated as follows:"
   ]
  },
  {
   "cell_type": "markdown",
   "metadata": {},
   "source": [
    "\\begin{align}\n",
    "\\text{min.} &\\quad g \\\\\n",
    "\\text{s.t.} &\\quad (\\mathbf{b} - \\mathbf{B} \\mathbf{y})^{T} \\mathbf{u}_k^{ray} \\leq 0, \\ \\forall j \\in \\mathbf{J} \\label{bd-feas} \\\\\n",
    "&\\quad (\\mathbf{b} - \\mathbf{B} \\mathbf{y})^{T} \\mathbf{u}_j^{point} \\leq g, \\ \\forall k \\in \\mathbf{K} \\label{bd-opt} \\\\\n",
    "&\\quad j \\in \\mathbf{J}, k \\in \\mathbf{K}\n",
    "\\end{align}"
   ]
  },
  {
   "cell_type": "markdown",
   "metadata": {},
   "source": [
    "Constraints \\eqref{bd-feas} are called **Benders feasibility cuts**, while constraints \\eqref{bd-opt} are called **Benders optimality cuts**.\n",
    "Now we are ready to define the Benders Master Problem ($\\mathbf{BMP}$) as follows:"
   ]
  },
  {
   "cell_type": "markdown",
   "metadata": {},
   "source": [
    "\\begin{align}\n",
    "    \\text{min.} &\\quad \\mathbf{f}^T \\mathbf{y} + g \\\\\n",
    "    \\text{s.t.} &\\quad (\\mathbf{b} - \\mathbf{B} \\mathbf{y})^{T} \\mathbf{u}_k^{ray} \\leq 0, \\ \\forall j \\in \\mathbf{J} \\\\\n",
    "    &\\quad (\\mathbf{b} - \\mathbf{B} \\mathbf{y})^{T} \\mathbf{u}_j^{point} \\leq g, \\ \\forall k \\in \\mathbf{K} \\\\\n",
    "    &\\quad j \\in \\mathbf{J}, k \\in \\mathbf{K}, \\mathbf{y} \\geq 0\n",
    "\\end{align}"
   ]
  },
  {
   "cell_type": "markdown",
   "metadata": {},
   "source": [
    "Typically $J$ and $K$ are too large to enumerate upfront and we have to work with subsets of them, denoted by $J_s$ and $K_s$, respectively. Hence we have the following Restricted Benders Master Problem ($\\mathbf{RBMP}$):"
   ]
  },
  {
   "cell_type": "markdown",
   "metadata": {},
   "source": [
    "\\begin{align}\n",
    "    \\text{min.} &\\quad \\mathbf{f}^T \\mathbf{y} + g \\\\\n",
    "    \\text{s.t.} &\\quad (\\mathbf{b} - \\mathbf{B} \\mathbf{y})^{T} \\mathbf{u}_k^{ray} \\leq 0, \\ \\forall j \\in \\mathbf{J}_s \\\\\n",
    "    &\\quad (\\mathbf{b} - \\mathbf{B} \\mathbf{y})^{T} \\mathbf{u}_j^{point} \\leq g, \\ \\forall k \\in \\mathbf{K}_s \\\\\n",
    "    &\\quad j \\in \\mathbf{J}, k \\in \\mathbf{K}, \\mathbf{y} \\geq 0\n",
    "\\end{align}"
   ]
  },
  {
   "cell_type": "markdown",
   "metadata": {},
   "source": [
    "```{mermaid}\n",
    "%%| label: fig-benders-flowchart\n",
    "%%| fig-cap: Benders decomposition workflow\n",
    "\n",
    "flowchart LR\n",
    "   A[Start] --> B{Is}\n",
    "    B -->|Yes| C[OK]\n",
    "    C --> D[Rethink]\n",
    "    D --> B\n",
    "    B ---->|No| E[End]\n",
    "```"
   ]
  },
  {
   "cell_type": "markdown",
   "metadata": {},
   "source": [
    "## Solving Linear Programming Problems with Benders Decomposition"
   ]
  },
  {
   "cell_type": "markdown",
   "metadata": {},
   "source": [
    "In this section, we use Benders decomposition to solve several linear programming (LP) problems in order to demonstrate the decomposition logic, especially how the restricted Benders master problem interacts with the subproblem in an iterative approach to reach final optimality.\n",
    "Most linear programs could be solved efficiently nowadays by either open source or commercial solvers without resorting to any decomposition approaches.\n",
    "However, by working through the example problems in the following sections, we aim to showcase the implementation details when applying Benders decomposition algorithm on real problems, which helps solidify our understanding of Benders decomposition.\n",
    "Hopefully, by the end of this chapter, we will build up enough intuition as well as hands-on experience such that we are ready to tackle most involved problems in the following chapters."
   ]
  },
  {
   "cell_type": "markdown",
   "metadata": {},
   "source": [
    "In the following sections, we employ several steps to illustrate the problem solving process of Benders decomposition.\n",
    "\n",
    "- We will first create two linear programming solvers based on Gurobi and SCIP that can solve any linear programs defined in the standard form. They are used in later section to validate the correctness of the solutions produced by Benders decomposition.\n",
    "- Next, we use a specific linear program and give the corresponding RBMP and DSP to prepare for the implementations.\n",
    "- Then, we will solve the example linear program step by step by examining the outputs of the RBMP and DSP to decided the next set of actions.\n",
    "- Futhermore, a holistic Benders decomposition implementation is then developed to solve the example linear program.\n",
    "- Following the previous step, a more generic Benders decomposition implementation is created.\n",
    "- Then, we will examine an alternative implementation using Gurobi callback functions.\n",
    "- We will also provide an implementation based on SCIP.\n",
    "- In the final section, we will do several benchmarking testing."
   ]
  },
  {
   "cell_type": "markdown",
   "metadata": {},
   "source": [
    "### LP solvers based on Gurobi and SCIP"
   ]
  },
  {
   "cell_type": "markdown",
   "metadata": {},
   "source": [
    "We aim to use Benders decomposition to solve several linear programming problems in the following sections.\n",
    "To do that, we intentionally decompose the LP problem under consideration into two sets, one set of *complicating* variables and the other set containing the remaining variables.\n",
    "In order to validate the correctness of the results obtained by Benders decomposition, we implement two additional ways of solving the target linear programming problems directly.\n",
    "The first option is based on the Gurobi API in python and the other is based on the open source solve SCIP.\n",
    "The two implementations defined here assume the LP problems under consideration follow the below standard form:"
   ]
  },
  {
   "cell_type": "markdown",
   "metadata": {},
   "source": [
    "\\begin{align}\n",
    "    \\text{min.} &\\quad \\mathbf{c}^T \\mathbf{x} \\\\\n",
    "    \\text{s.t.} &\\quad \\mathbf{A} \\mathbf{x} = \\mathbf{b} \\\\\n",
    "    &\\quad \\mathbf{x} \\geq 0\n",
    "\\end{align}"
   ]
  },
  {
   "cell_type": "markdown",
   "metadata": {},
   "source": [
    "@lst-solver-gurobi defines a solver for LP problems using Gurobi.\n",
    "It takes three constructor parameters:\n",
    "\n",
    "- `obj_coeff`: this corresponds to the objective coefficients $\\mathbf{c}$.\n",
    "- `constr_mat`: this refers to the constraint matrix $\\mathbf{A}$.\n",
    "- `rhs`: this is the right-hand side $\\mathbf{b}$.\n",
    "\n",
    "Inside the constructor `__init__()`, a solver environment `_env` is first created and then used to initialize a model object `_model`.\n",
    "The input parameters are then used to create decision variables `_vars`, constraints `_constrs` and objective function respectively.\n",
    "The `optimize()` function simply solves the problem and shows the solving status.\n",
    "Finally, the `clean_up()` function frees up the computing resources."
   ]
  },
  {
   "cell_type": "code",
   "execution_count": 104,
   "metadata": {},
   "outputs": [],
   "source": [
    "#| lst-label: lst-solver-gurobi\n",
    "#| lst-cap: A LP solver based on Gurobi\n",
    "#| code-line-numbers: true\n",
    "\n",
    "import gurobipy as gp\n",
    "from gurobipy import GRB\n",
    "import numpy as np\n",
    "\n",
    "class LpSolverGurobi:\n",
    "    \n",
    "    def __init__(self, obj_coeff, constr_mat, rhs, verbose=False):\n",
    "        # initialize environment and model\n",
    "        self._env = gp.Env('GurobiEnv', empty=True)\n",
    "        # self._env.setParam('LogToConsole', 1 if verbose else 0)\n",
    "        self._env.setParam('OutputFlag', 1 if verbose else 0)\n",
    "        self._env.start()\n",
    "        self._model = gp.Model(env=self._env, name='GurobiLpSolver')\n",
    "        \n",
    "        # prepare data\n",
    "        self._obj_coeff = obj_coeff\n",
    "        # print(self._obj_coeff)\n",
    "        self._constr_mat = constr_mat\n",
    "        # print(self._constr_mat)\n",
    "        self._rhs = rhs\n",
    "        self._num_vars = len(self._obj_coeff)\n",
    "        self._num_constrs = len(self._rhs)\n",
    "        \n",
    "        # create decision variables\n",
    "        self._vars = self._model.addMVar(self._num_vars, \n",
    "                                         vtype=GRB.CONTINUOUS, \n",
    "                                         lb=0)\n",
    "        \n",
    "        # create constraints\n",
    "        self._constrs = self._model.addConstr(\n",
    "            self._constr_mat@self._vars == self._rhs\n",
    "        )\n",
    "        \n",
    "        # create objective\n",
    "        self._model.setObjective(self._obj_coeff@self._vars, \n",
    "                                 GRB.MINIMIZE)\n",
    "    \n",
    "    def optimize(self, verbose=False):\n",
    "        self._model.optimize()\n",
    "        if self._model.status == GRB.OPTIMAL:\n",
    "            print(f'Optimal solution found!')\n",
    "            print(f'Optimal objective = {self._model.objVal:.2f}')\n",
    "        elif self._model.status == GRB.UNBOUNDED:\n",
    "            print(f'Model is unbounded!')\n",
    "        elif self._model.status == GRB.INFEASIBLE:\n",
    "            print(f'Model is infeasible!')\n",
    "        else:\n",
    "            print(f'Unknown error occurred!')\n",
    "    \n",
    "    def clean_up(self):\n",
    "        self._model.dispose()\n",
    "        self._env.dispose()"
   ]
  },
  {
   "cell_type": "markdown",
   "metadata": {},
   "source": [
    "@lst-solver-scip presents an LP solver implementation in class `LpSolverSCIP` using SCIP.\n",
    "The constructor requires the same of parameters as defined in `LpSolverGurobi`.\n",
    "The model building process is similar with minor changes when required to create decision variables, constraints and the objective function."
   ]
  },
  {
   "cell_type": "code",
   "execution_count": 105,
   "metadata": {},
   "outputs": [],
   "source": [
    "#| lst-label: lst-solver-scip\n",
    "#| lst-cap: A LP solver based on SCIP\n",
    "\n",
    "import pyscipopt as scip\n",
    "from pyscipopt import SCIP_PARAMSETTING\n",
    "\n",
    "class LpSolverSCIP:\n",
    "    \n",
    "    def __init__(self, obj_coeff, constr_mat, rhs, verbose=False):\n",
    "        self._model = scip.Model('LpModel')\n",
    "        if not verbose:\n",
    "            self._model.hideOutput()\n",
    "    \n",
    "        # create variables\n",
    "        self._vars = {\n",
    "            i: self._model.addVar(lb=0, vtype='C')\n",
    "            for i in range(len(obj_coeff))\n",
    "        }\n",
    "        \n",
    "        # create constraints\n",
    "        for c in range(len(rhs)):\n",
    "            expr = [\n",
    "                constr_mat[c][j] * self._vars.get(j)\n",
    "                for j in range(len(obj_coeff))\n",
    "            ]\n",
    "            self._model.addCons(scip.quicksum(expr) == rhs[c])\n",
    "            \n",
    "        # create objective\n",
    "        obj_expr = [\n",
    "            obj_coeff[i] * self._vars.get(i)\n",
    "            for i in range(len(obj_coeff))\n",
    "        ]\n",
    "        self._model.setObjective(scip.quicksum(obj_expr), \"minimize\")\n",
    "    \n",
    "    def optimize(self):\n",
    "        self._model.optimize()\n",
    "        status = self._model.getStatus()\n",
    "        if status == \"optimal\":\n",
    "            print(f'Optimal solution found!')\n",
    "            print(f'Optimal objective = {self._model.getObjVal():.2f}')\n",
    "        elif self._model.status == \"unbounded\":\n",
    "            print(f'Model is unbounded!')\n",
    "        elif self._model.status == \"infeasible\":\n",
    "            print(f'Model is infeasible!')\n",
    "        else:\n",
    "            print(f'Unknown error occurred!')"
   ]
  },
  {
   "cell_type": "markdown",
   "metadata": {},
   "source": [
    "@lst-lp-exp1 generates a LP problem with 20 decision variables and 5 constraints."
   ]
  },
  {
   "cell_type": "code",
   "execution_count": 106,
   "metadata": {},
   "outputs": [],
   "source": [
    "#| lst-label: lst-lp-exp1\n",
    "#| lst-cap: A randomly generated LP problem\n",
    "\n",
    "import numpy as np\n",
    "\n",
    "np.random.seed(42)\n",
    "c = np.random.randint(1, 6, size=20)\n",
    "A = np.random.randint(-10, 12, size=(5, 20))\n",
    "b = np.random.randint(20, 100, size=5)"
   ]
  },
  {
   "cell_type": "markdown",
   "metadata": {},
   "source": [
    "@lst-lp-solver-gurobi-test1 solves the generated LP using `LpSolverGurobi` and the solver output shows that an optimal solution was found with objective value of 36.90."
   ]
  },
  {
   "cell_type": "code",
   "execution_count": 107,
   "metadata": {},
   "outputs": [
    {
     "name": "stdout",
     "output_type": "stream",
     "text": [
      "Optimal solution found!\n",
      "Optimal objective = 36.90\n"
     ]
    }
   ],
   "source": [
    "#| lst-label: lst-lp-solver-gurobi-test1\n",
    "#| lst-cap: Solving the generated LP with Gurobi\n",
    "\n",
    "lpsolver_gurobi = LpSolverGurobi(obj_coeff=c, constr_mat=A, rhs=b) # <1>\n",
    "lpsolver_gurobi.optimize()"
   ]
  },
  {
   "cell_type": "markdown",
   "metadata": {},
   "source": [
    "@lst-lp-solver-scip-test1 solves the same LP problem using SCIP and not surprisingly, the same optimal objective value was found.\n",
    "This is not exciting, as it only indicates that the two solvers agree on the optimal solution on such a small LP problem as expected.\n",
    "However, they will become more useful in the following sections when we use them to validate our Benders decomposition results."
   ]
  },
  {
   "cell_type": "code",
   "execution_count": 108,
   "metadata": {},
   "outputs": [
    {
     "name": "stdout",
     "output_type": "stream",
     "text": [
      "Optimal solution found!\n",
      "Optimal objective = 36.90\n"
     ]
    }
   ],
   "source": [
    "#| lst-label: lst-lp-solver-scip-test1\n",
    "#| lst-cap: Solving the generated LP with SCIP\n",
    "\n",
    "lpsolver_scip = LpSolverSCIP(obj_coeff=c, constr_mat=A, rhs=b)\n",
    "lpsolver_scip.optimize()"
   ]
  },
  {
   "cell_type": "markdown",
   "metadata": {},
   "source": [
    "### A serious LP problem that cannot wait to be decomposed!"
   ]
  },
  {
   "cell_type": "markdown",
   "metadata": {},
   "source": [
    "With the validation tools available for use, we are ready to solve some serious LP problems using Benders decomposition!\n",
    "What we have below is a LP problem with five decision variables, three of which are denoted by $\\mathbf{x} = (x_1, x_2, x_3)$ and the remaining two variables are denoted by $\\mathbf{y} = (y_1, y_2)$.\n",
    "We assume that $\\mathbf{y}$ are the complicating variables."
   ]
  },
  {
   "cell_type": "markdown",
   "metadata": {},
   "source": [
    "\\begin{align*}\n",
    "    \\text{min.} &\\quad 8x_1 + 12x_2 +10x_3 + 15y_1 + 18y_2 \\\\\n",
    "    \\text{s.t.} &\\quad 2x_1 + 3x_2 + 2x_3 + 4y_1 + 5y_2 = 300 \\\\\n",
    "    &\\quad 4x_1 + 2x_2 + 3x_3 + 2y_1 + 3y_2 = 220 \\\\\n",
    "    &\\quad x_i \\geq 0, \\ \\forall i = 1, \\cdots, 3 \\\\\n",
    "    &\\quad y_i \\geq 0, \\ \\forall j = 1, 2\n",
    "\\end{align*}"
   ]
  },
  {
   "cell_type": "markdown",
   "metadata": {},
   "source": [
    "According to the standard LP form presented in the previous section, $\\mathbf{c}^T = (8, 12, 10)$, $\\mathbf{f}^T = (15, 18)$ and $\\mathbf{b}^T = (300, 220)$.\n",
    "In addition,"
   ]
  },
  {
   "cell_type": "markdown",
   "metadata": {},
   "source": [
    "\\begin{equation*}\n",
    "\\mathbf{A} = \n",
    "\\begin{bmatrix}\n",
    "    2 & 3 & 2 \\\\\n",
    "    4 & 2 & 3 \\\\\n",
    "\\end{bmatrix}\n",
    "\\qquad\n",
    "\\mathbf{B} = \n",
    "\\begin{bmatrix}\n",
    "    4 & 5 \\\\\n",
    "    2 & 3 \\\\\n",
    "\\end{bmatrix}\n",
    "\\end{equation*}"
   ]
  },
  {
   "cell_type": "markdown",
   "metadata": {},
   "source": [
    "@lst-lp2 solves the LP problem using the two solvers define above. Both solvers confirm the optimal objective value is 1091.43.\n",
    "With this information in mind, we will apply Benders decomposition to see if the same optimal solution could be identified or not."
   ]
  },
  {
   "cell_type": "code",
   "execution_count": 109,
   "metadata": {},
   "outputs": [
    {
     "name": "stdout",
     "output_type": "stream",
     "text": [
      "Optimal solution found!\n",
      "Optimal objective = 1091.43\n",
      "Optimal solution found!\n",
      "Optimal objective = 1091.43\n"
     ]
    }
   ],
   "source": [
    "#| lst-label: lst-lp2\n",
    "#| lst-cap: Solve the LP problem with Gurobi and SCIP\n",
    "\n",
    "c = np.array([8, 12, 10])\n",
    "f = np.array([15, 18])\n",
    "obj_coeff = np.concatenate([c, f])\n",
    "\n",
    "A = np.array([[2, 3, 2],\n",
    "     [4, 2, 3]])\n",
    "B = np.array([[4, 5],\n",
    "     [2, 3]])\n",
    "constr_mat = np.concatenate([A, B], axis=1)\n",
    "\n",
    "rhs = np.array([300, 220])\n",
    "\n",
    "lpsolver_gurobi = LpSolverGurobi(obj_coeff, constr_mat, rhs, verbose=False)\n",
    "lpsolver_gurobi.optimize()\n",
    "# Optimal objective = 1091.43\n",
    "\n",
    "lpsolver_scip = LpSolverSCIP(obj_coeff, constr_mat, rhs, verbose=False)\n",
    "lpsolver_scip.optimize()\n",
    "# Optimal objective = 1091.43"
   ]
  },
  {
   "cell_type": "markdown",
   "metadata": {},
   "source": [
    "### Benders decomposition formulations"
   ]
  },
  {
   "cell_type": "markdown",
   "metadata": {},
   "source": [
    "With $\\mathbf{y}$ being the complicating variable, we state the Benders subproblem (**SP**) below for the $\\mathbf{y}$ assuming fixed values $\\mathbf{\\bar{y}} = (\\bar{y_1}, \\bar{y_2})$:"
   ]
  },
  {
   "cell_type": "markdown",
   "metadata": {},
   "source": [
    "\\begin{align*}\n",
    "    \\text{min.} &\\quad 8x_1 + 12x_2 +10x_3 \\\\\n",
    "    \\text{s.t.} &\\quad 2x_1 + 3x_2 + 2x_3 = 300 - 4\\bar{y_1} - 5\\bar{y_2} \\\\\n",
    "    &\\quad 4x_1 + 2x_2 + 3x_3 = 220 - 2\\bar{y_1} - 3\\bar{y_2} \\\\\n",
    "    &\\quad x_i \\geq 0, \\ \\forall i = 1, \\cdots, 3\n",
    "\\end{align*}"
   ]
  },
  {
   "cell_type": "markdown",
   "metadata": {},
   "source": [
    "We define the dual variable $\\mathbf{u} = (u_1, u_2)$ to associate with the constraints in the (**SP**).\n",
    "The dual subproblem (**DSP**) could then be stated as follows:"
   ]
  },
  {
   "cell_type": "markdown",
   "metadata": {},
   "source": [
    "\\begin{align*}\n",
    "    \\text{max.} &\\quad (300 - 4\\bar{y_1} - 5\\bar{y_2}) u_1 + (220 - 2\\bar{y_1} - 3\\bar{y_2}) u_2 \\\\\n",
    "    \\text{s.t.} &\\quad 2u_1 + 4u_2 \\leq 8\\\\\n",
    "    &\\quad 3u_1 + 2u_2 \\leq 12 \\\\\n",
    "    &\\quad 2u_1 + 3u_2 \\leq 10 \\\\\n",
    "    &\\quad u_1, u_2\\  \\text{unrestricted}\n",
    "\\end{align*}"
   ]
  },
  {
   "cell_type": "markdown",
   "metadata": {},
   "source": [
    "The (**RBMP**) can be stated as below.\n",
    "Note that $\\mathbf{u} = (0, 0)$ is a feasible solution to (**DSP**) and the corresponding objective value is 0, which is the reason we restrict the variable $g$ to be nonnegative."
   ]
  },
  {
   "cell_type": "markdown",
   "metadata": {},
   "source": [
    "\\begin{align*}\n",
    "    \\text{min.} &\\quad 15 y_1 + 18 y_2 + g \\\\\n",
    "    \\text{s.t.} &\\quad  y_1, y_2 \\geq 0 \\\\\n",
    "    &\\quad g \\geq 0\n",
    "\\end{align*}"
   ]
  },
  {
   "cell_type": "markdown",
   "metadata": {},
   "source": [
    "### Benders decomposition step by step"
   ]
  },
  {
   "cell_type": "markdown",
   "metadata": {},
   "source": [
    "Benders decomposition defines a problem solving process in which the restricted Benders master problem and the dual subproblem interact iteratively to identify the optimal solution or conclude infeasibility/unboundedness.\n",
    "To facilitate our understanding of the process, we demonstrate in this section the workings of Benders decomposition by solving the target LP problem step by step."
   ]
  },
  {
   "cell_type": "markdown",
   "metadata": {},
   "source": [
    "@lst-bd-rbmp shows the codes that initialize the lower bound `lb`, upper bound `ub` and threshold value `eps`.\n",
    "Furthermore, the restricted Benders master problem `rbmp` is created with three variables and a minimizing objective function.\n",
    "Note that no constraints are yet included in the model at this moment."
   ]
  },
  {
   "cell_type": "code",
   "execution_count": 110,
   "metadata": {},
   "outputs": [],
   "source": [
    "#| lst-label: lst-bd-rbmp\n",
    "#| lst-cap: Gurobi solver setup and restricted master problem initialization\n",
    "\n",
    "import numpy as np\n",
    "import gurobipy as gp\n",
    "from gurobipy import GRB\n",
    "\n",
    "# initialize lower/upper bounds and threshold value\n",
    "lb = -GRB.INFINITY\n",
    "ub = GRB.INFINITY\n",
    "eps = 1.0e-5\n",
    "\n",
    "# create restricted Benders master problem\n",
    "env = gp.Env('benders', empty=True) # <1>\n",
    "env.setParam('OutputFlag', 0)\n",
    "env.start()\n",
    "rbmp = gp.Model(env=env, name='RBMP')\n",
    "\n",
    "# create decision variables\n",
    "y1 = rbmp.addVar(vtype=GRB.CONTINUOUS, lb=0, name='y1')\n",
    "y2 = rbmp.addVar(vtype=GRB.CONTINUOUS, lb=0, name='y2')\n",
    "g = rbmp.addVar(vtype=GRB.CONTINUOUS, lb=0, name='g')\n",
    "\n",
    "# create objective\n",
    "rbmp.setObjective(15*y1 + 18*y2 + g, GRB.MINIMIZE)"
   ]
  },
  {
   "cell_type": "markdown",
   "metadata": {},
   "source": [
    "@lst-bd-dsp initializes the Benders subproblem with two decision variables and three constraints."
   ]
  },
  {
   "cell_type": "code",
   "execution_count": 111,
   "metadata": {},
   "outputs": [],
   "source": [
    "#| lst-label: lst-bd-dsp\n",
    "#| lst-cap: Dual subproblem initialization\n",
    "\n",
    "# create dual subproblem\n",
    "dsp = gp.Model(env=env, name='DSP')\n",
    "\n",
    "# create decision variables\n",
    "u1 = dsp.addVar(vtype=GRB.CONTINUOUS, name='u1')\n",
    "u2 = dsp.addVar(vtype=GRB.CONTINUOUS, name='u2')\n",
    "\n",
    "# create objective function\n",
    "dsp.setObjective(300*u1 + 220*u2)\n",
    "\n",
    "# create constraints\n",
    "dsp.addConstr(2*u1 + 4*u2 <= 8, name='c1')\n",
    "dsp.addConstr(3*u1 + 2*u2 <= 12, name='c2')\n",
    "dsp.addConstr(2*u1 + 3*u2 <= 10, name='c3')\n",
    "\n",
    "dsp.update()"
   ]
  },
  {
   "cell_type": "markdown",
   "metadata": {},
   "source": [
    "In @lst-bd-iter1-rbmp, we solve the (**RBMP**) for the first time.\n",
    "It has an optimal solution with $(\\bar{y_1}, \\bar{y_2}, \\bar{g}) = (0, 0, 0)$ and optimal objective value of 0.\n",
    "This is expected as all the variables assume their minimal possible values in order to minimize the objective function.\n",
    "This objective value also serves as the new lower bound."
   ]
  },
  {
   "cell_type": "code",
   "execution_count": 112,
   "metadata": {},
   "outputs": [
    {
     "name": "stdout",
     "output_type": "stream",
     "text": [
      "Optimal solution found! Objective value = 0.00\n",
      "(y1, y2, g) = (0.00, 0.00, 0.00)\n",
      "lb=0.0, ub=1e+100\n"
     ]
    }
   ],
   "source": [
    "#| lst-label: lst-bd-iter1-rbmp\n",
    "#| lst-cap: Iteration 1 - solving the restricted Benders master problem\n",
    "\n",
    "rbmp.optimize()\n",
    "\n",
    "if rbmp.status == GRB.OPTIMAL:\n",
    "    print(f'Optimal solution found! Objective value = {rbmp.objVal:.2f}')\n",
    "    \n",
    "    y1_opt, y2_opt, g_opt = y1.X, y2.X, g.X\n",
    "    lb = np.max([lb, rbmp.objVal])\n",
    "    \n",
    "    print(f'(y1, y2, g) = ({y1_opt:.2f}, {y2_opt:.2f}, {g_opt:.2f})')\n",
    "    print(f'lb={lb}, ub={ub}')\n",
    "elif rbmp.status == GRB.INFEASIBLE:\n",
    "    print(f'original problem is infeasible!')"
   ]
  },
  {
   "cell_type": "markdown",
   "metadata": {},
   "source": [
    "Given that $(\\bar{y_1}, \\bar{y_2}, \\bar{g}) = (0, 0, 0)$, we now feed the values of $\\bar{y_1}$ and $\\bar{y_2}$ into the Benders dual subproblem **(DSP)** by updating its objective function, as shown in @lst-bd-iter1-dsp:"
   ]
  },
  {
   "cell_type": "code",
   "execution_count": 113,
   "metadata": {},
   "outputs": [
    {
     "name": "stdout",
     "output_type": "stream",
     "text": [
      "Optimal objective = 1200.00\n",
      "(u1, u2) = (4.00, 0.00)\n",
      "lb=0.0, ub=1200.0\n"
     ]
    }
   ],
   "source": [
    "#| lst-label: lst-bd-iter1-dsp\n",
    "#| lst-cap: Iteration 1 - solving the dual subproblem\n",
    "\n",
    "# update objective function\n",
    "dsp.setObjective((300-4*y1_opt-5*y2_opt)*u1 + \n",
    "                 (220-2*y1_opt-3*y2_opt)*u2, \n",
    "                 GRB.MAXIMIZE)\n",
    "dsp.update()\n",
    "dsp.optimize()\n",
    "\n",
    "if dsp.status == GRB.OPTIMAL:\n",
    "    u1_opt, u2_opt = u1.X, u2.X\n",
    "    \n",
    "    print(f'Optimal objective = {dsp.objVal:.2f}')\n",
    "    print(f'(u1, u2) = ({u1_opt:.2f}, {u2_opt:.2f})')\n",
    "    ub = np.min([ub, 15*y1_opt + 18*y2_opt + dsp.objVal])\n",
    "    print(f'lb={lb}, ub={ub}')"
   ]
  },
  {
   "cell_type": "markdown",
   "metadata": {},
   "source": [
    "We see that the dual subproblem has an optimal solution.\n",
    "The upper bound `ub` is also updated.\n",
    "Since the optimal objective value of the subproblem turns out to be 1200 and is greater than $\\bar{g} = 0$, which implies that an optimality cut is needed to make sure that the variable $g$ in the restricted Benders master problem reflects this newly obtained information from the subproblem."
   ]
  },
  {
   "cell_type": "markdown",
   "metadata": {},
   "source": [
    "In @lst-bd-iter2-rbmp, the new optimality cut is added to the (**RBMP**), which is then solved to optimality."
   ]
  },
  {
   "cell_type": "code",
   "execution_count": 114,
   "metadata": {},
   "outputs": [
    {
     "name": "stdout",
     "output_type": "stream",
     "text": [
      "Optimal solution found! Objective value = 1080.00\n",
      "(y1, y2, g) = (0.00, 60.00, 0.00)\n",
      "lb=1080.0, ub=1200.0\n"
     ]
    }
   ],
   "source": [
    "#| lst-label: lst-bd-iter2-rbmp\n",
    "#| lst-cap: Iteration 2 - solving the restricted Benders master problem\n",
    "\n",
    "# add optimality cut\n",
    "rbmp.addConstr((300-4*y1-5*y2)*u1_opt \n",
    "               + (220-2*y1-3*y2)*u2_opt <= g, \n",
    "               name='c1')\n",
    "rbmp.update()\n",
    "rbmp.optimize()\n",
    "\n",
    "if rbmp.status == GRB.OPTIMAL:\n",
    "    print(f'Optimal solution found! Objective value = {rbmp.objVal:.2f}')\n",
    "    \n",
    "    y1_opt, y2_opt, g_opt = y1.X, y2.X, g.X\n",
    "    lb = np.max([lb, rbmp.objVal])\n",
    "    \n",
    "    print(f'(y1, y2, g) = ({y1_opt:.2f}, {y2_opt:.2f}, {g_opt:.2f})')\n",
    "    print(f'lb={lb}, ub={ub}')\n",
    "elif rbmp.status == GRB.INFEASIBLE:\n",
    "    print(f'original problem is infeasible!')"
   ]
  },
  {
   "cell_type": "markdown",
   "metadata": {},
   "source": [
    "Armed with the optimal solution $(\\bar{y_1}, \\bar{y_2}, \\bar{g}) = (0, 60, 0)$, @lst-bd-iter2-dsp updates the objective function of the (**DSP**) and obtains its optimal solution."
   ]
  },
  {
   "cell_type": "code",
   "execution_count": 115,
   "metadata": {},
   "outputs": [
    {
     "name": "stdout",
     "output_type": "stream",
     "text": [
      "Optimal objective = 80.00\n",
      "(u1, u2) = (0.00, 2.00)\n",
      "lb=1080.0, ub=1160.00\n"
     ]
    }
   ],
   "source": [
    "#| lst-label: lst-bd-iter2-dsp\n",
    "#| lst-cap: Iteration 2 - solving the dual subproblem\n",
    "\n",
    "# update objective function\n",
    "dsp.setObjective((300-4*y1_opt-5*y2_opt)*u1 \n",
    "                 + (220-2*y1_opt-3*y2_opt)*u2, \n",
    "                 GRB.MAXIMIZE)\n",
    "dsp.update()\n",
    "dsp.optimize()\n",
    "\n",
    "if dsp.status == GRB.OPTIMAL:\n",
    "    u1_opt, u2_opt = u1.X, u2.X\n",
    "    \n",
    "    print(f'Optimal objective = {dsp.objVal:.2f}')\n",
    "    print(f'(u1, u2) = ({u1_opt:.2f}, {u2_opt:.2f})')\n",
    "    ub = np.min([ub, 15*y1_opt + 18*y2_opt + dsp.objVal])\n",
    "    print(f'lb={lb}, ub={ub:.2f}')"
   ]
  },
  {
   "cell_type": "markdown",
   "metadata": {},
   "source": [
    "Since the dual subproblem objective value is bigger than $\\bar{g}$, an optimality cut is further needed.\n",
    "In @lst-bd-iter3-rbmp, we add the new cut and solve the restricted Benders master problem again."
   ]
  },
  {
   "cell_type": "code",
   "execution_count": 116,
   "metadata": {},
   "outputs": [
    {
     "name": "stdout",
     "output_type": "stream",
     "text": [
      "Optimal solution found! Objective value = 1091.43\n",
      "(y1, y2, g) = (0.00, 54.29, 114.29)\n",
      "lb=1091.43, ub=1160.00\n"
     ]
    }
   ],
   "source": [
    "#| lst-label: lst-bd-iter3-rbmp\n",
    "#| lst-cap: Iteration 3 - solving the restricted Benders master problem\n",
    "\n",
    "# add optimality cut\n",
    "rbmp.addConstr((300-4*y1-5*y2)*u1_opt \n",
    "               + (220-2*y1-3*y2)*u2_opt <= g, \n",
    "               name='c2')\n",
    "rbmp.update()\n",
    "rbmp.optimize()\n",
    "\n",
    "if rbmp.status == GRB.OPTIMAL:\n",
    "    print(f'Optimal solution found! Objective value = {rbmp.objVal:.2f}')\n",
    "    \n",
    "    y1_opt, y2_opt, g_opt = y1.X, y2.X, g.X\n",
    "    lb = np.max([lb, rbmp.objVal])\n",
    "    \n",
    "    print(f'(y1, y2, g) = ({y1_opt:.2f}, {y2_opt:.2f}, {g_opt:.2f})')\n",
    "    print(f'lb={lb:.2f}, ub={ub:.2f}')\n",
    "elif rbmp.status == GRB.INFEASIBLE:\n",
    "    print(f'original problem is infeasible!')"
   ]
  },
  {
   "cell_type": "markdown",
   "metadata": {},
   "source": [
    "Note that a new lower bound is obtained after solving the master problem.\n",
    "Since there is still a large gap between the lower bound and upper bound, we continue solving the subproblem in @lst-bd-iter3-dsp."
   ]
  },
  {
   "cell_type": "code",
   "execution_count": 117,
   "metadata": {},
   "outputs": [
    {
     "name": "stdout",
     "output_type": "stream",
     "text": [
      "Optimal objective = 114.29\n",
      "(u1, u2) = (0.00, 2.00)\n",
      "lb=1091.43, ub=1091.43\n"
     ]
    }
   ],
   "source": [
    "#| lst-label: lst-bd-iter3-dsp\n",
    "#| lst-cap: Iteration 3 - solving the dual subproblem\n",
    "\n",
    "# update objective function\n",
    "dsp.setObjective((300-4*y1_opt-5*y2_opt)*u1 \n",
    "                 + (220-2*y1_opt-3*y2_opt)*u2, \n",
    "                 GRB.MAXIMIZE)\n",
    "dsp.update()\n",
    "dsp.optimize()\n",
    "\n",
    "if dsp.status == GRB.OPTIMAL:\n",
    "    u1_opt, u2_opt = u1.X, u2.X\n",
    "    \n",
    "    print(f'Optimal objective = {dsp.objVal:.2f}')\n",
    "    print(f'(u1, u2) = ({u1_opt:.2f}, {u2_opt:.2f})')\n",
    "    ub = np.min([ub, 15*y1_opt + 18*y2_opt + dsp.objVal])\n",
    "    print(f'lb={lb:.2f}, ub={ub:.2f}')"
   ]
  },
  {
   "cell_type": "markdown",
   "metadata": {},
   "source": [
    "Now that the difference between `lb` and `ub` is less than the preset threshold `eps`, we conclude that an optimal solution is reached and the computation resources are freed up."
   ]
  },
  {
   "cell_type": "code",
   "execution_count": 134,
   "metadata": {},
   "outputs": [],
   "source": [
    "# release resources\n",
    "rbmp.dispose()\n",
    "dsp.dispose()\n",
    "env.dispose()"
   ]
  },
  {
   "cell_type": "markdown",
   "metadata": {},
   "source": [
    "### Putting it together"
   ]
  },
  {
   "cell_type": "markdown",
   "metadata": {},
   "source": [
    "It usually takes many iterations of solving the (**RBMP**) and (**DSP**) sequentially before reaching optimality.\n",
    "Certainly we don't want to manually control the interaction between the master problem and subproblem to find the optimal solution.\n",
    "Therefore, in this section, we will put everything together to come up with a control flow to help us identify the optimal solution automatically."
   ]
  },
  {
   "cell_type": "code",
   "execution_count": 118,
   "metadata": {},
   "outputs": [],
   "source": [
    "import gurobipy as gp\n",
    "from gurobipy import GRB\n",
    "import numpy as np\n",
    "from enum import Enum\n",
    "\n",
    "class OptStatus(Enum):\n",
    "    OPTIMAL = 0\n",
    "    UNBOUNDED = 1\n",
    "    INFEASIBLE = 2\n",
    "    ERROR = 3"
   ]
  },
  {
   "cell_type": "code",
   "execution_count": 119,
   "metadata": {},
   "outputs": [],
   "source": [
    "class MasterSolver:\n",
    "    \n",
    "    def __init__(self, env):\n",
    "        self._model = gp.Model(env=env, name='RBMP')\n",
    "        \n",
    "        # create decision variables\n",
    "        self._y1 = self._model.addVar(vtype=GRB.CONTINUOUS, lb=0, name='y1')\n",
    "        self._y2 = self._model.addVar(vtype=GRB.CONTINUOUS, lb=0, name='y2')\n",
    "        self._g = self._model.addVar(vtype=GRB.CONTINUOUS, lb=0, name='g')\n",
    "\n",
    "        # create objective\n",
    "        self._model.setObjective(15*self._y1 + 18*self._y2 + self._g, GRB.MINIMIZE)\n",
    "        \n",
    "        self._opt_obj = None\n",
    "        self._opt_y1 = None\n",
    "        self._opt_y2 = None\n",
    "        self._opt_g = None\n",
    "        \n",
    "    def solve(self) -> OptStatus:\n",
    "        print('-' * 50)\n",
    "        print(f'Start solving master problem.')\n",
    "        self._model.optimize()\n",
    "        \n",
    "        opt_status = None\n",
    "        if self._model.status == GRB.OPTIMAL:\n",
    "            opt_status = OptStatus.OPTIMAL\n",
    "            self._opt_obj = self._model.objVal\n",
    "            self._opt_y1 = self._y1.X\n",
    "            self._opt_y2 = self._y2.X\n",
    "            self._opt_g = self._g.X\n",
    "            print(f'\\tmaster problem is optimal.')\n",
    "            print(f'\\topt_obj={self._opt_obj:.2f}')\n",
    "            print(f'\\topt_y1={self._opt_y1:.2f}, opt_y2={self._opt_y2:.2f}, opt_g={self._opt_g:.2f}')\n",
    "        elif self._model.status == GRB.INFEASIBLE:\n",
    "            print(f'\\tmaster problem is infeasible.')\n",
    "            opt_status = OptStatus.INFEASIBLE\n",
    "        else:\n",
    "            print(f'\\tmaster problem encountered error.')\n",
    "            opt_status = OptStatus.ERROR\n",
    "        \n",
    "        print(f'Finish solving master problem.') \n",
    "        print('-' * 50)\n",
    "        return opt_status\n",
    "    \n",
    "    def add_feasibility_cut(self, opt_u1, opt_u2) -> None:\n",
    "        self._model.addConstr((300 - 4*self._y1 - 5*self._y2) * opt_u1 + \n",
    "                              (220 - 2*self._y1 - 3*self._y2) * opt_u2 <= 0)\n",
    "        print(f'Benders feasibility cut added!')\n",
    "    \n",
    "    def add_optimality_cut(self, opt_u1, opt_u2) -> None:\n",
    "        self._model.addConstr((300 - 4*self._y1 - 5*self._y2) * opt_u1 + \n",
    "                              (220 - 2*self._y1 - 3*self._y2) * opt_u2 <= self._g)\n",
    "        print(f'Benders optimality cut added!')\n",
    "    \n",
    "    def clean_up(self):\n",
    "        self._model.dispose()\n",
    "        \n",
    "    @property\n",
    "    def opt_obj(self):\n",
    "        return self._opt_obj\n",
    "    \n",
    "    @property\n",
    "    def opt_y1(self):\n",
    "        return self._opt_y1\n",
    "    \n",
    "    @property\n",
    "    def opt_y2(self):\n",
    "        return self._opt_y2\n",
    "    \n",
    "    @property\n",
    "    def opt_g(self):\n",
    "        return self._g"
   ]
  },
  {
   "cell_type": "code",
   "execution_count": 120,
   "metadata": {},
   "outputs": [],
   "source": [
    "class DualSubprobSolver:\n",
    "    \n",
    "    def __init__(self, env):\n",
    "        self._model = gp.Model(env=env, name='DSP')\n",
    "        \n",
    "        # create decision variables\n",
    "        self._u1 = self._model.addVar(vtype=GRB.CONTINUOUS, name='u1')\n",
    "        self._u2 = self._model.addVar(vtype=GRB.CONTINUOUS, name='u2')\n",
    "        \n",
    "        # create constraints\n",
    "        self._model.addConstr(2*self._u1 + 4*self._u2 <= 8, name='c1')\n",
    "        self._model.addConstr(3*self._u1 + 2*self._u2 <= 12, name='c2')\n",
    "        self._model.addConstr(2*self._u1 + 3*self._u2 <= 10, name='c3')\n",
    "        \n",
    "        self._model.setObjective(1, GRB.MAXIMIZE)\n",
    "        self._model.update()\n",
    "        \n",
    "        self._opt_obj = None\n",
    "        self._opt_u1 = None\n",
    "        self._opt_u2 = None\n",
    "    \n",
    "    def solve(self):\n",
    "        print('-' * 50)\n",
    "        print(f'Start solving dual subproblem.')\n",
    "        self._model.optimize()\n",
    "        \n",
    "        status = None\n",
    "        if self._model.status == GRB.OPTIMAL:\n",
    "            self._opt_obj = self._model.objVal\n",
    "            self._opt_u1 = self._u1.X\n",
    "            self._opt_u2 = self._u2.X\n",
    "            status = OptStatus.OPTIMAL\n",
    "            print(f'\\tdual subproblem is optimal.')\n",
    "            print(f'\\topt_obj={self._opt_obj:.2f}')\n",
    "            print(f'\\topt_y1={self._opt_u1:.2f}, opt_y2={self._opt_u2:.2f}')\n",
    "        elif self._model.status == GRB.UNBOUNDED:\n",
    "            status = OptStatus.UNBOUNDED\n",
    "        else:\n",
    "            status = OptStatus.ERROR\n",
    "        \n",
    "        print(f'Finish solving dual subproblem.')\n",
    "        print('-' * 50)\n",
    "        return status\n",
    "    \n",
    "    def update_objective(self, opt_y1, opt_y2):\n",
    "        self._model.setObjective((300-4*opt_y1-5*opt_y2)*self._u1 + (220-2*opt_y1-3*opt_y2)*self._u2, GRB.MAXIMIZE)\n",
    "        print(f'dual subproblem objective updated!')\n",
    "    \n",
    "    def clean_up(self):\n",
    "        self._model.dispose()\n",
    "        \n",
    "    @property\n",
    "    def opt_obj(self):\n",
    "        return self._opt_obj\n",
    "    \n",
    "    @property\n",
    "    def opt_u1(self):\n",
    "        return self._opt_u1\n",
    "    \n",
    "    @property\n",
    "    def opt_u2(self):\n",
    "        return self._opt_u2"
   ]
  },
  {
   "cell_type": "code",
   "execution_count": 121,
   "metadata": {},
   "outputs": [],
   "source": [
    "class BendersDecomposition:\n",
    "    \n",
    "    def __init__(self, master_solver, dual_subprob_solver):\n",
    "        self._master_solver = master_solver\n",
    "        self._dual_subprob_solver = dual_subprob_solver\n",
    "        \n",
    "    \n",
    "    def optimize(self) -> OptStatus:\n",
    "        eps = 1.0e-5\n",
    "        lb = -np.inf\n",
    "        ub = np.inf\n",
    "        \n",
    "        while True:\n",
    "            # solve master problem\n",
    "            master_status = self._master_solver.solve()\n",
    "            if master_status == OptStatus.INFEASIBLE:\n",
    "                return OptStatus.INFEASIBLE\n",
    "            \n",
    "            # update lower bound\n",
    "            lb = np.max([lb, self._master_solver.opt_obj])\n",
    "            print(f'Bounds: lb={lb:.2f}, ub={ub:.2f}')\n",
    "            \n",
    "            opt_y1 = self._master_solver.opt_y1\n",
    "            opt_y2 = self._master_solver.opt_y2\n",
    "            \n",
    "            # solve subproblem\n",
    "            self._dual_subprob_solver.update_objective(opt_y1, opt_y2)\n",
    "            dsp_status = self._dual_subprob_solver.solve()\n",
    "            \n",
    "            if dsp_status == OptStatus.OPTIMAL:\n",
    "                # update upper bound\n",
    "                opt_obj = self._dual_subprob_solver.opt_obj\n",
    "                ub = np.min([ub, 15*opt_y1 + 18*opt_y2 + opt_obj])\n",
    "                print(f'Bounds: lb={lb:.2f}, ub={ub:.2f}')\n",
    "                \n",
    "                if ub - lb <= eps:\n",
    "                    break\n",
    "                \n",
    "                opt_u1 = self._dual_subprob_solver.opt_u1\n",
    "                opt_u2 = self._dual_subprob_solver.opt_u2\n",
    "                self._master_solver.add_optimality_cut(opt_u1, opt_u2) \n",
    "            elif dsp_status == OptStatus.UNBOUNDED:\n",
    "                opt_u1 = self._dual_subprob_solver.opt_u1\n",
    "                opt_u2 = self._dual_subprob_solver.opt_u2\n",
    "                self._master_solver.add_feasibility_cut(opt_u1, opt_u2) \n",
    "            "
   ]
  },
  {
   "cell_type": "code",
   "execution_count": 122,
   "metadata": {},
   "outputs": [
    {
     "name": "stdout",
     "output_type": "stream",
     "text": [
      "Set parameter Username\n",
      "Set parameter LogFile to value \"benders\"\n",
      "--------------------------------------------------\n",
      "Start solving master problem.\n",
      "\tmaster problem is optimal.\n",
      "\topt_obj=0.00\n",
      "\topt_y1=0.00, opt_y2=0.00, opt_g=0.00\n",
      "Finish solving master problem.\n",
      "--------------------------------------------------\n",
      "Bounds: lb=0.00, ub=inf\n",
      "dual subproblem objective updated!\n",
      "--------------------------------------------------\n",
      "Start solving dual subproblem.\n",
      "\tdual subproblem is optimal.\n",
      "\topt_obj=1200.00\n",
      "\topt_y1=4.00, opt_y2=0.00\n",
      "Finish solving dual subproblem.\n",
      "--------------------------------------------------\n",
      "Bounds: lb=0.00, ub=1200.00\n",
      "Benders optimality cut added!\n",
      "--------------------------------------------------\n",
      "Start solving master problem.\n",
      "\tmaster problem is optimal.\n",
      "\topt_obj=1080.00\n",
      "\topt_y1=0.00, opt_y2=60.00, opt_g=0.00\n",
      "Finish solving master problem.\n",
      "--------------------------------------------------\n",
      "Bounds: lb=1080.00, ub=1200.00\n",
      "dual subproblem objective updated!\n",
      "--------------------------------------------------\n",
      "Start solving dual subproblem.\n",
      "\tdual subproblem is optimal.\n",
      "\topt_obj=80.00\n",
      "\topt_y1=0.00, opt_y2=2.00\n",
      "Finish solving dual subproblem.\n",
      "--------------------------------------------------\n",
      "Bounds: lb=1080.00, ub=1160.00\n",
      "Benders optimality cut added!\n",
      "--------------------------------------------------\n",
      "Start solving master problem.\n",
      "\tmaster problem is optimal.\n",
      "\topt_obj=1091.43\n",
      "\topt_y1=0.00, opt_y2=54.29, opt_g=114.29\n",
      "Finish solving master problem.\n",
      "--------------------------------------------------\n",
      "Bounds: lb=1091.43, ub=1160.00\n",
      "dual subproblem objective updated!\n",
      "--------------------------------------------------\n",
      "Start solving dual subproblem.\n",
      "\tdual subproblem is optimal.\n",
      "\topt_obj=114.29\n",
      "\topt_y1=0.00, opt_y2=2.00\n",
      "Finish solving dual subproblem.\n",
      "--------------------------------------------------\n",
      "Bounds: lb=1091.43, ub=1091.43\n"
     ]
    }
   ],
   "source": [
    "env = gp.Env('benders')\n",
    "env.setParam(\"OutputFlag\",0)\n",
    "master_solver = MasterSolver(env)\n",
    "dual_subprob_solver = DualSubprobSolver(env)\n",
    "\n",
    "benders_decomposition = BendersDecomposition(master_solver, dual_subprob_solver)\n",
    "benders_decomposition.optimize()"
   ]
  },
  {
   "cell_type": "markdown",
   "metadata": {},
   "source": [
    "### A generic solver"
   ]
  },
  {
   "cell_type": "markdown",
   "metadata": {},
   "source": [
    "In this section, we will create a more generic Benders decomposition based solver for linear programming problems."
   ]
  },
  {
   "cell_type": "code",
   "execution_count": 135,
   "metadata": {},
   "outputs": [],
   "source": [
    "class GenericLpMasterSolver:\n",
    "    \n",
    "    def __init__(self, f: np.array, B: np.array, b: np.array):\n",
    "        # save data\n",
    "        self._f = f\n",
    "        self._B = B\n",
    "        self._b = b \n",
    "        \n",
    "        # env and model\n",
    "        self._env = gp.Env('MasterEnv')\n",
    "        self._env.setParam(\"OutputFlag\",0)\n",
    "        self._model = gp.Model(env=self._env, name='MasterSolver')\n",
    "        \n",
    "        # create variables\n",
    "        self._num_y_vars = len(f)\n",
    "        self._y = self._model.addVars(self._num_y_vars, lb=0, vtype=GRB.CONTINUOUS, name='y')\n",
    "        self._g = self._model.addVar(vtype=GRB.CONTINUOUS, lb=0, name='g')\n",
    "        \n",
    "        # create objective\n",
    "        self._model.setObjective(gp.quicksum(self._f[i] * self._y.get(i) \n",
    "                                             for i in range(self._num_y_vars)) + self._g, \n",
    "                                 GRB.MINIMIZE)\n",
    "        self._model.update()\n",
    "        \n",
    "        self._opt_obj = None\n",
    "        self._opt_obj_y = None\n",
    "        self._opt_y = None\n",
    "        self._opt_g = None\n",
    "        \n",
    "    def solve(self) -> OptStatus:\n",
    "        print('-' * 50)\n",
    "        print(f'Start solving master problem.')\n",
    "        print(self._model.display())\n",
    "        self._model.optimize()\n",
    "        \n",
    "        opt_status = None\n",
    "        if self._model.status == GRB.OPTIMAL:\n",
    "            opt_status = OptStatus.OPTIMAL\n",
    "            self._opt_obj = self._model.objVal\n",
    "            self._opt_y = {\n",
    "                i: self._y.get(i).X\n",
    "                for i in range(self._num_y_vars)\n",
    "            }\n",
    "            self._opt_g = self._g.X\n",
    "            self._opt_obj_y = self._opt_obj - self._opt_g\n",
    "            print(f'\\tmaster problem is optimal.')\n",
    "            print(f'\\topt_obj={self._opt_obj:.2f}')\n",
    "            print(f'\\topt_g={self._opt_g:.2f}')\n",
    "            # for i in range(self._num_y_vars):\n",
    "            #     print(f'\\topt_y{i}={self._opt_y.get(i)}')\n",
    "        elif self._model.status == GRB.INFEASIBLE:\n",
    "            print(f'\\tmaster problem is infeasible.')\n",
    "            opt_status = OptStatus.INFEASIBLE\n",
    "        else:\n",
    "            print(f'\\tmaster problem encountered error.')\n",
    "            opt_status = OptStatus.ERROR\n",
    "        \n",
    "        print(f'Finish solving master problem.') \n",
    "        print('-' * 50)\n",
    "        return opt_status\n",
    "    \n",
    "    def add_feasibility_cut(self, opt_u: dict) -> None:\n",
    "        constr_expr = [\n",
    "            opt_u.get(u_idx) * (self._b[u_idx] - gp.quicksum(self._B[u_idx][j] * self._y.get(j) \n",
    "                                                   for j in range(self._num_y_vars)))\n",
    "            for u_idx in opt_u.keys()\n",
    "        ]\n",
    "        self._model.addConstr(gp.quicksum(constr_expr) <= 0)\n",
    "        print(f'Benders feasibility cut added!')\n",
    "    \n",
    "    def add_optimality_cut(self, opt_u: dict) -> None:\n",
    "        constr_expr = [\n",
    "            opt_u.get(u_idx) * (self._b[u_idx] - gp.quicksum(self._B[u_idx][j] * self._y.get(j) \n",
    "                                                   for j in range(self._num_y_vars)))\n",
    "            for u_idx in opt_u.keys()\n",
    "        ]\n",
    "        self._model.addConstr(gp.quicksum(constr_expr) <= self._g)\n",
    "        self._model.update()\n",
    "        print(self._model.display())\n",
    "        print(f'Benders optimality cut added!')\n",
    "    \n",
    "    def clean_up(self):\n",
    "        self._model.dispose()\n",
    "        self._env.dispose()\n",
    "        \n",
    "    @property\n",
    "    def f(self):\n",
    "        return self._f\n",
    "        \n",
    "    @property\n",
    "    def opt_obj(self):\n",
    "        return self._opt_obj\n",
    "    \n",
    "    @property\n",
    "    def opt_obj_y(self):\n",
    "        return self._opt_obj_y\n",
    "    \n",
    "    @property\n",
    "    def opt_y(self):\n",
    "        return self._opt_y\n",
    "    \n",
    "    @property\n",
    "    def opt_g(self):\n",
    "        return self._g"
   ]
  },
  {
   "cell_type": "code",
   "execution_count": 136,
   "metadata": {},
   "outputs": [],
   "source": [
    "class GenericLpSubprobSolver:\n",
    "    \n",
    "    def __init__(self, A: np.array, c: np.array, B: np.array, b: np.array):\n",
    "        # save data\n",
    "        self._A = A \n",
    "        self._c = c \n",
    "        self._b = b \n",
    "        self._B = B\n",
    "        \n",
    "        # env and model\n",
    "        self._env = gp.Env('SubprobEnv')\n",
    "        self._env.setParam(\"OutputFlag\",0)\n",
    "        self._model = gp.Model(env=self._env, name='SubprobSolver')\n",
    "\n",
    "        # create variables\n",
    "        self._num_vars = len(b)\n",
    "        self._u = self._model.addVars(self._num_vars, vtype=GRB.CONTINUOUS, name='u')\n",
    "\n",
    "        # create constraints\n",
    "        for c_idx in range(len(c)):\n",
    "            self._model.addConstr(gp.quicksum(A[:,c_idx][i] * self._u.get(i) \n",
    "                                              for i in range(len(b))) <= c[c_idx])\n",
    "        \n",
    "        self._opt_obj = None\n",
    "        self._opt_u = None\n",
    "        self._extreme_ray = None\n",
    "        \n",
    "    def solve(self):\n",
    "        print('-' * 50)\n",
    "        print(f'Start solving dual subproblem.')\n",
    "        self._model.setParam(GRB.Param.DualReductions, 0)\n",
    "        self._model.setParam(GRB.Param.InfUnbdInfo, 1)\n",
    "        self._model.optimize()\n",
    "        \n",
    "        status = None\n",
    "        if self._model.status == GRB.OPTIMAL:\n",
    "            self._opt_obj = self._model.objVal\n",
    "            self._opt_u = {\n",
    "                i: self._u.get(i).X\n",
    "                for i in range(self._num_vars)\n",
    "            }\n",
    "            status = OptStatus.OPTIMAL\n",
    "            print(f'\\tdual subproblem is optimal.')\n",
    "            print(f'\\topt_obj={self._opt_obj:.2f}')\n",
    "            # for i in range(self._num_vars):\n",
    "            #     print(f'\\topt_u{i}={self._opt_u.get(i)}')\n",
    "        elif self._model.status == GRB.UNBOUNDED:\n",
    "            status = OptStatus.UNBOUNDED\n",
    "            self._extreme_ray = {\n",
    "                i: self._u.get(i).UnbdRay\n",
    "                for i in range(self._num_vars)\n",
    "            }\n",
    "            print(f'dual subproblem is unbounded')\n",
    "            # for i in range(self._num_vars):\n",
    "            #     print(f'\\topt_u{i}={self._extreme_ray.get(i)}')\n",
    "        else:\n",
    "            status = OptStatus.ERROR\n",
    "        \n",
    "        print(f'Finish solving dual subproblem.')\n",
    "        print('-' * 50)\n",
    "        return status\n",
    "\n",
    "    def update_objective(self, opt_y: dict):\n",
    "        obj_expr = [\n",
    "            self._u.get(u_idx) * (self._b[u_idx] - sum(self._B[u_idx][j] * opt_y.get(j) \n",
    "                                                    for j in range(len(opt_y))))\n",
    "            for u_idx in range(self._num_vars)\n",
    "        ]\n",
    "        self._model.setObjective(gp.quicksum(obj_expr), GRB.MAXIMIZE)\n",
    "        print(f'dual subproblem objective updated!')\n",
    "    \n",
    "    def clean_up(self):\n",
    "        self._model.dispose()\n",
    "        self._env.dispose()\n",
    "        \n",
    "    @property\n",
    "    def opt_obj(self):\n",
    "        return self._opt_obj\n",
    "    \n",
    "    @property\n",
    "    def opt_u(self):\n",
    "        return self._opt_u\n",
    "    \n",
    "    @property\n",
    "    def extreme_ray(self):\n",
    "        return self._extreme_ray"
   ]
  },
  {
   "cell_type": "code",
   "execution_count": 137,
   "metadata": {},
   "outputs": [],
   "source": [
    "class GenericBendersSolver:\n",
    "    \n",
    "    def __init__(self, master_solver, dual_subprob_solver):\n",
    "        self._master_solver = master_solver\n",
    "        self._dual_subprob_solver = dual_subprob_solver\n",
    "        \n",
    "    \n",
    "    def optimize(self,) -> OptStatus:\n",
    "        eps = 1.0e-5\n",
    "        lb = -np.inf\n",
    "        ub = np.inf\n",
    "        \n",
    "        while True:\n",
    "            # solve master problem\n",
    "            master_status = self._master_solver.solve()\n",
    "            if master_status == OptStatus.INFEASIBLE:\n",
    "                return OptStatus.INFEASIBLE\n",
    "            \n",
    "            # update lower bound\n",
    "            lb = np.max([lb, self._master_solver.opt_obj])\n",
    "            print(f'Bounds: lb={lb:.2f}, ub={ub:.2f}')\n",
    "            \n",
    "            opt_y = self._master_solver.opt_y\n",
    "            \n",
    "            # solve subproblem\n",
    "            self._dual_subprob_solver.update_objective(opt_y)\n",
    "            dsp_status = self._dual_subprob_solver.solve()\n",
    "            \n",
    "            if dsp_status == OptStatus.OPTIMAL:\n",
    "                # update upper bound\n",
    "                opt_obj = self._dual_subprob_solver.opt_obj\n",
    "                opt_obj_y = self._master_solver.opt_obj_y\n",
    "                ub = np.min([ub, opt_obj_y + opt_obj])\n",
    "                print(f'Bounds: lb={lb:.2f}, ub={ub:.2f}')\n",
    "                \n",
    "                if ub - lb <= eps:\n",
    "                    break\n",
    "                \n",
    "                opt_u = self._dual_subprob_solver.opt_u\n",
    "                self._master_solver.add_optimality_cut(opt_u) \n",
    "            elif dsp_status == OptStatus.UNBOUNDED:\n",
    "                extreme_ray = self._dual_subprob_solver.extreme_ray\n",
    "                self._master_solver.add_feasibility_cut(extreme_ray) "
   ]
  },
  {
   "cell_type": "code",
   "execution_count": 138,
   "metadata": {},
   "outputs": [
    {
     "name": "stdout",
     "output_type": "stream",
     "text": [
      "Set parameter Username\n",
      "Set parameter LogFile to value \"MasterEnv\"\n",
      "Set parameter Username\n",
      "Set parameter LogFile to value \"SubprobEnv\"\n",
      "--------------------------------------------------\n",
      "Start solving master problem.\n",
      "None\n",
      "\tmaster problem is optimal.\n",
      "\topt_obj=0.00\n",
      "\topt_g=0.00\n",
      "Finish solving master problem.\n",
      "--------------------------------------------------\n",
      "Bounds: lb=0.00, ub=inf\n",
      "dual subproblem objective updated!\n",
      "--------------------------------------------------\n",
      "Start solving dual subproblem.\n",
      "\tdual subproblem is optimal.\n",
      "\topt_obj=1200.00\n",
      "Finish solving dual subproblem.\n",
      "--------------------------------------------------\n",
      "Bounds: lb=0.00, ub=1200.00\n",
      "None\n",
      "Benders optimality cut added!\n",
      "--------------------------------------------------\n",
      "Start solving master problem.\n",
      "None\n",
      "\tmaster problem is optimal.\n",
      "\topt_obj=1080.00\n",
      "\topt_g=0.00\n",
      "Finish solving master problem.\n",
      "--------------------------------------------------\n",
      "Bounds: lb=1080.00, ub=1200.00\n",
      "dual subproblem objective updated!\n",
      "--------------------------------------------------\n",
      "Start solving dual subproblem.\n",
      "\tdual subproblem is optimal.\n",
      "\topt_obj=80.00\n",
      "Finish solving dual subproblem.\n",
      "--------------------------------------------------\n",
      "Bounds: lb=1080.00, ub=1160.00\n",
      "None\n",
      "Benders optimality cut added!\n",
      "--------------------------------------------------\n",
      "Start solving master problem.\n",
      "None\n",
      "\tmaster problem is optimal.\n",
      "\topt_obj=1091.43\n",
      "\topt_g=114.29\n",
      "Finish solving master problem.\n",
      "--------------------------------------------------\n",
      "Bounds: lb=1091.43, ub=1160.00\n",
      "dual subproblem objective updated!\n",
      "--------------------------------------------------\n",
      "Start solving dual subproblem.\n",
      "\tdual subproblem is optimal.\n",
      "\topt_obj=114.29\n",
      "Finish solving dual subproblem.\n",
      "--------------------------------------------------\n",
      "Bounds: lb=1091.43, ub=1091.43\n"
     ]
    }
   ],
   "source": [
    "import gurobipy as gp\n",
    "from gurobipy import GRB\n",
    "import numpy as np\n",
    "\n",
    "c = np.array([8, 12, 10])\n",
    "f = np.array([15, 18])\n",
    "A = np.array([\n",
    "    [2, 3, 2],\n",
    "    [4, 2, 3]\n",
    "])\n",
    "B = np.array([\n",
    "    [4, 5],\n",
    "    [2, 3],\n",
    "])\n",
    "b = np.array([300, 220])\n",
    "\n",
    "master_solver = GenericLpMasterSolver(f, B, b)\n",
    "dual_subprob_solver = GenericLpSubprobSolver(A, c, B, b)\n",
    "\n",
    "benders_solver = GenericBendersSolver(master_solver, dual_subprob_solver)\n",
    "benders_solver.optimize()"
   ]
  },
  {
   "cell_type": "code",
   "execution_count": 139,
   "metadata": {},
   "outputs": [
    {
     "name": "stdout",
     "output_type": "stream",
     "text": [
      "Set parameter Username\n",
      "Set parameter LogFile to value \"MasterEnv\"\n",
      "Set parameter Username\n",
      "Set parameter LogFile to value \"SubprobEnv\"\n",
      "--------------------------------------------------\n",
      "Start solving master problem.\n",
      "None\n",
      "\tmaster problem is optimal.\n",
      "\topt_obj=0.00\n",
      "\topt_g=0.00\n",
      "Finish solving master problem.\n",
      "--------------------------------------------------\n",
      "Bounds: lb=0.00, ub=inf\n",
      "dual subproblem objective updated!\n",
      "--------------------------------------------------\n",
      "Start solving dual subproblem.\n",
      "\tdual subproblem is optimal.\n",
      "\topt_obj=1.00\n",
      "Finish solving dual subproblem.\n",
      "--------------------------------------------------\n",
      "Bounds: lb=0.00, ub=1.00\n",
      "None\n",
      "Benders optimality cut added!\n",
      "--------------------------------------------------\n",
      "Start solving master problem.\n",
      "None\n",
      "\tmaster problem is optimal.\n",
      "\topt_obj=1.00\n",
      "\topt_g=0.00\n",
      "Finish solving master problem.\n",
      "--------------------------------------------------\n",
      "Bounds: lb=1.00, ub=1.00\n",
      "dual subproblem objective updated!\n",
      "--------------------------------------------------\n",
      "Start solving dual subproblem.\n",
      "\tdual subproblem is optimal.\n",
      "\topt_obj=-0.00\n",
      "Finish solving dual subproblem.\n",
      "--------------------------------------------------\n",
      "Bounds: lb=1.00, ub=1.00\n"
     ]
    }
   ],
   "source": [
    "import gurobipy as gp\n",
    "from gurobipy import GRB\n",
    "import numpy as np\n",
    "\n",
    "c = np.array([1, 1, 1, 1, 1, 1])\n",
    "f = np.array([1, 1, 1, 1])\n",
    "A = np.array([\n",
    "    [1, 1, 1, 1, 1, 1]\n",
    "])\n",
    "B = np.array([\n",
    "    [1, 1, 1, 1]\n",
    "])\n",
    "b = np.array([1])\n",
    "\n",
    "master_solver = GenericLpMasterSolver(f, B, b)\n",
    "dual_subprob_solver = GenericLpSubprobSolver(A, c, B, b)\n",
    "\n",
    "benders_solver = GenericBendersSolver(master_solver, dual_subprob_solver)\n",
    "benders_solver.optimize()"
   ]
  },
  {
   "cell_type": "code",
   "execution_count": 140,
   "metadata": {},
   "outputs": [],
   "source": [
    "import gurobipy as gp\n",
    "from gurobipy import GRB\n",
    "import numpy as np\n",
    "import scipy.sparse as sp\n",
    "\n",
    "class GurobiLpSolver:\n",
    "    \n",
    "    def __init__(self, c, f, A, B, b):\n",
    "        self._env = gp.Env('GurobiEnv')\n",
    "        self._model = gp.Model(env=self._env, name='GurobiLpSolver')\n",
    "        \n",
    "        # prepare data\n",
    "        self._obj_coeff = np.concatenate((c, f))\n",
    "        print(self._obj_coeff)\n",
    "        self._constr_mat = np.concatenate((A, B), axis=1)\n",
    "        print(self._constr_mat)\n",
    "        self._rhs = b\n",
    "        self._num_vars = len(self._obj_coeff)\n",
    "        self._num_constrs = len(b)\n",
    "        \n",
    "        # create decision variables\n",
    "        self._vars = self._model.addMVar(self._num_vars, vtype=GRB.CONTINUOUS, lb=0)\n",
    "        \n",
    "        # create constraints\n",
    "        self._constrs = self._model.addConstr(self._constr_mat@self._vars == self._rhs)\n",
    "        \n",
    "        # create objective\n",
    "        self._model.setObjective(self._obj_coeff @ self._vars, GRB.MINIMIZE)\n",
    "    \n",
    "    def optimize(self):\n",
    "        self._model.update()\n",
    "        print(self._model.display())\n",
    "        self._model.optimize()\n",
    "        pass\n",
    "    \n",
    "    def clean_up(self):\n",
    "        \n",
    "        pass"
   ]
  },
  {
   "cell_type": "code",
   "execution_count": null,
   "metadata": {},
   "outputs": [],
   "source": []
  },
  {
   "cell_type": "code",
   "execution_count": 141,
   "metadata": {},
   "outputs": [
    {
     "name": "stdout",
     "output_type": "stream",
     "text": [
      "Set parameter Username\n",
      "Set parameter LogFile to value \"GurobiEnv\"\n",
      "[ 3  3  5  5  2  4  3  2  3  3  4  2  5  5  2  5  4  4  5  5  3  6  8 12\n",
      "  3  5  4  4  9  3]\n",
      "[[ 2  4  3  5  5  2  5  4  5  3  3  4  2  2  2  2  3  2  3  3 11 11 25 20\n",
      "   9  5  7  8  9  2]\n",
      " [ 5  2  2  4  3  5  4  2  3  5  4  3  2  5  2  3  5  4  5  4 23 19 23 19\n",
      "  12 12 13 15 19 19]\n",
      " [ 2  3  2  2  5  5  4  5  5  2  5  2  5  4  5  4  3  5  3  3 11 10  8 20\n",
      "  17  9 25 25 10 12]\n",
      " [ 3  5  4  3  4  2  4  2  4  2  4  2  3  3  2  5  3  2  4  2 16 23 18 20\n",
      "  20 25 14 10  2  6]\n",
      " [ 5  4  3  4  3  4  5  4  4  2  5  4  2  3  2  2  5  2  4  3  3  8 10  4\n",
      "  22 25 11 15 15  9]\n",
      " [ 5  5  5  3  2  5  2  2  3  4  2  5  4  4  2  5  4  5  5  4 21 14 22 19\n",
      "  15 19 16  8 22 23]\n",
      " [ 4  2  2  5  2  5  5  4  2  3  2  3  2  5  4  3  3  4  5  3 18  8 11  2\n",
      "  19 23 23  8 18 25]\n",
      " [ 3  2  4  5  3  2  3  5  3  4  5  2  5  4  2  4  2  4  3  5 20 19 13 24\n",
      "  19  7  4 15 24  3]\n",
      " [ 4  4  2  3  2  2  5  5  2  3  5  5  4  5  3  4  2  2  4  2 19  6 20 16\n",
      "   5 14 20 18 19  6]\n",
      " [ 4  2  3  4  4  4  2  5  2  5  5  2  3  4  4  5  4  4  2  3 25 11 17 14\n",
      "  15 12  6 23 24  6]\n",
      " [ 3  5  2  5  3  2  3  3  5  5  3  2  5  3  4  3  5  5  4  4  3 23  9 16\n",
      "  22  3 14 16 12 16]\n",
      " [ 2  3  4  3  5  5  3  5  4  4  2  5  4  3  5  2  3  4  5  4 13 11  7  2\n",
      "  15 24 13 16  4  6]\n",
      " [ 4  4  2  2  4  4  3  2  2  2  5  5  2  5  3  3  5  2  4  3  9 13 10 16\n",
      "  25 16 24 21  6 16]\n",
      " [ 3  5  5  4  3  2  3  5  2  3  5  3  5  3  3  3  5  5  5  5  3 20  5 18\n",
      "   8 19 25  2 17  7]\n",
      " [ 3  2  5  2  2  3  3  3  4  3  5  5  4  4  4  3  3  4  4  4  9 15  6 23\n",
      "  14 21 21 22 18 22]\n",
      " [ 3  2  2  3  4  3  2  4  5  3  2  2  2  3  5  3  2  2  4  4 19 17 17 17\n",
      "   4 22 12 18  4 18]\n",
      " [ 4  2  2  5  2  3  5  4  2  3  2  5  5  5  5  4  4  4  2  5  2 13 23  8\n",
      "  22 17 10 24 20 23]\n",
      " [ 2  4  2  3  2  2  2  4  4  5  2  4  4  4  2  4  3  4  5  3 10  6 20 21\n",
      "  16 15 13  3 24 16]\n",
      " [ 2  5  4  3  3  3  4  2  5  4  2  4  5  2  2  2  3  5  4  5 12 18 21  8\n",
      "  19  8 11 20 21 21]\n",
      " [ 4  2  2  2  2  2  4  3  4  3  2  2  4  2  4  3  5  2  4  3 11  4  2  9\n",
      "  13 20 23 16 16 14]]\n",
      "Minimize\n",
      "3.0 C0 + 3.0 C1 + 5.0 C2 + 5.0 C3 + 2.0 C4 + 4.0 C5 + 3.0 C6 + 2.0 C7 + 3.0 C8\n",
      "+ 3.0 C9 + 4.0 C10 + 2.0 C11 + 5.0 C12 + 5.0 C13 + 2.0 C14 + 5.0 C15 + 4.0 C16 + 4.0 C17\n",
      "+ 5.0 C18 + 5.0 C19 + 3.0 C20 + 6.0 C21 + 8.0 C22 + 12.0 C23 + 3.0 C24 + 5.0 C25\n",
      "+ 4.0 C26 + 4.0 C27 + 9.0 C28 + 3.0 C29\n",
      "Subject To\n",
      "R0: 2.0 C0 + 4.0 C1 + 3.0 C2 + 5.0 C3 + 5.0 C4 + 2.0 C5 + 5.0 C6 + 4.0 C7 + 5.0 C8 +\n",
      "3.0 C9 + 3.0 C10 + 4.0 C11 + 2.0 C12 + 2.0 C13 + 2.0 C14 + 2.0 C15 + 3.0 C16 + 2.0 C17 +\n",
      "3.0 C18 + 3.0 C19 + 11.0 C20 + 11.0 C21 + 25.0 C22 + 20.0 C23 + 9.0 C24 + 5.0 C25 + 7.0\n",
      " C26 + 8.0 C27 + 9.0 C28 + 2.0 C29 = 21\n",
      "R1: 5.0 C0 + 2.0 C1 + 2.0 C2 + 4.0 C3 + 3.0 C4 + 5.0 C5 + 4.0 C6 + 2.0 C7 + 3.0 C8 +\n",
      "5.0 C9 + 4.0 C10 + 3.0 C11 + 2.0 C12 + 5.0 C13 + 2.0 C14 + 3.0 C15 + 5.0 C16 + 4.0 C17 +\n",
      "5.0 C18 + 4.0 C19 + 23.0 C20 + 19.0 C21 + 23.0 C22 + 19.0 C23 + 12.0 C24 + 12.0 C25 +\n",
      " 13.0 C26 + 15.0 C27 + 19.0 C28 + 19.0 C29 = 26\n",
      "R2: 2.0 C0 + 3.0 C1 + 2.0 C2 + 2.0 C3 + 5.0 C4 + 5.0 C5 + 4.0 C6 + 5.0 C7 + 5.0 C8 +\n",
      "2.0 C9 + 5.0 C10 + 2.0 C11 + 5.0 C12 + 4.0 C13 + 5.0 C14 + 4.0 C15 + 3.0 C16 + 5.0 C17 +\n",
      "3.0 C18 + 3.0 C19 + 11.0 C20 + 10.0 C21 + 8.0 C22 + 20.0 C23 + 17.0 C24 + 9.0 C25 + 25.0\n",
      " C26 + 25.0 C27 + 10.0 C28 + 12.0 C29 = 38\n",
      "R3: 3.0 C0 + 5.0 C1 + 4.0 C2 + 3.0 C3 + 4.0 C4 + 2.0 C5 + 4.0 C6 + 2.0 C7 + 4.0 C8 +\n",
      "2.0 C9 + 4.0 C10 + 2.0 C11 + 3.0 C12 + 3.0 C13 + 2.0 C14 + 5.0 C15 + 3.0 C16 + 2.0 C17 +\n",
      "4.0 C18 + 2.0 C19 + 16.0 C20 + 23.0 C21 + 18.0 C22 + 20.0 C23 + 20.0 C24 + 25.0 C25 +\n",
      " 14.0 C26 + 10.0 C27 + 2.0 C28 + 6.0 C29 = 42\n",
      "R4: 5.0 C0 + 4.0 C1 + 3.0 C2 + 4.0 C3 + 3.0 C4 + 4.0 C5 + 5.0 C6 + 4.0 C7 + 4.0 C8 +\n",
      "2.0 C9 + 5.0 C10 + 4.0 C11 + 2.0 C12 + 3.0 C13 + 2.0 C14 + 2.0 C15 + 5.0 C16 + 2.0 C17 +\n",
      "4.0 C18 + 3.0 C19 + 3.0 C20 + 8.0 C21 + 10.0 C22 + 4.0 C23 + 22.0 C24 + 25.0 C25 + 11.0\n",
      " C26 + 15.0 C27 + 15.0 C28 + 9.0 C29 = 35\n",
      "R5: 5.0 C0 + 5.0 C1 + 5.0 C2 + 3.0 C3 + 2.0 C4 + 5.0 C5 + 2.0 C6 + 2.0 C7 + 3.0 C8 +\n",
      "4.0 C9 + 2.0 C10 + 5.0 C11 + 4.0 C12 + 4.0 C13 + 2.0 C14 + 5.0 C15 + 4.0 C16 + 5.0 C17 +\n",
      "5.0 C18 + 4.0 C19 + 21.0 C20 + 14.0 C21 + 22.0 C22 + 19.0 C23 + 15.0 C24 + 19.0 C25 +\n",
      " 16.0 C26 + 8.0 C27 + 22.0 C28 + 23.0 C29 = 37\n",
      "R6: 4.0 C0 + 2.0 C1 + 2.0 C2 + 5.0 C3 + 2.0 C4 + 5.0 C5 + 5.0 C6 + 4.0 C7 + 2.0 C8 +\n",
      "3.0 C9 + 2.0 C10 + 3.0 C11 + 2.0 C12 + 5.0 C13 + 4.0 C14 + 3.0 C15 + 3.0 C16 + 4.0 C17 +\n",
      "5.0 C18 + 3.0 C19 + 18.0 C20 + 8.0 C21 + 11.0 C22 + 2.0 C23 + 19.0 C24 + 23.0 C25 + 23.0\n",
      " C26 + 8.0 C27 + 18.0 C28 + 25.0 C29 = 28\n",
      "R7: 3.0 C0 + 2.0 C1 + 4.0 C2 + 5.0 C3 + 3.0 C4 + 2.0 C5 + 3.0 C6 + 5.0 C7 + 3.0 C8 +\n",
      "4.0 C9 + 5.0 C10 + 2.0 C11 + 5.0 C12 + 4.0 C13 + 2.0 C14 + 4.0 C15 + 2.0 C16 + 4.0 C17 +\n",
      "3.0 C18 + 5.0 C19 + 20.0 C20 + 19.0 C21 + 13.0 C22 + 24.0 C23 + 19.0 C24 + 7.0 C25 + 4.0\n",
      " C26 + 15.0 C27 + 24.0 C28 + 3.0 C29 = 22\n",
      "R8: 4.0 C0 + 4.0 C1 + 2.0 C2 + 3.0 C3 + 2.0 C4 + 2.0 C5 + 5.0 C6 + 5.0 C7 + 2.0 C8 +\n",
      "3.0 C9 + 5.0 C10 + 5.0 C11 + 4.0 C12 + 5.0 C13 + 3.0 C14 + 4.0 C15 + 2.0 C16 + 2.0 C17 +\n",
      "4.0 C18 + 2.0 C19 + 19.0 C20 + 6.0 C21 + 20.0 C22 + 16.0 C23 + 5.0 C24 + 14.0 C25 + 20.0\n",
      " C26 + 18.0 C27 + 19.0 C28 + 6.0 C29 = 39\n",
      "R9: 4.0 C0 + 2.0 C1 + 3.0 C2 + 4.0 C3 + 4.0 C4 + 4.0 C5 + 2.0 C6 + 5.0 C7 + 2.0 C8 +\n",
      "5.0 C9 + 5.0 C10 + 2.0 C11 + 3.0 C12 + 4.0 C13 + 4.0 C14 + 5.0 C15 + 4.0 C16 + 4.0 C17 +\n",
      "2.0 C18 + 3.0 C19 + 25.0 C20 + 11.0 C21 + 17.0 C22 + 14.0 C23 + 15.0 C24 + 12.0 C25 +\n",
      " 6.0 C26 + 23.0 C27 + 24.0 C28 + 6.0 C29 = 33\n",
      "R10: 3.0 C0 + 5.0 C1 + 2.0 C2 + 5.0 C3 + 3.0 C4 + 2.0 C5 + 3.0 C6 + 3.0 C7 + 5.0 C8 +\n",
      "5.0 C9 + 3.0 C10 + 2.0 C11 + 5.0 C12 + 3.0 C13 + 4.0 C14 + 3.0 C15 + 5.0 C16 + 5.0 C17 +\n",
      "4.0 C18 + 4.0 C19 + 3.0 C20 + 23.0 C21 + 9.0 C22 + 16.0 C23 + 22.0 C24 + 3.0 C25 + 14.0\n",
      " C26 + 16.0 C27 + 12.0 C28 + 16.0 C29 = 28\n",
      "R11: 2.0 C0 + 3.0 C1 + 4.0 C2 + 3.0 C3 + 5.0 C4 + 5.0 C5 + 3.0 C6 + 5.0 C7 + 4.0 C8 +\n",
      "4.0 C9 + 2.0 C10 + 5.0 C11 + 4.0 C12 + 3.0 C13 + 5.0 C14 + 2.0 C15 + 3.0 C16 + 4.0 C17 +\n",
      "5.0 C18 + 4.0 C19 + 13.0 C20 + 11.0 C21 + 7.0 C22 + 2.0 C23 + 15.0 C24 + 24.0 C25 + 13.0\n",
      " C26 + 16.0 C27 + 4.0 C28 + 6.0 C29 = 38\n",
      "R12: 4.0 C0 + 4.0 C1 + 2.0 C2 + 2.0 C3 + 4.0 C4 + 4.0 C5 + 3.0 C6 + 2.0 C7 + 2.0 C8 +\n",
      "2.0 C9 + 5.0 C10 + 5.0 C11 + 2.0 C12 + 5.0 C13 + 3.0 C14 + 3.0 C15 + 5.0 C16 + 2.0 C17 +\n",
      "4.0 C18 + 3.0 C19 + 9.0 C20 + 13.0 C21 + 10.0 C22 + 16.0 C23 + 25.0 C24 + 16.0 C25 +\n",
      " 24.0 C26 + 21.0 C27 + 6.0 C28 + 16.0 C29 = 47\n",
      "R13: 3.0 C0 + 5.0 C1 + 5.0 C2 + 4.0 C3 + 3.0 C4 + 2.0 C5 + 3.0 C6 + 5.0 C7 + 2.0 C8 +\n",
      "3.0 C9 + 5.0 C10 + 3.0 C11 + 5.0 C12 + 3.0 C13 + 3.0 C14 + 3.0 C15 + 5.0 C16 + 5.0 C17 +\n",
      "5.0 C18 + 5.0 C19 + 3.0 C20 + 20.0 C21 + 5.0 C22 + 18.0 C23 + 8.0 C24 + 19.0 C25 + 25.0\n",
      " C26 + 2.0 C27 + 17.0 C28 + 7.0 C29 = 28\n",
      "R14: 3.0 C0 + 2.0 C1 + 5.0 C2 + 2.0 C3 + 2.0 C4 + 3.0 C5 + 3.0 C6 + 3.0 C7 + 4.0 C8 +\n",
      "3.0 C9 + 5.0 C10 + 5.0 C11 + 4.0 C12 + 4.0 C13 + 4.0 C14 + 3.0 C15 + 3.0 C16 + 4.0 C17 +\n",
      "4.0 C18 + 4.0 C19 + 9.0 C20 + 15.0 C21 + 6.0 C22 + 23.0 C23 + 14.0 C24 + 21.0 C25 + 21.0\n",
      " C26 + 22.0 C27 + 18.0 C28 + 22.0 C29 = 45\n",
      "R15: 3.0 C0 + 2.0 C1 + 2.0 C2 + 3.0 C3 + 4.0 C4 + 3.0 C5 + 2.0 C6 + 4.0 C7 + 5.0 C8 +\n",
      "3.0 C9 + 2.0 C10 + 2.0 C11 + 2.0 C12 + 3.0 C13 + 5.0 C14 + 3.0 C15 + 2.0 C16 + 2.0 C17 +\n",
      "4.0 C18 + 4.0 C19 + 19.0 C20 + 17.0 C21 + 17.0 C22 + 17.0 C23 + 4.0 C24 + 22.0 C25 +\n",
      " 12.0 C26 + 18.0 C27 + 4.0 C28 + 18.0 C29 = 34\n",
      "R16: 4.0 C0 + 2.0 C1 + 2.0 C2 + 5.0 C3 + 2.0 C4 + 3.0 C5 + 5.0 C6 + 4.0 C7 + 2.0 C8 +\n",
      "3.0 C9 + 2.0 C10 + 5.0 C11 + 5.0 C12 + 5.0 C13 + 5.0 C14 + 4.0 C15 + 4.0 C16 + 4.0 C17 +\n",
      "2.0 C18 + 5.0 C19 + 2.0 C20 + 13.0 C21 + 23.0 C22 + 8.0 C23 + 22.0 C24 + 17.0 C25 + 10.0\n",
      " C26 + 24.0 C27 + 20.0 C28 + 23.0 C29 = 46\n",
      "R17: 2.0 C0 + 4.0 C1 + 2.0 C2 + 3.0 C3 + 2.0 C4 + 2.0 C5 + 2.0 C6 + 4.0 C7 + 4.0 C8 +\n",
      "5.0 C9 + 2.0 C10 + 4.0 C11 + 4.0 C12 + 4.0 C13 + 2.0 C14 + 4.0 C15 + 3.0 C16 + 4.0 C17 +\n",
      "5.0 C18 + 3.0 C19 + 10.0 C20 + 6.0 C21 + 20.0 C22 + 21.0 C23 + 16.0 C24 + 15.0 C25 +\n",
      " 13.0 C26 + 3.0 C27 + 24.0 C28 + 16.0 C29 = 35\n",
      "R18: 2.0 C0 + 5.0 C1 + 4.0 C2 + 3.0 C3 + 3.0 C4 + 3.0 C5 + 4.0 C6 + 2.0 C7 + 5.0 C8 +\n",
      "4.0 C9 + 2.0 C10 + 4.0 C11 + 5.0 C12 + 2.0 C13 + 2.0 C14 + 2.0 C15 + 3.0 C16 + 5.0 C17 +\n",
      "4.0 C18 + 5.0 C19 + 12.0 C20 + 18.0 C21 + 21.0 C22 + 8.0 C23 + 19.0 C24 + 8.0 C25 + 11.0\n",
      " C26 + 20.0 C27 + 21.0 C28 + 21.0 C29 = 46\n",
      "R19: 4.0 C0 + 2.0 C1 + 2.0 C2 + 2.0 C3 + 2.0 C4 + 2.0 C5 + 4.0 C6 + 3.0 C7 + 4.0 C8 +\n",
      "3.0 C9 + 2.0 C10 + 2.0 C11 + 4.0 C12 + 2.0 C13 + 4.0 C14 + 3.0 C15 + 5.0 C16 + 2.0 C17 +\n",
      "4.0 C18 + 3.0 C19 + 11.0 C20 + 4.0 C21 + 2.0 C22 + 9.0 C23 + 13.0 C24 + 20.0 C25 + 23.0\n",
      " C26 + 16.0 C27 + 16.0 C28 + 14.0 C29 = 32\n",
      "None\n",
      "Gurobi Optimizer version 10.0.3 build v10.0.3rc0 (mac64[arm])\n",
      "\n",
      "CPU model: Apple M1\n",
      "Thread count: 8 physical cores, 8 logical processors, using up to 8 threads\n",
      "\n",
      "Optimize a model with 20 rows, 30 columns and 600 nonzeros\n",
      "Model fingerprint: 0x05cb70d4\n",
      "Coefficient statistics:\n",
      "  Matrix range     [2e+00, 2e+01]\n",
      "  Objective range  [2e+00, 1e+01]\n",
      "  Bounds range     [0e+00, 0e+00]\n",
      "  RHS range        [2e+01, 5e+01]\n",
      "Presolve time: 0.00s\n",
      "Presolved: 20 rows, 30 columns, 600 nonzeros\n",
      "\n",
      "Iteration    Objective       Primal Inf.    Dual Inf.      Time\n",
      "       0    3.3913043e+00   5.119565e+01   0.000000e+00      0s\n",
      "\n",
      "Solved in 13 iterations and 0.00 seconds (0.00 work units)\n",
      "Infeasible model\n"
     ]
    }
   ],
   "source": [
    "import gurobipy as gp\n",
    "from gurobipy import GRB\n",
    "import numpy as np\n",
    "\n",
    "np.random.seed(142)\n",
    "c = np.random.randint(2, 6, size=20)\n",
    "f = np.random.randint(1, 15, size=10)\n",
    "A = np.random.randint(2, 6, size=(20, 20))\n",
    "B = np.random.randint(2, 26, size=(20, 10))\n",
    "b = np.random.randint(20, 50, size=20)\n",
    "\n",
    "model = GurobiLpSolver(c, f, A, B, b)\n",
    "model.optimize()"
   ]
  },
  {
   "cell_type": "code",
   "execution_count": 142,
   "metadata": {},
   "outputs": [
    {
     "name": "stdout",
     "output_type": "stream",
     "text": [
      "Set parameter Username\n",
      "Set parameter LogFile to value \"MasterEnv\"\n",
      "Set parameter Username\n",
      "Set parameter LogFile to value \"SubprobEnv\"\n",
      "--------------------------------------------------\n",
      "Start solving master problem.\n",
      "None\n",
      "\tmaster problem is optimal.\n",
      "\topt_obj=0.00\n",
      "\topt_g=0.00\n",
      "Finish solving master problem.\n",
      "--------------------------------------------------\n",
      "Bounds: lb=0.00, ub=inf\n",
      "dual subproblem objective updated!\n",
      "--------------------------------------------------\n",
      "Start solving dual subproblem.\n",
      "\tdual subproblem is optimal.\n",
      "\topt_obj=28.16\n",
      "Finish solving dual subproblem.\n",
      "--------------------------------------------------\n",
      "Bounds: lb=0.00, ub=28.16\n",
      "None\n",
      "Benders optimality cut added!\n",
      "--------------------------------------------------\n",
      "Start solving master problem.\n",
      "None\n",
      "\tmaster problem is optimal.\n",
      "\topt_obj=6.97\n",
      "\topt_g=0.00\n",
      "Finish solving master problem.\n",
      "--------------------------------------------------\n",
      "Bounds: lb=6.97, ub=28.16\n",
      "dual subproblem objective updated!\n",
      "--------------------------------------------------\n",
      "Start solving dual subproblem.\n",
      "\tdual subproblem is optimal.\n",
      "\topt_obj=11.82\n",
      "Finish solving dual subproblem.\n",
      "--------------------------------------------------\n",
      "Bounds: lb=6.97, ub=18.78\n",
      "None\n",
      "Benders optimality cut added!\n",
      "--------------------------------------------------\n",
      "Start solving master problem.\n",
      "None\n",
      "\tmaster problem is optimal.\n",
      "\topt_obj=7.97\n",
      "\topt_g=0.00\n",
      "Finish solving master problem.\n",
      "--------------------------------------------------\n",
      "Bounds: lb=7.97, ub=18.78\n",
      "dual subproblem objective updated!\n",
      "--------------------------------------------------\n",
      "Start solving dual subproblem.\n",
      "\tdual subproblem is optimal.\n",
      "\topt_obj=14.74\n",
      "Finish solving dual subproblem.\n",
      "--------------------------------------------------\n",
      "Bounds: lb=7.97, ub=18.78\n",
      "None\n",
      "Benders optimality cut added!\n",
      "--------------------------------------------------\n",
      "Start solving master problem.\n",
      "None\n",
      "\tmaster problem is optimal.\n",
      "\topt_obj=8.33\n",
      "\topt_g=0.00\n",
      "Finish solving master problem.\n",
      "--------------------------------------------------\n",
      "Bounds: lb=8.33, ub=18.78\n",
      "dual subproblem objective updated!\n",
      "--------------------------------------------------\n",
      "Start solving dual subproblem.\n",
      "\tdual subproblem is optimal.\n",
      "\topt_obj=5.92\n",
      "Finish solving dual subproblem.\n",
      "--------------------------------------------------\n",
      "Bounds: lb=8.33, ub=14.25\n",
      "None\n",
      "Benders optimality cut added!\n",
      "--------------------------------------------------\n",
      "Start solving master problem.\n",
      "None\n",
      "\tmaster problem is optimal.\n",
      "\topt_obj=8.92\n",
      "\topt_g=0.00\n",
      "Finish solving master problem.\n",
      "--------------------------------------------------\n",
      "Bounds: lb=8.92, ub=14.25\n",
      "dual subproblem objective updated!\n",
      "--------------------------------------------------\n",
      "Start solving dual subproblem.\n",
      "\tdual subproblem is optimal.\n",
      "\topt_obj=6.12\n",
      "Finish solving dual subproblem.\n",
      "--------------------------------------------------\n",
      "Bounds: lb=8.92, ub=14.25\n",
      "None\n",
      "Benders optimality cut added!\n",
      "--------------------------------------------------\n",
      "Start solving master problem.\n",
      "None\n",
      "\tmaster problem is optimal.\n",
      "\topt_obj=9.50\n",
      "\topt_g=0.00\n",
      "Finish solving master problem.\n",
      "--------------------------------------------------\n",
      "Bounds: lb=9.50, ub=14.25\n",
      "dual subproblem objective updated!\n",
      "--------------------------------------------------\n",
      "Start solving dual subproblem.\n",
      "\tdual subproblem is optimal.\n",
      "\topt_obj=2.23\n",
      "Finish solving dual subproblem.\n",
      "--------------------------------------------------\n",
      "Bounds: lb=9.50, ub=11.73\n",
      "None\n",
      "Benders optimality cut added!\n",
      "--------------------------------------------------\n",
      "Start solving master problem.\n",
      "None\n",
      "\tmaster problem is optimal.\n",
      "\topt_obj=9.67\n",
      "\topt_g=0.00\n",
      "Finish solving master problem.\n",
      "--------------------------------------------------\n",
      "Bounds: lb=9.67, ub=11.73\n",
      "dual subproblem objective updated!\n",
      "--------------------------------------------------\n",
      "Start solving dual subproblem.\n",
      "\tdual subproblem is optimal.\n",
      "\topt_obj=2.23\n",
      "Finish solving dual subproblem.\n",
      "--------------------------------------------------\n",
      "Bounds: lb=9.67, ub=11.73\n",
      "None\n",
      "Benders optimality cut added!\n",
      "--------------------------------------------------\n",
      "Start solving master problem.\n",
      "None\n",
      "\tmaster problem is optimal.\n",
      "\topt_obj=9.82\n",
      "\topt_g=0.00\n",
      "Finish solving master problem.\n",
      "--------------------------------------------------\n",
      "Bounds: lb=9.82, ub=11.73\n",
      "dual subproblem objective updated!\n",
      "--------------------------------------------------\n",
      "Start solving dual subproblem.\n",
      "\tdual subproblem is optimal.\n",
      "\topt_obj=1.40\n",
      "Finish solving dual subproblem.\n",
      "--------------------------------------------------\n",
      "Bounds: lb=9.82, ub=11.22\n",
      "None\n",
      "Benders optimality cut added!\n",
      "--------------------------------------------------\n",
      "Start solving master problem.\n",
      "None\n",
      "\tmaster problem is optimal.\n",
      "\topt_obj=9.86\n",
      "\topt_g=0.00\n",
      "Finish solving master problem.\n",
      "--------------------------------------------------\n",
      "Bounds: lb=9.86, ub=11.22\n",
      "dual subproblem objective updated!\n",
      "--------------------------------------------------\n",
      "Start solving dual subproblem.\n",
      "\tdual subproblem is optimal.\n",
      "\topt_obj=0.00\n",
      "Finish solving dual subproblem.\n",
      "--------------------------------------------------\n",
      "Bounds: lb=9.86, ub=9.86\n"
     ]
    }
   ],
   "source": [
    "import gurobipy as gp\n",
    "from gurobipy import GRB\n",
    "import numpy as np\n",
    "\n",
    "np.random.seed(142)\n",
    "c = np.random.randint(2, 6, size=20)\n",
    "f = np.random.randint(1, 15, size=10)\n",
    "A = np.random.randint(2, 6, size=(20, 20))\n",
    "B = np.random.randint(2, 26, size=(20, 10))\n",
    "b = np.random.randint(20, 50, size=20)\n",
    "\n",
    "master_solver = GenericLpMasterSolver(f, B, b)\n",
    "dual_subprob_solver = GenericLpSubprobSolver(A, c, B, b)\n",
    "\n",
    "benders_solver = GenericBendersSolver(master_solver, dual_subprob_solver)\n",
    "benders_solver.optimize()"
   ]
  },
  {
   "cell_type": "code",
   "execution_count": 131,
   "metadata": {},
   "outputs": [
    {
     "data": {
      "text/plain": [
       "array([3, 3, 5, 5, 2, 4, 3, 2, 3, 3, 4, 2, 5, 5, 2, 5, 4, 4, 5, 5])"
      ]
     },
     "execution_count": 131,
     "metadata": {},
     "output_type": "execute_result"
    }
   ],
   "source": [
    "c"
   ]
  },
  {
   "cell_type": "code",
   "execution_count": 132,
   "metadata": {},
   "outputs": [
    {
     "data": {
      "text/plain": [
       "array([[3, 2, 2, 4, 2, 3, 1, 2, 3, 2],\n",
       "       [3, 4, 3, 3, 2, 2, 1, 4, 3, 4]])"
      ]
     },
     "execution_count": 132,
     "metadata": {},
     "output_type": "execute_result"
    }
   ],
   "source": [
    "np.random.randint(1, 5, size=(2, 10))"
   ]
  },
  {
   "cell_type": "markdown",
   "metadata": {},
   "source": [
    "### Implementation with callbacks"
   ]
  },
  {
   "cell_type": "markdown",
   "metadata": {},
   "source": [
    "### Implementation with SCIP"
   ]
  },
  {
   "cell_type": "code",
   "execution_count": 133,
   "metadata": {},
   "outputs": [
    {
     "name": "stdout",
     "output_type": "stream",
     "text": [
      "status = unbounded\n",
      "hasRay=True\n",
      "ray=[0.5, 0.5]\n",
      "presolving:\n",
      "   (0.0s) symmetry computation started: requiring (bin +, int +, cont +), (fixed: bin -, int -, cont -)\n",
      "   (0.0s) symmetry computation finished: 1 generators found (max: 1500, log10 of symmetry group size: 0.3) (symcode time: 0.00)\n",
      "   (0.0s) no symmetry on binary variables present.\n",
      "presolving (0 rounds: 0 fast, 0 medium, 0 exhaustive):\n",
      " 0 deleted vars, 0 deleted constraints, 0 added constraints, 0 tightened bounds, 0 added holes, 0 changed sides, 0 changed coefficients\n",
      " 0 implications, 0 cliques\n",
      "presolved problem has 2 variables (0 bin, 0 int, 0 impl, 2 cont) and 2 constraints\n",
      "      2 constraints of type <linear>\n",
      "Presolving Time: 0.00\n",
      "\n",
      " time | node  | left  |LP iter|LP it/n|mem/heur|mdpt |vars |cons |rows |cuts |sepa|confs|strbr|  dualbound   | primalbound  |  gap   | compl. \n",
      "* 0.0s|     1 |     0 |     2 |     - |    LP  |   0 |   2 |   2 |   2 |   1 |  0 |   0 |   0 |      --      |      --      |   0.00%| unknown\n",
      "\n",
      "SCIP Status        : problem is solved [unbounded]\n",
      "Solving Time (sec) : 0.00\n",
      "Solving Nodes      : 1\n",
      "Primal Bound       : +1.00000000000000e+20 (1 solutions)\n",
      "Dual Bound         : +1.00000000000000e+20\n",
      "Gap                : 0.00 %\n"
     ]
    }
   ],
   "source": [
    "from pyscipopt import Model\n",
    "from pyscipopt import quicksum\n",
    "from pyscipopt import SCIP_PARAMSETTING\n",
    "\n",
    "# Create a model\n",
    "model = Model(\"simple_lp\")\n",
    "\n",
    "# Define variables\n",
    "x1 = model.addVar(lb=0, vtype=\"C\", name=\"x1\")\n",
    "x2 = model.addVar(lb=0, vtype=\"C\", name=\"x2\")\n",
    "\n",
    "# Set objective function\n",
    "model.setObjective(x1 + x2, \"maximize\")\n",
    "\n",
    "# Add constraints\n",
    "# model.addCons(2 * x1 + x2 >= 1, \"constraint1\")\n",
    "model.addCons(x1 + x2 >= 2, \"constraint2\")\n",
    "\n",
    "# Solve the model\n",
    "model.setPresolve(SCIP_PARAMSETTING.OFF)\n",
    "model.setHeuristics(SCIP_PARAMSETTING.OFF)\n",
    "model.disablePropagation()\n",
    "model.optimize()\n",
    "\n",
    "# Print results\n",
    "status = model.getStatus()\n",
    "print(f'status = {status}')\n",
    "if model.getStatus() == \"optimal\":\n",
    "    print(\"Optimal solution found.\")\n",
    "    print(f\"x1: {model.getVal(x1):.2f}\")\n",
    "    print(f\"x2: {model.getVal(x2):.2f}\")\n",
    "    print(f\"Objective value: {model.getObjVal():.2f}\")\n",
    "    hasRay = model.hasPrimaryRay()\n",
    "    print(hasRay)\n",
    "elif model.getStatus() == 'unbounded':\n",
    "    hasRay = model.hasPrimalRay()\n",
    "    print(f'hasRay={hasRay}')\n",
    "    ray = model.getPrimalRay()\n",
    "    print(f'ray={ray}')\n",
    "    \n",
    "else:\n",
    "    print(\"Model could not be solved.\")\n"
   ]
  },
  {
   "cell_type": "markdown",
   "metadata": {},
   "source": [
    "### Testing"
   ]
  }
 ],
 "metadata": {
  "kernelspec": {
   "display_name": "large-opt",
   "language": "python",
   "name": "python3"
  },
  "language_info": {
   "codemirror_mode": {
    "name": "ipython",
    "version": 3
   },
   "file_extension": ".py",
   "mimetype": "text/x-python",
   "name": "python",
   "nbconvert_exporter": "python",
   "pygments_lexer": "ipython3",
   "version": "3.11.6"
  }
 },
 "nbformat": 4,
 "nbformat_minor": 2
}
