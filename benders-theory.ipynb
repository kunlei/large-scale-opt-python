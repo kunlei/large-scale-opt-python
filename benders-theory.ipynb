{
 "cells": [
  {
   "cell_type": "markdown",
   "metadata": {},
   "source": [
    "---\n",
    "format:\n",
    "  html:\n",
    "    code-line-numbers: false\n",
    "    code-overflow: wrap\n",
    "    code-block-bg: true\n",
    "    code-block-border-left: true\n",
    "    highlight-style: arrow\n",
    "  pdf:\n",
    "    documentclass: scrreprt\n",
    "    links-as-notes: true\n",
    "    reference-location: section\n",
    "    toc: true\n",
    "    toc-depth: 2\n",
    "    lof: true\n",
    "    lot: true\n",
    "    number-sections: true\n",
    "    fig-width: 8\n",
    "    fig-height: 6\n",
    "\n",
    "---"
   ]
  },
  {
   "cell_type": "markdown",
   "metadata": {},
   "source": [
    "# Benders Decomposition Theories"
   ]
  },
  {
   "cell_type": "markdown",
   "metadata": {},
   "source": [
    "In this chapter, we will explain the theories behind Benders decomposition and demonstrate its usage on a trial linear programming problem.\n",
    "Keep in mind that Benders decomposition is not limited to solving linear programming problems.\n",
    "In fact, it is one of the most powerful techniques to solve some large-scale mixed-integer linear programming problems."
   ]
  },
  {
   "cell_type": "markdown",
   "metadata": {},
   "source": [
    "In the following sections, we will go through the critical steps during the decomposition process when applying the algorithm on optimization problems represented in standard forms.\n",
    "This is important as it helps build up the intuition of when we should consider applying Benders decomposition to a problem at hand.\n",
    "Often times, recognizing the applicability of Benders decomposition is the most important and challenging step when solving an optimization problem.\n",
    "Once we know that the problem structure is suitable to solve via Benders decomposition, it is straightforward to follow the decomposition steps and put it into work."
   ]
  },
  {
   "cell_type": "markdown",
   "metadata": {},
   "source": [
    "Generally speaking, Benders decomposition is a good solution candidate when the resulting problem is much easier to solve if some of the variables in the original problem are fixed.\n",
    "We will illustrate this point using an example in the following sections.\n",
    "In the optimization world, the first candidate that should come to mind when we say a problem is easy to solve is a linear programming formulation, which is indeed the case in Benders decomposition applications."
   ]
  },
  {
   "cell_type": "markdown",
   "metadata": {},
   "source": [
    "## The Decomposition Logic"
   ]
  },
  {
   "cell_type": "markdown",
   "metadata": {},
   "source": [
    "To explain the workings of Benders decomposition, let us look at the standard form of linear programming problems that involve two vector variables, $\\mathbf{x}$ and $\\mathbf{y}$. Let $p$ and $q$ indicate the dimensions of $\\mathbf{x}$ and $\\mathbf{y}$, respectively.\n",
    "Below is the original problem (**P**) we intend to solve."
   ]
  },
  {
   "cell_type": "markdown",
   "metadata": {},
   "source": [
    "$$\n",
    "\\begin{aligned}\n",
    "\\text{min.} &\\quad \\mathbf{c}^T \\mathbf{x} + \\mathbf{f}^T \\mathbf{y} \\\\\n",
    "\\text{s.t.} &\\quad \\mathbf{A} \\mathbf{x} + \\mathbf{B} \\mathbf{y} = \\mathbf{b} \\\\\n",
    "&\\quad \\mathbf{x} \\geq 0, \\mathbf{y} \\geq 0\n",
    "\\end{aligned}\n",
    "$$"
   ]
  },
  {
   "cell_type": "markdown",
   "metadata": {},
   "source": [
    "In this formulation, $\\mathbf{c}$ and $\\mathbf{f}$ in the objective function represent the cost coefficients associated with decision variables $\\mathbf{x}$ and $\\mathbf{y}$, respectively.\n",
    "Both of them are column vectors of corresponding dimensions.\n",
    "In the constraints, matrix $\\mathbf{A}$ is of dimension $m \\times p$, and matrix $\\mathbf{B}$ is of dimension $m \\times q$.\n",
    "$\\mathbf{b}$ is a column vector of dimension $m$."
   ]
  },
  {
   "cell_type": "markdown",
   "metadata": {},
   "source": [
    "Suppose the variable $\\mathbf{y}$ is a complicating variable in the sense that the resulting problem is substantially easier to solve if the value of $\\mathbf{y}$ is fixed.\n",
    "In this case, we could rewrite problem $\\mathbf{P}$ as the following form:"
   ]
  },
  {
   "cell_type": "markdown",
   "metadata": {},
   "source": [
    "$$\n",
    "\\begin{aligned}\n",
    "\\text{min.} &\\quad \\mathbf{f}^T \\mathbf{y} + g(\\mathbf{y}) \\\\\n",
    "\\text{s.t.} &\\quad \\mathbf{y} \\geq 0\n",
    "\\end{aligned}\n",
    "$$"
   ]
  },
  {
   "cell_type": "markdown",
   "metadata": {},
   "source": [
    "where $g(\\mathbf{y})$ is a function of $\\mathbf{y}$ and is defined as the subproblem $\\mathbf{SP}$ of the form below:"
   ]
  },
  {
   "cell_type": "markdown",
   "metadata": {},
   "source": [
    "$$\n",
    "\\begin{aligned}\n",
    "    \\text{min.} &\\quad \\mathbf{c}^T \\mathbf{x} \\\\\n",
    "    \\text{s.t.} &\\quad \\mathbf{A} \\mathbf{x}  = \\mathbf{b} - \\mathbf{B} \\mathbf{y} \\label{bd-cons1} \\\\\n",
    "    &\\quad \\mathbf{x} \\geq 0\n",
    "\\end{aligned}\n",
    "$$"
   ]
  },
  {
   "cell_type": "markdown",
   "metadata": {},
   "source": [
    "Note that the $\\mathbf{y}$ in constraint \\eqref{bd-cons1} takes on some known values when the problem is solved and the only decision variable in the above formulation is $\\mathbf{x}$.\n",
    "The dual problem of $\\mathbf{SP}$, $\\mathbf{DSP}$, is given below.\n"
   ]
  },
  {
   "cell_type": "markdown",
   "metadata": {},
   "source": [
    "$$\n",
    "\\begin{aligned}\n",
    "    \\text{max.} &\\quad (\\mathbf{b} - \\mathbf{B} \\mathbf{y})^{T} \\mathbf{u} \\\\\n",
    "    \\text{s.t.} &\\quad \\mathbf{A}^T \\mathbf{u} \\leq \\mathbf{c} \\label{bd-cons2} \\\\\n",
    "    &\\quad \\mathbf{u}\\  \\text{unrestricted}\n",
    "\\end{aligned}\n",
    "$$"
   ]
  },
  {
   "cell_type": "markdown",
   "metadata": {},
   "source": [
    "A key characteristic of the above $\\mathbf{DSP}$ is that its solution space does not depend on the value of $\\mathbf{y}$, which only affects the objective function.\n",
    "According to the Minkowski’s representation theorem, any $\\bar{\\mathbf{u}}$ satisfying the constraints \\eqref{bd-cons2} can be expressed as"
   ]
  },
  {
   "cell_type": "markdown",
   "metadata": {},
   "source": [
    "$$\n",
    "\\begin{aligned}\n",
    "\\bar{\\mathbf{u}} = \\sum_{j \\in \\mathbf{J}} \\lambda_j \\mathbf{u}_{j}^{point} + \\sum_{k \\in \\mathbf{K}} \\mu_k \\mathbf{u}_k^{ray}\n",
    "\\end{aligned}\n",
    "$$"
   ]
  },
  {
   "cell_type": "markdown",
   "metadata": {},
   "source": [
    "where $\\mathbf{u}_j^{point}$ and $\\mathbf{u}_k^{ray}$ represent an extreme point and extreme ray, respectively.\n",
    "In addition, $\\lambda_j \\geq 0$ for all $j \\in \\mathbf{J}$ and $\\sum_{j \\in \\mathbf{J}}\\lambda_j = 1$, and $\\mu_k \\geq 0$ for all $k \\in \\mathbf{K}$.\n",
    "It follows that the $\\mathbf{DSP}$ is equivalent to "
   ]
  },
  {
   "cell_type": "markdown",
   "metadata": {},
   "source": [
    "$$\n",
    "\\begin{aligned}\n",
    "\\text{max.} &\\quad (\\mathbf{b} - \\mathbf{B} \\mathbf{y})^{T} (\\sum_{j \\in \\mathbf{J}} \\lambda_j \\mathbf{u}_{j}^{point} + \\sum_{k \\in \\mathbf{K}} \\mu_k \\mathbf{u}_k^{ray}) \\\\\n",
    "\\text{s.t.} &\\quad \\sum_{j \\in \\mathbf{J}}\\lambda_j = 1 \\\\\n",
    "&\\quad \\lambda_j \\geq 0, \\ \\forall j \\in \\mathbf{J} \\\\\n",
    "&\\quad \\mu_k \\geq 0, \\ \\forall k \\in \\mathbf{K}\n",
    "\\end{aligned}\n",
    "$$"
   ]
  },
  {
   "cell_type": "markdown",
   "metadata": {},
   "source": [
    "We can therefore conclude that\n",
    "\n",
    "- The $\\mathbf{DSP}$ becomes unbounded if any $\\mathbf{u}_k^{ray}$ exists such that $(\\mathbf{b} - \\mathbf{B} \\mathbf{y})^{T} \\mathbf{u}_k^{ray} > 0$.\n",
    "Note that an unbounded $\\mathbf{DSP}$ implies an infeasible $\\mathbf{SP}$ and to prevent this from happening, we have to ensure that $(\\mathbf{b} - \\mathbf{B} \\mathbf{y})^{T} \\mathbf{u}_k^{ray} \\leq 0$ for all $k \\in \\mathbf{K}$.\n",
    "- If an optimal solution to $\\mathbf{DSP}$ exists, it must occur at one of the extreme points. Let $g$ denote the optimal objective value, it follows that $(\\mathbf{b} - \\mathbf{B} \\mathbf{y})^{T} \\mathbf{u}_j^{point} \\leq g$ for all $j \\in \\mathbf{J}$.\n",
    "\n",
    "Based on this idea, the $\\mathbf{DSP}$ can be reformulated as follows:"
   ]
  },
  {
   "cell_type": "markdown",
   "metadata": {},
   "source": [
    "$$\n",
    "\\begin{aligned}\n",
    "\\text{min.} &\\quad g \\\\\n",
    "\\text{s.t.} &\\quad (\\mathbf{b} - \\mathbf{B} \\mathbf{y})^{T} \\mathbf{u}_k^{ray} \\leq 0, \\ \\forall j \\in \\mathbf{J} \\label{bd-feas} \\\\\n",
    "&\\quad (\\mathbf{b} - \\mathbf{B} \\mathbf{y})^{T} \\mathbf{u}_j^{point} \\leq g, \\ \\forall k \\in \\mathbf{K} \\label{bd-opt} \\\\\n",
    "&\\quad j \\in \\mathbf{J}, k \\in \\mathbf{K}\n",
    "\\end{aligned}\n",
    "$$"
   ]
  },
  {
   "cell_type": "markdown",
   "metadata": {},
   "source": [
    "Constraints \\eqref{bd-feas} are called **Benders feasibility cuts**, while constraints \\eqref{bd-opt} are called **Benders optimality cuts**.\n",
    "Now we are ready to define the Benders Master Problem ($\\mathbf{BMP}$) as follows:"
   ]
  },
  {
   "cell_type": "markdown",
   "metadata": {},
   "source": [
    "$$\n",
    "\\begin{aligned}\n",
    "    \\text{min.} &\\quad \\mathbf{f}^T \\mathbf{y} + g \\\\\n",
    "    \\text{s.t.} &\\quad (\\mathbf{b} - \\mathbf{B} \\mathbf{y})^{T} \\mathbf{u}_k^{ray} \\leq 0, \\ \\forall j \\in \\mathbf{J} \\\\\n",
    "    &\\quad (\\mathbf{b} - \\mathbf{B} \\mathbf{y})^{T} \\mathbf{u}_j^{point} \\leq g, \\ \\forall k \\in \\mathbf{K} \\\\\n",
    "    &\\quad j \\in \\mathbf{J}, k \\in \\mathbf{K}, \\mathbf{y} \\geq 0\n",
    "\\end{aligned}\n",
    "$$"
   ]
  },
  {
   "cell_type": "markdown",
   "metadata": {},
   "source": [
    "Typically $J$ and $K$ are too large to enumerate upfront and we have to work with subsets of them, denoted by $J_s$ and $K_s$, respectively. Hence we have the following Restricted Benders Master Problem ($\\mathbf{RBMP}$):"
   ]
  },
  {
   "cell_type": "markdown",
   "metadata": {},
   "source": [
    "\n",
    "$$\n",
    "\\begin{aligned}\n",
    "    \\text{min.} &\\quad \\mathbf{f}^T \\mathbf{y} + g \\\\\n",
    "    \\text{s.t.} &\\quad (\\mathbf{b} - \\mathbf{B} \\mathbf{y})^{T} \\mathbf{u}_k^{ray} \\leq 0, \\ \\forall j \\in \\mathbf{J}_s \\\\\n",
    "    &\\quad (\\mathbf{b} - \\mathbf{B} \\mathbf{y})^{T} \\mathbf{u}_j^{point} \\leq g, \\ \\forall k \\in \\mathbf{K}_s \\\\\n",
    "    &\\quad j \\in \\mathbf{J}, k \\in \\mathbf{K}, \\mathbf{y} \\geq 0\n",
    "\\end{aligned}\n",
    "$$"
   ]
  },
  {
   "cell_type": "markdown",
   "metadata": {},
   "source": [
    "```{mermaid}\n",
    "%%| label: fig-benders-flowchart\n",
    "%%| fig-cap: Benders decomposition workflow\n",
    "\n",
    "flowchart LR\n",
    "   A[Start] --> B{Is}\n",
    "    B -->|Yes| C[OK]\n",
    "    C --> D[Rethink]\n",
    "    D --> B\n",
    "    B ---->|No| E[End]\n",
    "```"
   ]
  }
 ],
 "metadata": {
  "kernelspec": {
   "display_name": "large-opt",
   "language": "python",
   "name": "python3"
  },
  "language_info": {
   "codemirror_mode": {
    "name": "ipython",
    "version": 3
   },
   "file_extension": ".py",
   "mimetype": "text/x-python",
   "name": "python",
   "nbconvert_exporter": "python",
   "pygments_lexer": "ipython3",
   "version": "3.11.6"
  }
 },
 "nbformat": 4,
 "nbformat_minor": 2
}
