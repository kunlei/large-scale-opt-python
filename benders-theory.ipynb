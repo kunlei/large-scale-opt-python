{
 "cells": [
  {
   "cell_type": "markdown",
   "metadata": {},
   "source": [
    "---\n",
    "format:\n",
    "  html:\n",
    "    code-line-numbers: true\n",
    "    code-overflow: wrap\n",
    "    code-block-bg: true\n",
    "    code-block-border-left: true\n",
    "    highlight-style: Arrow\n",
    "---"
   ]
  },
  {
   "cell_type": "markdown",
   "metadata": {},
   "source": [
    "# Benders Decomposition"
   ]
  },
  {
   "cell_type": "markdown",
   "metadata": {},
   "source": [
    "In this chapter, we will explain the theories behind Benders decomposition and demonstrate its usage on a trial linear programming problem.\n",
    "Keep in mind that Benders decomposition is not limited to solving linear programming problems.\n",
    "In fact, it is one of the most powerful techniques to solve some large-scale mixed-integer linear programming problems."
   ]
  },
  {
   "cell_type": "markdown",
   "metadata": {},
   "source": [
    "In the following sections, we will go through the critical steps during the decomposition process when applying the algorithm on optimization problems represented in standard forms.\n",
    "This is important as it helps build up the intuition of when we should consider applying Benders decomposition to a problem at hand.\n",
    "Often times, recognizing the applicability of Benders decomposition is the most important and challenging step when solving an optimization problem.\n",
    "Once we know that the problem structure is suitable to solve via Benders decomposition, it is straightforward to follow the decomposition steps and put it into work."
   ]
  },
  {
   "cell_type": "markdown",
   "metadata": {},
   "source": [
    "Generally speaking, Benders decomposition is a good solution candidate when the resulting problem is much easier to solve if some of the variables in the original problem are fixed.\n",
    "We will illustrate this point using an example in the following sections.\n",
    "In the optimization world, the first candidate that should come to mind when we say a problem is easy to solve is a linear programming formulation, which is indeed the case in Benders decomposition applications."
   ]
  },
  {
   "cell_type": "markdown",
   "metadata": {},
   "source": [
    "## The Decomposition Logic"
   ]
  },
  {
   "cell_type": "markdown",
   "metadata": {},
   "source": [
    "To explain the reasoning of Benders decomposition, let us look at the standard form of linear programming problems that involve two vector variables, $\\mathbf{x}$ and $\\mathbf{y}$. Let $p$ and $q$ indicate the dimensions of $\\mathbf{x}$ and $\\mathbf{y}$, respectively.\n",
    "Below is the original problem $\\mathbf{P}$ we intend to solve."
   ]
  },
  {
   "cell_type": "markdown",
   "metadata": {},
   "source": [
    "\\begin{align}\n",
    "&(\\mathbf{P}) &\\quad \\text{min.} &\\quad \\mathbf{c}^T \\mathbf{x} + \\mathbf{f}^T \\mathbf{y} \\\\\n",
    "& &\\quad \\text{s.t.} &\\quad \\mathbf{A} \\mathbf{x} + \\mathbf{B} \\mathbf{y} = \\mathbf{b} \\\\\n",
    "& &\\quad &\\quad \\mathbf{x} \\geq 0, \\mathbf{y} \\geq 0\n",
    "\\end{align}"
   ]
  },
  {
   "cell_type": "markdown",
   "metadata": {},
   "source": [
    "In this formulation, $\\mathbf{c}$ and $\\mathbf{f}$ in the objective function represent the cost coefficients associated with decision variables $\\mathbf{x}$ and $\\mathbf{y}$, respectively.\n",
    "Both of them are column vectors of corresponding dimensions.\n",
    "In the constraints, matrix $\\mathbf{A}$ is of dimension $m \\times p$, and matrix $\\mathbf{B}$ is of dimension $m \\times q$.\n",
    "$\\mathbf{b}$ is a column vector of dimension $m$."
   ]
  },
  {
   "cell_type": "markdown",
   "metadata": {},
   "source": [
    "Suppose the variable $\\mathbf{y}$ is a complicating variable in the sense that the resulting problem is substantially easier to solve if the value of $\\mathbf{y}$ is fixed.\n",
    "In this case, we could rewrite problem $\\mathbf{P}$ as the following form:"
   ]
  },
  {
   "cell_type": "markdown",
   "metadata": {},
   "source": [
    "\\begin{align}\n",
    "\\text{min.} &\\quad \\mathbf{f}^T \\mathbf{y} + g(\\mathbf{y}) \\\\\n",
    "\\text{s.t.} &\\quad \\mathbf{y} \\geq 0\n",
    "\\end{align}"
   ]
  },
  {
   "cell_type": "markdown",
   "metadata": {},
   "source": [
    "where $g(\\mathbf{y})$ is a function of $\\mathbf{y}$ and is defined as the subproblem $\\mathbf{SP}$ of the form below:"
   ]
  },
  {
   "cell_type": "markdown",
   "metadata": {},
   "source": [
    "\\begin{align}\n",
    "&(\\mathbf{SP}) &\\quad \\text{min.} &\\quad \\mathbf{c}^T \\mathbf{x} \\\\\n",
    "& &\\quad \\text{s.t.} &\\quad \\mathbf{A} \\mathbf{x}  = \\mathbf{b} - \\mathbf{B} \\mathbf{y} \\label{bd-cons1} \\\\\n",
    "& &\\quad &\\quad \\mathbf{x} \\geq 0\n",
    "\\end{align}"
   ]
  },
  {
   "cell_type": "markdown",
   "metadata": {},
   "source": [
    "Note that the $\\mathbf{y}$ in constraint \\eqref{bd-cons1} takes on some known values when the problem is solved and the only decision variable in the above formulation is $\\mathbf{x}$.\n",
    "The dual problem of $\\mathbf{SP}$, $\\mathbf{DSP}$, is given below.\n"
   ]
  },
  {
   "cell_type": "markdown",
   "metadata": {},
   "source": [
    "\\begin{align}\n",
    "&(\\mathbf{DSP}) &\\quad \\text{max.} &\\quad (\\mathbf{b} - \\mathbf{B} \\mathbf{y})^{T} \\mathbf{u} \\\\\n",
    "& &\\quad \\text{s.t.} &\\quad \\mathbf{A}^T \\mathbf{u} \\leq \\mathbf{c} \\label{bd-cons2} \\\\\n",
    "& &\\quad &\\quad \\mathbf{u}\\  \\text{unrestricted}\n",
    "\\end{align}"
   ]
  },
  {
   "cell_type": "markdown",
   "metadata": {},
   "source": [
    "A key characteristic of the above $\\mathbf{DSP}$ is that its solution space does not depend on the value of $\\mathbf{y}$, which only affects the objective function.\n",
    "According to the Minkowski’s representation theorem, any $\\bar{\\mathbf{u}}$ satisfying the constraints \\eqref{bd-cons2} can be expressed as"
   ]
  },
  {
   "cell_type": "markdown",
   "metadata": {},
   "source": [
    "\\begin{align}\n",
    "\\bar{\\mathbf{u}} = \\sum_{j \\in \\mathbf{J}} \\lambda_j \\mathbf{u}_{j}^{point} + \\sum_{k \\in \\mathbf{K}} \\mu_k \\mathbf{u}_k^{ray}\n",
    "\\end{align}"
   ]
  },
  {
   "cell_type": "markdown",
   "metadata": {},
   "source": [
    "where $\\mathbf{u}_j^{point}$ and $\\mathbf{u}_k^{ray}$ represent an extreme point and extreme ray, respectively.\n",
    "In addition, $\\lambda_j \\geq 0$ for all $j \\in \\mathbf{J}$ and $\\sum_{j \\in \\mathbf{J}}\\lambda_j = 1$, and $\\mu_k \\geq 0$ for all $k \\in \\mathbf{K}$.\n",
    "It follows that the $\\mathbf{DSP}$ is equivalent to "
   ]
  },
  {
   "cell_type": "markdown",
   "metadata": {},
   "source": [
    "\\begin{align}\n",
    "\\text{max.} &\\quad (\\mathbf{b} - \\mathbf{B} \\mathbf{y})^{T} (\\sum_{j \\in \\mathbf{J}} \\lambda_j \\mathbf{u}_{j}^{point} + \\sum_{k \\in \\mathbf{K}} \\mu_k \\mathbf{u}_k^{ray}) \\\\\n",
    "\\text{s.t.} &\\quad \\sum_{j \\in \\mathbf{J}}\\lambda_j = 1 \\\\\n",
    "&\\quad \\lambda_j \\geq 0, \\ \\forall j \\in \\mathbf{J} \\\\\n",
    "&\\quad \\mu_k \\geq 0, \\ \\forall k \\in \\mathbf{K}\n",
    "\\end{align}"
   ]
  },
  {
   "cell_type": "markdown",
   "metadata": {},
   "source": [
    "We can therefore conclude that\n",
    "\n",
    "- The $\\mathbf{DSP}$ becomes unbounded if any $\\mathbf{u}_k^{ray}$ exists such that $(\\mathbf{b} - \\mathbf{B} \\mathbf{y})^{T} \\mathbf{u}_k^{ray} > 0$.\n",
    "Note that an unbounded $\\mathbf{DSP}$ implies an infeasible $\\mathbf{SP}$ and to prevent this from happening, we have to ensure that $(\\mathbf{b} - \\mathbf{B} \\mathbf{y})^{T} \\mathbf{u}_k^{ray} \\leq 0$ for all $k \\in \\mathbf{K}$.\n",
    "- If an optimal solution to $\\mathbf{DSP}$ exists, it must occur at one of the extreme points. Let $g$ denote the optimal objective value, it follows that $(\\mathbf{b} - \\mathbf{B} \\mathbf{y})^{T} \\mathbf{u}_j^{point} \\leq g$ for all $j \\in \\mathbf{J}$.\n",
    "\n",
    "Based on this idea, the $\\mathbf{DSP}$ can be reformulated as follows:"
   ]
  },
  {
   "cell_type": "markdown",
   "metadata": {},
   "source": [
    "\\begin{align}\n",
    "\\text{min.} &\\quad g \\\\\n",
    "\\text{s.t.} &\\quad (\\mathbf{b} - \\mathbf{B} \\mathbf{y})^{T} \\mathbf{u}_k^{ray} \\leq 0, \\ \\forall j \\in \\mathbf{J} \\label{bd-feas} \\\\\n",
    "&\\quad (\\mathbf{b} - \\mathbf{B} \\mathbf{y})^{T} \\mathbf{u}_j^{point} \\leq g, \\ \\forall k \\in \\mathbf{K} \\label{bd-opt} \\\\\n",
    "&\\quad j \\in \\mathbf{J}, k \\in \\mathbf{K}\n",
    "\\end{align}"
   ]
  },
  {
   "cell_type": "markdown",
   "metadata": {},
   "source": [
    "Constraints \\eqref{bd-feas} are called **Benders feasibility cuts**, while constraints \\eqref{bd-opt} are called **Benders optimality cuts**.\n",
    "Now we are ready to define the Benders Master Problem ($\\mathbf{BMP}$) as follows:"
   ]
  },
  {
   "cell_type": "markdown",
   "metadata": {},
   "source": [
    "\\begin{align}\n",
    "&(\\mathbf{BMP}) &\\quad \\text{min.} &\\quad \\mathbf{f}^T \\mathbf{y} + g \\\\\n",
    "& &\\quad \\text{s.t.} &\\quad (\\mathbf{b} - \\mathbf{B} \\mathbf{y})^{T} \\mathbf{u}_k^{ray} \\leq 0, \\ \\forall j \\in \\mathbf{J} \\\\\n",
    "& &\\quad &\\quad (\\mathbf{b} - \\mathbf{B} \\mathbf{y})^{T} \\mathbf{u}_j^{point} \\leq g, \\ \\forall k \\in \\mathbf{K} \\\\\n",
    "& &\\quad &\\quad j \\in \\mathbf{J}, k \\in \\mathbf{K}, \\mathbf{y} \\geq 0\n",
    "\\end{align}"
   ]
  },
  {
   "cell_type": "markdown",
   "metadata": {},
   "source": [
    "Typically $J$ and $K$ are too large to enumerate upfront and we have to work with subsets of them, denoted by $J_s$ and $K_s$, respectively. Hence we have the following Restricted Benders Master Problem ($\\mathbf{RBMP}$):"
   ]
  },
  {
   "cell_type": "markdown",
   "metadata": {},
   "source": [
    "\\begin{align}\n",
    "&(\\mathbf{RBMP}) &\\quad \\text{min.} &\\quad \\mathbf{f}^T \\mathbf{y} + g \\\\\n",
    "& &\\quad \\text{s.t.} &\\quad (\\mathbf{b} - \\mathbf{B} \\mathbf{y})^{T} \\mathbf{u}_k^{ray} \\leq 0, \\ \\forall j \\in \\mathbf{J}_s \\\\\n",
    "& &\\quad &\\quad (\\mathbf{b} - \\mathbf{B} \\mathbf{y})^{T} \\mathbf{u}_j^{point} \\leq g, \\ \\forall k \\in \\mathbf{K}_s \\\\\n",
    "& &\\quad &\\quad j \\in \\mathbf{J}, k \\in \\mathbf{K}, \\mathbf{y} \\geq 0\n",
    "\\end{align}"
   ]
  },
  {
   "cell_type": "markdown",
   "metadata": {},
   "source": [
    "```{mermaid}\n",
    "%%| label: fig-benders-flowchart\n",
    "%%| fig-cap: Benders decomposition workflow\n",
    "\n",
    "flowchart LR\n",
    "   A[Start] --> B{Is}\n",
    "    B -->|Yes| C[OK]\n",
    "    C --> D[Rethink]\n",
    "    D --> B\n",
    "    B ---->|No| E[End]\n",
    "```"
   ]
  },
  {
   "cell_type": "markdown",
   "metadata": {},
   "source": [
    "## A linear programming example"
   ]
  },
  {
   "cell_type": "markdown",
   "metadata": {},
   "source": [
    "In this section, we will first present a small linear programming problem and solve it directly using the Gurobi API in Python - *gurobipy*.\n",
    "Then we will demonstrate the Benders decomposition approach on this artificial problem.\n",
    "Lastly, we will provide an implementation to solve this problem in gurobipy."
   ]
  },
  {
   "cell_type": "markdown",
   "metadata": {},
   "source": [
    "### The original problem and its optimal solution"
   ]
  },
  {
   "cell_type": "markdown",
   "metadata": {},
   "source": [
    "The linear program we examine here is devoid of any practical meaning and is solely used to demonstrate the solution process of Benders decomposition.\n",
    "The problem is stated below, in which $\\mathbf{x} = (x_1, x_2, x_3)$ and $\\mathbf{y} = (y_1, y_2)$ are the decision variables.\n",
    "We assume that $\\mathbf{y}$ is the complicating variable."
   ]
  },
  {
   "cell_type": "markdown",
   "metadata": {},
   "source": [
    "\\begin{align*}\n",
    "    \\text{min.} &\\quad 8x_1 + 12x_2 +10x_3 + 15y_1 + 18y_2 \\\\\n",
    "    \\text{s.t.} &\\quad 2x_1 + 3x_2 + 2x_3 + 4y_1 + 5y_2 = 300 \\\\\n",
    "    &\\quad 4x_1 + 2x_2 + 3x_3 + 2y_1 + 3y_2 = 228.75 \\\\\n",
    "    &\\quad 1x_1 + 2x_2 + 1x_3 + 1.5y_1 + 2y_2 = 150 \\\\\n",
    "    &\\quad 3x_1 + 2x_2 + 2x_3 + 1y_1 + 2y_2 = 180 \\\\\n",
    "    &\\quad x_i \\geq 0, \\ \\forall i = 1, \\cdots, 3 \\\\\n",
    "    &\\quad y_i \\geq 0, \\ \\forall j = 1, 2\n",
    "\\end{align*}"
   ]
  },
  {
   "cell_type": "markdown",
   "metadata": {},
   "source": [
    "In this example, $\\mathbf{c}^T = (8, 12, 10)$, $\\mathbf{f}^T = (15, 18)$ and $\\mathbf{b}^T = (300, 228.75, 150, 180)$.\n",
    "In addition,"
   ]
  },
  {
   "cell_type": "markdown",
   "metadata": {},
   "source": [
    "\\begin{equation*}\n",
    "\\mathbf{A} = \n",
    "\\begin{bmatrix}\n",
    "    2 & 3 & 2 \\\\\n",
    "    4 & 2 & 3 \\\\\n",
    "    1 & 2 & 1 \\\\\n",
    "    3 & 2 & 2\n",
    "\\end{bmatrix}\n",
    "\\qquad\n",
    "\\mathbf{B} = \n",
    "\\begin{bmatrix}\n",
    "    4 & 5 \\\\\n",
    "    2 & 3 \\\\\n",
    "    1.5 & 2 \\\\\n",
    "    1 & 2\n",
    "\\end{bmatrix}\n",
    "\\end{equation*}"
   ]
  },
  {
   "cell_type": "markdown",
   "metadata": {},
   "source": [
    "We first use Gurobi to identify its optimal solution."
   ]
  },
  {
   "cell_type": "code",
   "execution_count": null,
   "metadata": {},
   "outputs": [],
   "source": [
    "#| echo: true\n",
    "#| output: false\n",
    "\n",
    "import gurobipy as gp\n",
    "from gurobipy import GRB\n",
    "\n",
    "# Create a new model\n",
    "env = gp.Env(empty=True)\n",
    "env.setParam('OutputFlag', 0)\n",
    "env.start()\n",
    "model = gp.Model(env=env, name=\"original_problem\")\n",
    "\n",
    "# Decision variables\n",
    "x1 = model.addVar(vtype=GRB.CONTINUOUS, name='x1')\n",
    "x2 = model.addVar(vtype=GRB.CONTINUOUS, name='x2')\n",
    "x3 = model.addVar(vtype=GRB.CONTINUOUS, name='x3')\n",
    "y1 = model.addVar(vtype=GRB.CONTINUOUS, name='y1')\n",
    "y2 = model.addVar(vtype=GRB.CONTINUOUS, name='y2')\n",
    "\n",
    "# Objective function\n",
    "model.setObjective(8*x1 + 12*x2 + 10*x3 + 15*y1 + 18*y2, \n",
    "                   GRB.MINIMIZE)\n",
    "\n",
    "# Constraints\n",
    "model.addConstr(2*x1 + 3*x2 + 2*x3 + 4*y1 + 5*y2 == 300)\n",
    "model.addConstr(4*x1 + 2*x2 + 3*x3 + 2*y1 + 3*y2 == 220)\n",
    "# model.addConstr(1*x1 + 2*x2 + 1*x3 + 1.5*y1 + 2*y2 == 150)\n",
    "# model.addConstr(3*x1 + 2*x2 + 2*x3 + 1*y1 + 2*y2 == 180)\n",
    "\n",
    "# Optimize the model\n",
    "model.optimize()\n",
    "\n",
    "# Print the results\n",
    "if model.status == GRB.OPTIMAL:\n",
    "    print(\"Optimal solution found!\")\n",
    "    print(f'x1 = {x1.X:.2f}')\n",
    "    print(f'x2 = {x2.X:.2f}')\n",
    "    print(f'x3 = {x3.X:.2f}')\n",
    "    print(f'y1 = {y1.X:.2f}')\n",
    "    print(f'y2 = {y2.X:.2f}')\n",
    "    print(f\"Total cost: {model.objVal:.2f}\")\n",
    "else:\n",
    "    print(\"No solution found.\")\n",
    "\n",
    "# Close the Gurobi environment\n",
    "model.dispose()\n",
    "env.dispose()\n"
   ]
  },
  {
   "cell_type": "markdown",
   "metadata": {},
   "source": [
    "The optimal solution and objective value are as follows."
   ]
  },
  {
   "cell_type": "markdown",
   "metadata": {},
   "source": [
    "```{{python}}\n",
    "Optimal solution found!\n",
    "x1 = 14.29\n",
    "x2 = 0.00\n",
    "x3 = 0.00\n",
    "y1 = 0.00\n",
    "y2 = 54.29\n",
    "Total cost: 1091.43\n",
    "```"
   ]
  },
  {
   "cell_type": "markdown",
   "metadata": {},
   "source": [
    "### Benders decomposition"
   ]
  },
  {
   "cell_type": "markdown",
   "metadata": {},
   "source": [
    "We first state the subproblem as follows:"
   ]
  },
  {
   "cell_type": "markdown",
   "metadata": {},
   "source": [
    "\\begin{align*}\n",
    "    &(\\mathbf{SP}) &\\quad \\text{min.} &\\quad 8x_1 + 12x_2 +10x_3 \\\\\n",
    "    &&\\quad \\text{s.t.} &\\quad 2x_1 + 3x_2 + 2x_3 = 300 - 4y_1 - 5y_2 \\\\\n",
    "    &&&\\quad 4x_1 + 2x_2 + 3x_3 = 220 - 2y_1 + 3y_2 \\\\\n",
    "    &&&\\quad x_i \\geq 0, \\ \\forall i = 1, \\cdots, 3\n",
    "\\end{align*}"
   ]
  },
  {
   "cell_type": "markdown",
   "metadata": {},
   "source": [
    "We define two dual variables $u_1$ and $u_2$ to associate with the two constraints in the subproblem.\n",
    "The dual subproblem could then be stated as follows:"
   ]
  },
  {
   "cell_type": "markdown",
   "metadata": {},
   "source": [
    "\\begin{align*}\n",
    "    &(\\mathbf{DSP}) &\\quad \\text{max.} &\\quad (300 - 4y_1 - 5y_2) u_1 + (220 - 2y_1 + 3y_2) u_2 \\\\\n",
    "    &&\\quad \\text{s.t.} &\\quad 2u_1 + 4u_2 \\leq 8\\\\\n",
    "    &&&\\quad 3u_1 + 2u_2 \\leq 12 \\\\\n",
    "    &&&\\quad 2u_1 + 3u_2 \\leq 10 \\\\\n",
    "    &&&\\quad u_1, u_2\\  \\text{unrestricted}\n",
    "\\end{align*}"
   ]
  },
  {
   "cell_type": "markdown",
   "metadata": {},
   "source": [
    "The *RBMP* can be stated as:"
   ]
  },
  {
   "cell_type": "markdown",
   "metadata": {},
   "source": [
    "\\begin{align*}\n",
    "    &(\\mathbf{RBMP}) &\\quad \\text{min.} &\\quad 15 y_1 + 18 y_2 + g \\\\\n",
    "    &&\\quad \\text{s.t.} &\\quad  y_1, y_2 \\geq 0 \\\\\n",
    "    &&&\\quad g \\leq 0\n",
    "\\end{align*}"
   ]
  },
  {
   "cell_type": "markdown",
   "metadata": {},
   "source": [
    "### Implementation"
   ]
  },
  {
   "cell_type": "code",
   "execution_count": 4,
   "metadata": {},
   "outputs": [
    {
     "name": "stdout",
     "output_type": "stream",
     "text": [
      "Set parameter Username\n",
      "Set parameter LogFile to value \"benders\"\n"
     ]
    }
   ],
   "source": [
    "import gurobipy as gp\n",
    "from gurobipy import GRB\n",
    "\n",
    "env = gp.Env('benders')"
   ]
  },
  {
   "cell_type": "code",
   "execution_count": 8,
   "metadata": {},
   "outputs": [
    {
     "name": "stdout",
     "output_type": "stream",
     "text": [
      "Gurobi Optimizer version 10.0.3 build v10.0.3rc0 (mac64[arm])\n",
      "\n",
      "CPU model: Apple M1\n",
      "Thread count: 8 physical cores, 8 logical processors, using up to 8 threads\n",
      "\n",
      "Optimize a model with 0 rows, 3 columns and 0 nonzeros\n",
      "Model fingerprint: 0xb00b2c2a\n",
      "Coefficient statistics:\n",
      "  Matrix range     [0e+00, 0e+00]\n",
      "  Objective range  [1e+00, 2e+01]\n",
      "  Bounds range     [0e+00, 0e+00]\n",
      "  RHS range        [0e+00, 0e+00]\n",
      "Presolve removed 0 rows and 3 columns\n",
      "Presolve time: 0.01s\n",
      "Presolve: All rows and columns removed\n",
      "Iteration    Objective       Primal Inf.    Dual Inf.      Time\n",
      "       0    0.0000000e+00   0.000000e+00   0.000000e+00      0s\n",
      "\n",
      "Solved in 0 iterations and 0.02 seconds (0.00 work units)\n",
      "Optimal objective  0.000000000e+00\n",
      "y1 = 0.0\n",
      "y2 = 0.0\n",
      "g = 0.0\n"
     ]
    }
   ],
   "source": [
    "# create restricted Benders master problem\n",
    "rbmp = gp.Model(env=env, name='RBMP')\n",
    "\n",
    "# create decision variables\n",
    "y1 = rbmp.addVar(vtype=GRB.CONTINUOUS, lb=0, name='y1')\n",
    "y2 = rbmp.addVar(vtype=GRB.CONTINUOUS, lb=0, name='y2')\n",
    "g = rbmp.addVar(vtype=GRB.CONTINUOUS, lb=0, name='g')\n",
    "\n",
    "# create objective\n",
    "rbmp.setObjective(15*y1 + 18*y2 + g, GRB.MINIMIZE)\n",
    "\n",
    "rbmp.optimize()\n",
    "\n",
    "if rbmp.Status == GRB.OPTIMAL:\n",
    "    print(f'y1 = {y1.X}')\n",
    "    print(f'y2 = {y2.X}')\n",
    "    print(f'g = {g.X}')\n",
    "else:\n",
    "    print(f'No solution found!')"
   ]
  },
  {
   "cell_type": "code",
   "execution_count": null,
   "metadata": {},
   "outputs": [],
   "source": [
    "# create subproblem\n",
    "sp = gp.Model(env=env, name='SP')"
   ]
  },
  {
   "cell_type": "code",
   "execution_count": 7,
   "metadata": {},
   "outputs": [],
   "source": [
    "# create dual subproblem\n",
    "dsp = gp.Model(env=env, name='DSP')"
   ]
  }
 ],
 "metadata": {
  "kernelspec": {
   "display_name": "large-opt",
   "language": "python",
   "name": "python3"
  },
  "language_info": {
   "codemirror_mode": {
    "name": "ipython",
    "version": 3
   },
   "file_extension": ".py",
   "mimetype": "text/x-python",
   "name": "python",
   "nbconvert_exporter": "python",
   "pygments_lexer": "ipython3",
   "version": "3.11.6"
  }
 },
 "nbformat": 4,
 "nbformat_minor": 2
}
