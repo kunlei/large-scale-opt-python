{
 "cells": [
  {
   "cell_type": "markdown",
   "metadata": {},
   "source": [
    "---\n",
    "format:\n",
    "  html:\n",
    "    code-line-numbers: true\n",
    "    code-overflow: wrap\n",
    "    code-block-bg: true\n",
    "    code-block-border-left: true\n",
    "    highlight-style: Arrow\n",
    "---"
   ]
  },
  {
   "cell_type": "markdown",
   "metadata": {},
   "source": [
    "# Benders Decomposition"
   ]
  },
  {
   "cell_type": "markdown",
   "metadata": {},
   "source": [
    "In this chapter, we will explain the theories behind Benders decomposition and demonstrate its usage on a trial linear programming problem.\n",
    "Keep in mind that Benders decomposition is not limited to solving linear programming problems.\n",
    "In fact, it is one of the most powerful techniques to solve some large-scale mixed-integer linear programming problems."
   ]
  },
  {
   "cell_type": "markdown",
   "metadata": {},
   "source": [
    "In the following sections, we will go through the critical steps during the decomposition process when applying the algorithm on optimization problems represented in standard forms.\n",
    "This is important as it helps build up the intuition of when we should consider applying Benders decomposition to a problem at hand.\n",
    "Often times, recognizing the applicability of Benders decomposition is the most important and challenging step when solving an optimization problem.\n",
    "Once we know that the problem structure is suitable to solve via Benders decomposition, it is straightforward to follow the decomposition steps and put it into work."
   ]
  },
  {
   "cell_type": "markdown",
   "metadata": {},
   "source": [
    "Generally speaking, Benders decomposition is a good solution candidate when the resulting problem is much easier to solve if some of the variables in the original problem are fixed.\n",
    "We will illustrate this point using an example in the following sections.\n",
    "In the optimization world, the first candidate that should come to mind when we say a problem is easy to solve is a linear programming formulation, which is indeed the case in Benders decomposition applications."
   ]
  },
  {
   "cell_type": "markdown",
   "metadata": {},
   "source": [
    "## The Decomposition Logic"
   ]
  },
  {
   "cell_type": "markdown",
   "metadata": {},
   "source": [
    "To explain the reasoning of Benders decomposition, let us look at the standard form of linear programming problems that involve two vector variables, $\\mathbf{x}$ and $\\mathbf{y}$. Let $p$ and $q$ indicate the dimensions of $\\mathbf{x}$ and $\\mathbf{y}$, respectively.\n",
    "Below is the original problem $\\mathbf{P}$ we intend to solve."
   ]
  },
  {
   "cell_type": "markdown",
   "metadata": {},
   "source": [
    "\\begin{align}\n",
    "&(\\mathbf{P}) &\\quad \\text{min.} &\\quad \\mathbf{c}^T \\mathbf{x} + \\mathbf{f}^T \\mathbf{y} \\\\\n",
    "& &\\quad \\text{s.t.} &\\quad \\mathbf{A} \\mathbf{x} + \\mathbf{B} \\mathbf{y} = \\mathbf{b} \\\\\n",
    "& &\\quad &\\quad \\mathbf{x} \\geq 0, \\mathbf{y} \\geq 0\n",
    "\\end{align}"
   ]
  },
  {
   "cell_type": "markdown",
   "metadata": {},
   "source": [
    "In this formulation, $\\mathbf{c}$ and $\\mathbf{f}$ in the objective function represent the cost coefficients associated with decision variables $\\mathbf{x}$ and $\\mathbf{y}$, respectively.\n",
    "Both of them are column vectors of corresponding dimensions.\n",
    "In the constraints, matrix $\\mathbf{A}$ is of dimension $m \\times p$, and matrix $\\mathbf{B}$ is of dimension $m \\times q$.\n",
    "$\\mathbf{b}$ is a column vector of dimension $m$."
   ]
  },
  {
   "cell_type": "markdown",
   "metadata": {},
   "source": [
    "Suppose the variable $\\mathbf{y}$ is a complicating variable in the sense that the resulting problem is substantially easier to solve if the value of $\\mathbf{y}$ is fixed.\n",
    "In this case, we could rewrite problem $\\mathbf{P}$ as the following form:"
   ]
  },
  {
   "cell_type": "markdown",
   "metadata": {},
   "source": [
    "\\begin{align}\n",
    "\\text{min.} &\\quad \\mathbf{f}^T \\mathbf{y} + g(\\mathbf{y}) \\\\\n",
    "\\text{s.t.} &\\quad \\mathbf{y} \\geq 0\n",
    "\\end{align}"
   ]
  },
  {
   "cell_type": "markdown",
   "metadata": {},
   "source": [
    "where $g(\\mathbf{y})$ is a function of $\\mathbf{y}$ and is defined as the subproblem $\\mathbf{SP}$ of the form below:"
   ]
  },
  {
   "cell_type": "markdown",
   "metadata": {},
   "source": [
    "\\begin{align}\n",
    "&(\\mathbf{SP}) &\\quad \\text{min.} &\\quad \\mathbf{c}^T \\mathbf{x} \\\\\n",
    "& &\\quad \\text{s.t.} &\\quad \\mathbf{A} \\mathbf{x}  = \\mathbf{b} - \\mathbf{B} \\mathbf{y} \\label{bd-cons1} \\\\\n",
    "& &\\quad &\\quad \\mathbf{x} \\geq 0\n",
    "\\end{align}"
   ]
  },
  {
   "cell_type": "markdown",
   "metadata": {},
   "source": [
    "Note that the $\\mathbf{y}$ in constraint \\eqref{bd-cons1} takes on some known values when the problem is solved and the only decision variable in the above formulation is $\\mathbf{x}$.\n",
    "The dual problem of $\\mathbf{SP}$, $\\mathbf{DSP}$, is given below.\n"
   ]
  },
  {
   "cell_type": "markdown",
   "metadata": {},
   "source": [
    "\\begin{align}\n",
    "&(\\mathbf{DSP}) &\\quad \\text{max.} &\\quad (\\mathbf{b} - \\mathbf{B} \\mathbf{y})^{T} \\mathbf{u} \\\\\n",
    "& &\\quad \\text{s.t.} &\\quad \\mathbf{A}^T \\mathbf{u} \\leq \\mathbf{c} \\label{bd-cons2} \\\\\n",
    "& &\\quad &\\quad \\mathbf{u}\\  \\text{unrestricted}\n",
    "\\end{align}"
   ]
  },
  {
   "cell_type": "markdown",
   "metadata": {},
   "source": [
    "A key characteristic of the above $\\mathbf{DSP}$ is that its solution space does not depend on the value of $\\mathbf{y}$, which only affects the objective function.\n",
    "According to the Minkowski’s representation theorem, any $\\bar{\\mathbf{u}}$ satisfying the constraints \\eqref{bd-cons2} can be expressed as"
   ]
  },
  {
   "cell_type": "markdown",
   "metadata": {},
   "source": [
    "\\begin{align}\n",
    "\\bar{\\mathbf{u}} = \\sum_{j \\in \\mathbf{J}} \\lambda_j \\mathbf{u}_{j}^{point} + \\sum_{k \\in \\mathbf{K}} \\mu_k \\mathbf{u}_k^{ray}\n",
    "\\end{align}"
   ]
  },
  {
   "cell_type": "markdown",
   "metadata": {},
   "source": [
    "where $\\mathbf{u}_j^{point}$ and $\\mathbf{u}_k^{ray}$ represent an extreme point and extreme ray, respectively.\n",
    "In addition, $\\lambda_j \\geq 0$ for all $j \\in \\mathbf{J}$ and $\\sum_{j \\in \\mathbf{J}}\\lambda_j = 1$, and $\\mu_k \\geq 0$ for all $k \\in \\mathbf{K}$.\n",
    "It follows that the $\\mathbf{DSP}$ is equivalent to "
   ]
  },
  {
   "cell_type": "markdown",
   "metadata": {},
   "source": [
    "\\begin{align}\n",
    "\\text{max.} &\\quad (\\mathbf{b} - \\mathbf{B} \\mathbf{y})^{T} (\\sum_{j \\in \\mathbf{J}} \\lambda_j \\mathbf{u}_{j}^{point} + \\sum_{k \\in \\mathbf{K}} \\mu_k \\mathbf{u}_k^{ray}) \\\\\n",
    "\\text{s.t.} &\\quad \\sum_{j \\in \\mathbf{J}}\\lambda_j = 1 \\\\\n",
    "&\\quad \\lambda_j \\geq 0, \\ \\forall j \\in \\mathbf{J} \\\\\n",
    "&\\quad \\mu_k \\geq 0, \\ \\forall k \\in \\mathbf{K}\n",
    "\\end{align}"
   ]
  },
  {
   "cell_type": "markdown",
   "metadata": {},
   "source": [
    "We can therefore conclude that\n",
    "\n",
    "- The $\\mathbf{DSP}$ becomes unbounded if any $\\mathbf{u}_k^{ray}$ exists such that $(\\mathbf{b} - \\mathbf{B} \\mathbf{y})^{T} \\mathbf{u}_k^{ray} > 0$.\n",
    "Note that an unbounded $\\mathbf{DSP}$ implies an infeasible $\\mathbf{SP}$ and to prevent this from happening, we have to ensure that $(\\mathbf{b} - \\mathbf{B} \\mathbf{y})^{T} \\mathbf{u}_k^{ray} \\leq 0$ for all $k \\in \\mathbf{K}$.\n",
    "- If an optimal solution to $\\mathbf{DSP}$ exists, it must occur at one of the extreme points. Let $g$ denote the optimal objective value, it follows that $(\\mathbf{b} - \\mathbf{B} \\mathbf{y})^{T} \\mathbf{u}_j^{point} \\leq g$ for all $j \\in \\mathbf{J}$.\n",
    "\n",
    "Based on this idea, the $\\mathbf{DSP}$ can be reformulated as follows:"
   ]
  },
  {
   "cell_type": "markdown",
   "metadata": {},
   "source": [
    "\\begin{align}\n",
    "\\text{min.} &\\quad g \\\\\n",
    "\\text{s.t.} &\\quad (\\mathbf{b} - \\mathbf{B} \\mathbf{y})^{T} \\mathbf{u}_k^{ray} \\leq 0, \\ \\forall j \\in \\mathbf{J} \\label{bd-feas} \\\\\n",
    "&\\quad (\\mathbf{b} - \\mathbf{B} \\mathbf{y})^{T} \\mathbf{u}_j^{point} \\leq g, \\ \\forall k \\in \\mathbf{K} \\label{bd-opt} \\\\\n",
    "&\\quad j \\in \\mathbf{J}, k \\in \\mathbf{K}\n",
    "\\end{align}"
   ]
  },
  {
   "cell_type": "markdown",
   "metadata": {},
   "source": [
    "Constraints \\eqref{bd-feas} are called **Benders feasibility cuts**, while constraints \\eqref{bd-opt} are called **Benders optimality cuts**.\n",
    "Now we are ready to define the Benders Master Problem ($\\mathbf{BMP}$) as follows:"
   ]
  },
  {
   "cell_type": "markdown",
   "metadata": {},
   "source": [
    "\\begin{align}\n",
    "&(\\mathbf{BMP}) &\\quad \\text{min.} &\\quad \\mathbf{f}^T \\mathbf{y} + g \\\\\n",
    "& &\\quad \\text{s.t.} &\\quad (\\mathbf{b} - \\mathbf{B} \\mathbf{y})^{T} \\mathbf{u}_k^{ray} \\leq 0, \\ \\forall j \\in \\mathbf{J} \\\\\n",
    "& &\\quad &\\quad (\\mathbf{b} - \\mathbf{B} \\mathbf{y})^{T} \\mathbf{u}_j^{point} \\leq g, \\ \\forall k \\in \\mathbf{K} \\\\\n",
    "& &\\quad &\\quad j \\in \\mathbf{J}, k \\in \\mathbf{K}, \\mathbf{y} \\geq 0\n",
    "\\end{align}"
   ]
  },
  {
   "cell_type": "markdown",
   "metadata": {},
   "source": [
    "Typically $J$ and $K$ are too large to enumerate upfront and we have to work with subsets of them, denoted by $J_s$ and $K_s$, respectively. Hence we have the following Restricted Benders Master Problem ($\\mathbf{RBMP}$):"
   ]
  },
  {
   "cell_type": "markdown",
   "metadata": {},
   "source": [
    "\\begin{align}\n",
    "&(\\mathbf{RBMP}) &\\quad \\text{min.} &\\quad \\mathbf{f}^T \\mathbf{y} + g \\\\\n",
    "& &\\quad \\text{s.t.} &\\quad (\\mathbf{b} - \\mathbf{B} \\mathbf{y})^{T} \\mathbf{u}_k^{ray} \\leq 0, \\ \\forall j \\in \\mathbf{J}_s \\\\\n",
    "& &\\quad &\\quad (\\mathbf{b} - \\mathbf{B} \\mathbf{y})^{T} \\mathbf{u}_j^{point} \\leq g, \\ \\forall k \\in \\mathbf{K}_s \\\\\n",
    "& &\\quad &\\quad j \\in \\mathbf{J}, k \\in \\mathbf{K}, \\mathbf{y} \\geq 0\n",
    "\\end{align}"
   ]
  },
  {
   "cell_type": "markdown",
   "metadata": {},
   "source": [
    "```{mermaid}\n",
    "%%| label: fig-benders-flowchart\n",
    "%%| fig-cap: Benders decomposition workflow\n",
    "\n",
    "flowchart LR\n",
    "   A[Start] --> B{Is}\n",
    "    B -->|Yes| C[OK]\n",
    "    C --> D[Rethink]\n",
    "    D --> B\n",
    "    B ---->|No| E[End]\n",
    "```"
   ]
  },
  {
   "cell_type": "markdown",
   "metadata": {},
   "source": [
    "## A linear programming example"
   ]
  },
  {
   "cell_type": "markdown",
   "metadata": {},
   "source": [
    "In this section, we will first present a small linear programming problem and solve it directly using the Gurobi API in Python - *gurobipy*.\n",
    "Then we will demonstrate the Benders decomposition approach on this artificial problem.\n",
    "Lastly, we will provide an implementation to solve this problem in gurobipy."
   ]
  },
  {
   "cell_type": "markdown",
   "metadata": {},
   "source": [
    "### The original problem and its optimal solution"
   ]
  },
  {
   "cell_type": "markdown",
   "metadata": {},
   "source": [
    "The linear program we examine here is devoid of any practical meaning and is solely used to demonstrate the solution process of Benders decomposition.\n",
    "The problem is stated below, in which $\\mathbf{x} = (x_1, x_2, x_3)$ and $\\mathbf{y} = (y_1, y_2)$ are the decision variables.\n",
    "We assume that $\\mathbf{y}$ is the complicating variable."
   ]
  },
  {
   "cell_type": "markdown",
   "metadata": {},
   "source": [
    "\\begin{align*}\n",
    "    \\text{min.} &\\quad 8x_1 + 12x_2 +10x_3 + 15y_1 + 18y_2 \\\\\n",
    "    \\text{s.t.} &\\quad 2x_1 + 3x_2 + 2x_3 + 4y_1 + 5y_2 = 300 \\\\\n",
    "    &\\quad 4x_1 + 2x_2 + 3x_3 + 2y_1 + 3y_2 = 220 \\\\\n",
    "    &\\quad x_i \\geq 0, \\ \\forall i = 1, \\cdots, 3 \\\\\n",
    "    &\\quad y_i \\geq 0, \\ \\forall j = 1, 2\n",
    "\\end{align*}"
   ]
  },
  {
   "cell_type": "markdown",
   "metadata": {},
   "source": [
    "In this example, $\\mathbf{c}^T = (8, 12, 10)$, $\\mathbf{f}^T = (15, 18)$ and $\\mathbf{b}^T = (300, 220)$.\n",
    "In addition,"
   ]
  },
  {
   "cell_type": "markdown",
   "metadata": {},
   "source": [
    "\\begin{equation*}\n",
    "\\mathbf{A} = \n",
    "\\begin{bmatrix}\n",
    "    2 & 3 & 2 \\\\\n",
    "    4 & 2 & 3 \\\\\n",
    "\\end{bmatrix}\n",
    "\\qquad\n",
    "\\mathbf{B} = \n",
    "\\begin{bmatrix}\n",
    "    4 & 5 \\\\\n",
    "    2 & 3 \\\\\n",
    "\\end{bmatrix}\n",
    "\\end{equation*}"
   ]
  },
  {
   "cell_type": "markdown",
   "metadata": {},
   "source": [
    "We first use Gurobi to identify its optimal solution."
   ]
  },
  {
   "cell_type": "code",
   "execution_count": null,
   "metadata": {},
   "outputs": [],
   "source": [
    "#| echo: true\n",
    "#| output: false\n",
    "\n",
    "import gurobipy as gp\n",
    "from gurobipy import GRB\n",
    "\n",
    "# Create a new model\n",
    "env = gp.Env(empty=True)\n",
    "env.setParam('OutputFlag', 0)\n",
    "env.start()\n",
    "model = gp.Model(env=env, name=\"original_problem\")\n",
    "\n",
    "# Decision variables\n",
    "x1 = model.addVar(vtype=GRB.CONTINUOUS, name='x1')\n",
    "x2 = model.addVar(vtype=GRB.CONTINUOUS, name='x2')\n",
    "x3 = model.addVar(vtype=GRB.CONTINUOUS, name='x3')\n",
    "y1 = model.addVar(vtype=GRB.CONTINUOUS, name='y1')\n",
    "y2 = model.addVar(vtype=GRB.CONTINUOUS, name='y2')\n",
    "\n",
    "# Objective function\n",
    "model.setObjective(8*x1 + 12*x2 + 10*x3 + 15*y1 + 18*y2, \n",
    "                   GRB.MINIMIZE)\n",
    "\n",
    "# Constraints\n",
    "model.addConstr(2*x1 + 3*x2 + 2*x3 + 4*y1 + 5*y2 == 300)\n",
    "model.addConstr(4*x1 + 2*x2 + 3*x3 + 2*y1 + 3*y2 == 220)\n",
    "\n",
    "# Optimize the model\n",
    "model.optimize()\n",
    "\n",
    "# Print the results\n",
    "if model.status == GRB.OPTIMAL:\n",
    "    print(\"Optimal solution found!\")\n",
    "    print(f'x1 = {x1.X:.2f}')\n",
    "    print(f'x2 = {x2.X:.2f}')\n",
    "    print(f'x3 = {x3.X:.2f}')\n",
    "    print(f'y1 = {y1.X:.2f}')\n",
    "    print(f'y2 = {y2.X:.2f}')\n",
    "    print(f\"Total cost: {model.objVal:.2f}\")\n",
    "else:\n",
    "    print(\"No solution found.\")\n",
    "\n",
    "# Close the Gurobi environment\n",
    "model.dispose()\n",
    "env.dispose()\n"
   ]
  },
  {
   "cell_type": "markdown",
   "metadata": {},
   "source": [
    "The optimal solution and objective value are as follows."
   ]
  },
  {
   "cell_type": "markdown",
   "metadata": {},
   "source": [
    "```{{python}}\n",
    "Optimal solution found!\n",
    "x1 = 14.29\n",
    "x2 = 0.00\n",
    "x3 = 0.00\n",
    "y1 = 0.00\n",
    "y2 = 54.29\n",
    "Total cost: 1091.43\n",
    "```"
   ]
  },
  {
   "cell_type": "markdown",
   "metadata": {},
   "source": [
    "### Benders decomposition"
   ]
  },
  {
   "cell_type": "markdown",
   "metadata": {},
   "source": [
    "We first state the subproblem as follows:"
   ]
  },
  {
   "cell_type": "markdown",
   "metadata": {},
   "source": [
    "\\begin{align*}\n",
    "    &(\\mathbf{SP}) &\\quad \\text{min.} &\\quad 8x_1 + 12x_2 +10x_3 \\\\\n",
    "    &&\\quad \\text{s.t.} &\\quad 2x_1 + 3x_2 + 2x_3 = 300 - 4y_1 - 5y_2 \\\\\n",
    "    &&&\\quad 4x_1 + 2x_2 + 3x_3 = 220 - 2y_1 - 3y_2 \\\\\n",
    "    &&&\\quad x_i \\geq 0, \\ \\forall i = 1, \\cdots, 3\n",
    "\\end{align*}"
   ]
  },
  {
   "cell_type": "markdown",
   "metadata": {},
   "source": [
    "We define two dual variables $u_1$ and $u_2$ to associate with the two constraints in the subproblem.\n",
    "The dual subproblem could then be stated as follows:"
   ]
  },
  {
   "cell_type": "markdown",
   "metadata": {},
   "source": [
    "\\begin{align*}\n",
    "    &(\\mathbf{DSP}) &\\quad \\text{max.} &\\quad (300 - 4y_1 - 5y_2) u_1 + (220 - 2y_1 - 3y_2) u_2 \\\\\n",
    "    &&\\quad \\text{s.t.} &\\quad 2u_1 + 4u_2 \\leq 8\\\\\n",
    "    &&&\\quad 3u_1 + 2u_2 \\leq 12 \\\\\n",
    "    &&&\\quad 2u_1 + 3u_2 \\leq 10 \\\\\n",
    "    &&&\\quad u_1, u_2\\  \\text{unrestricted}\n",
    "\\end{align*}"
   ]
  },
  {
   "cell_type": "markdown",
   "metadata": {},
   "source": [
    "The *RBMP* can be stated as:"
   ]
  },
  {
   "cell_type": "markdown",
   "metadata": {},
   "source": [
    "\\begin{align*}\n",
    "    &(\\mathbf{RBMP}) &\\quad \\text{min.} &\\quad 15 y_1 + 18 y_2 + g \\\\\n",
    "    &&\\quad \\text{s.t.} &\\quad  y_1, y_2 \\geq 0 \\\\\n",
    "    &&&\\quad g \\leq 0\n",
    "\\end{align*}"
   ]
  },
  {
   "cell_type": "markdown",
   "metadata": {},
   "source": [
    "### Solving the problem step by step"
   ]
  },
  {
   "cell_type": "markdown",
   "metadata": {},
   "source": [
    "In this section, we will solve the linear program step by step using Gurobi.\n",
    "To this end, we first import the necessary libraries and create an environment `env`."
   ]
  },
  {
   "cell_type": "code",
   "execution_count": null,
   "metadata": {},
   "outputs": [],
   "source": [
    "#｜ output: false\n",
    "import numpy as np\n",
    "import gurobipy as gp\n",
    "from gurobipy import GRB\n",
    "\n",
    "env = gp.Env('benders')\n",
    "env.setParam('OutputFlag', 0)"
   ]
  },
  {
   "cell_type": "markdown",
   "metadata": {},
   "source": [
    "Next, we initialize several algorithm parameters, specifically, we use `lb` and `ub` to represent the lower and upper bounds of the solution.\n",
    "The `eps` is defined as a small number to decide whether the searching process should stop."
   ]
  },
  {
   "cell_type": "markdown",
   "metadata": {},
   "source": [
    "The remaining codes aim to create the restricted master Benders problem indicated by `rbmp`.\n",
    "Note that it only has the $y$ and $g$ variables and the objective function, there is no constraint added to the model yet."
   ]
  },
  {
   "cell_type": "code",
   "execution_count": null,
   "metadata": {},
   "outputs": [],
   "source": [
    "# parameters\n",
    "lb = -GRB.INFINITY\n",
    "ub = GRB.INFINITY\n",
    "eps = 1.0e-5\n",
    "\n",
    "# create restricted Benders master problem\n",
    "rbmp = gp.Model(env=env, name='RBMP')\n",
    "\n",
    "# create decision variables\n",
    "y1 = rbmp.addVar(vtype=GRB.CONTINUOUS, lb=0, name='y1')\n",
    "y2 = rbmp.addVar(vtype=GRB.CONTINUOUS, lb=0, name='y2')\n",
    "g = rbmp.addVar(vtype=GRB.CONTINUOUS, lb=0, name='g')\n",
    "\n",
    "# create objective\n",
    "rbmp.setObjective(15*y1 + 18*y2 + g, GRB.MINIMIZE)"
   ]
  },
  {
   "cell_type": "markdown",
   "metadata": {},
   "source": [
    "We then define the model in Gurobi to solve the dual subproblem, represented by `dsp`.\n",
    "It consists of two decision variables `u1` and `u2`.\n",
    "The constraints are created in lines 12 - 14."
   ]
  },
  {
   "cell_type": "code",
   "execution_count": null,
   "metadata": {},
   "outputs": [],
   "source": [
    "# create dual subproblem\n",
    "dsp = gp.Model(env=env, name='DSP')\n",
    "\n",
    "# create decision variables\n",
    "u1 = dsp.addVar(vtype=GRB.CONTINUOUS, name='u1')\n",
    "u2 = dsp.addVar(vtype=GRB.CONTINUOUS, name='u2')\n",
    "\n",
    "# create objective function\n",
    "dsp.setObjective(300*u1 + 220*u2)\n",
    "\n",
    "# create constraints\n",
    "dsp.addConstr(2*u1 + 4*u2 <= 8, name='c1')\n",
    "dsp.addConstr(3*u1 + 2*u2 <= 12, name='c2')\n",
    "dsp.addConstr(2*u1 + 3*u2 <= 10, name='c3')\n",
    "\n",
    "dsp.update()"
   ]
  },
  {
   "cell_type": "markdown",
   "metadata": {},
   "source": [
    "In the very first iteration,  we solve the **RBMP**, as shown in the following code snippet."
   ]
  },
  {
   "cell_type": "code",
   "execution_count": null,
   "metadata": {},
   "outputs": [],
   "source": [
    "rbmp.optimize()\n",
    "\n",
    "if rbmp.status == GRB.OPTIMAL:\n",
    "    print(f'optimal solution found!')\n",
    "    \n",
    "    y1_opt = y1.X\n",
    "    y2_opt = y2.X\n",
    "    g_opt = g.X\n",
    "    lb = np.max([lb, rbmp.objVal])\n",
    "    \n",
    "    print(f'optimal obj: {rbmp.objVal:.2f}')\n",
    "    print(f'y1 = {y1_opt:.2f}')\n",
    "    print(f'y2 = {y2_opt:.2f}')\n",
    "    print(f'g = {g_opt:.2f}')\n",
    "    print(f'lb={lb}, ub={ub}')\n",
    "elif rbmp.status == GRB.INFEASIBLE:\n",
    "    print(f'original problem is infeasible!')"
   ]
  },
  {
   "cell_type": "markdown",
   "metadata": {},
   "source": [
    "Now we have obtained an optimal solution $(\\bar{y_1}, \\bar{y_2}, \\bar{g}) = (0, 0, 0)$, which also provides a new lower bound to our problem.\n",
    "We now feed the values of $\\bar{y_1}$ and $\\bar{y_2}$ into the Benders subproblem **(SP)**:"
   ]
  },
  {
   "cell_type": "code",
   "execution_count": null,
   "metadata": {},
   "outputs": [],
   "source": [
    "\n",
    "dsp.setObjective((300-4*y1_opt-5*y2_opt)*u1 + \n",
    "                 (220-2*y1_opt-3*y2_opt)*u2, \n",
    "                 GRB.MAXIMIZE)\n",
    "dsp.update()\n",
    "dsp.optimize()\n",
    "\n",
    "if dsp.status == GRB.OPTIMAL:\n",
    "    u1_opt = u1.X\n",
    "    u2_opt = u2.X\n",
    "    \n",
    "    print(f'optimal obj = {dsp.objVal:.2f}')\n",
    "    print(f'u1 = {u1_opt:.2f}')\n",
    "    print(f'u2 = {u2_opt:.2f}')\n",
    "    ub = np.min([ub, 15*y1_opt + 18*y2_opt + dsp.objVal])\n",
    "    print(f'lb={lb}, ub={ub}')\n",
    "elif dsp.Status == GRB.UNBOUNDED:\n",
    "    # add feasibility cut\n",
    "    pass\n",
    "else:\n",
    "    pass"
   ]
  },
  {
   "cell_type": "markdown",
   "metadata": {},
   "source": [
    "We see that the dual subproblem has an optimal solution.\n",
    "Note that in line 15, the upper bound of the problem is updated."
   ]
  },
  {
   "cell_type": "markdown",
   "metadata": {},
   "source": [
    "Since the optimal objective value of the subproblem turns out to be 1200 and is greater than $\\bar{g} = 0$, which implies that an optimality cut is needed to make sure that the variable $g$ in the restricted Benders master problem reflects this newly obtained information from the subproblem."
   ]
  },
  {
   "cell_type": "code",
   "execution_count": null,
   "metadata": {},
   "outputs": [],
   "source": [
    "rbmp.addConstr((300-4*y2-5*y2)*u1_opt \n",
    "               + (220-2*y1-3*y2)*u2_opt <= g, \n",
    "               name='c3')\n",
    "rbmp.update()\n",
    "rbmp.optimize()\n",
    "\n",
    "if rbmp.status == GRB.OPTIMAL:\n",
    "    print(f'optimal solution found!')\n",
    "    \n",
    "    y1_opt = y1.X\n",
    "    y2_opt = y2.X\n",
    "    g_opt = g.X\n",
    "    lb = np.max([lb, rbmp.objVal])\n",
    "    \n",
    "    print(f'optimal obj: {rbmp.objVal:.2f}')\n",
    "    print(f'y1 = {y1_opt:.2f}')\n",
    "    print(f'y2 = {y2_opt:.2f}')\n",
    "    print(f'g = {g_opt:.2f}')\n",
    "    print(f'lb={lb}, ub={ub}')\n",
    "elif rbmp.status == GRB.INFEASIBLE:\n",
    "    print(f'original problem is infeasible!')"
   ]
  },
  {
   "cell_type": "markdown",
   "metadata": {},
   "source": [
    "Now we solve the subproblem again with the newly obtained solution $(\\bar{y_1}, \\bar{y_2}, \\bar{g}) = (0, 33.33, 0)$."
   ]
  },
  {
   "cell_type": "code",
   "execution_count": null,
   "metadata": {},
   "outputs": [],
   "source": [
    "dsp.setObjective((300 - 4*y1_opt - 5*y2_opt) * u1 \n",
    "                 + (220 - 2*y1_opt - 3*y2_opt) * u2, \n",
    "                 GRB.MAXIMIZE)\n",
    "dsp.update()\n",
    "dsp.optimize()\n",
    "\n",
    "if dsp.status == GRB.OPTIMAL:\n",
    "    u1_opt = u1.X\n",
    "    u2_opt = u2.X\n",
    "    \n",
    "    print(f'optimal obj = {dsp.objVal:.2f}')\n",
    "    print(f'u1 = {u1_opt:.2f}')\n",
    "    print(f'u2 = {u2_opt:.2f}')\n",
    "    ub = np.min([ub, 15*y1_opt + 18*y2_opt + dsp.objVal])\n",
    "    print(f'lb={lb}, ub={ub}')\n",
    "elif dsp.status == GRB.UNBOUNDED:\n",
    "    print(f'dual subproblem is unbounded!')"
   ]
  },
  {
   "cell_type": "markdown",
   "metadata": {},
   "source": [
    "Since the optimal objective value of the subproblem, 533.33, is still bigger than $\\bar{g} = 0$, an optimality cut is needed.\n",
    "In the below code snippet, we add the new cut and solve the restricted Benders master problem again."
   ]
  },
  {
   "cell_type": "code",
   "execution_count": null,
   "metadata": {},
   "outputs": [],
   "source": [
    "rbmp.addConstr((300 - 4*y1 - 5*y2) * u1_opt + (220 - 2*y1 - 3*y2) * u2_opt <= g, name='c3')\n",
    "rbmp.update()\n",
    "rbmp.optimize()\n",
    "\n",
    "if rbmp.status == GRB.OPTIMAL:\n",
    "    print(f'optimal solution found!')\n",
    "    \n",
    "    y1_opt = y1.X\n",
    "    y2_opt = y2.X\n",
    "    g_opt = g.X\n",
    "    lb = np.max([lb, rbmp.objVal])\n",
    "    \n",
    "    print(f'optimal obj: {rbmp.objVal:.2f}')\n",
    "    print(f'y1 = {y1_opt:.2f}')\n",
    "    print(f'y2 = {y2_opt:.2f}')\n",
    "    print(f'g = {g_opt:.2f}')\n",
    "    print(f'lb={lb}, ub={ub}')\n",
    "elif rbmp.status == GRB.INFEASIBLE:\n",
    "    print(f'original problem is infeasible!')"
   ]
  },
  {
   "cell_type": "markdown",
   "metadata": {},
   "source": [
    "Note that a new lower bound is obtained after solving the master problem.\n",
    "Since there is still a large gap between the lower bound and upper bound, we continue solving the subproblem."
   ]
  },
  {
   "cell_type": "code",
   "execution_count": null,
   "metadata": {},
   "outputs": [],
   "source": [
    "dsp.setObjective((300 - 4*y1_opt - 5*y2_opt) * u1 + (220 - 2*y1_opt - 3*y2_opt) * u2, GRB.MAXIMIZE)\n",
    "dsp.update()\n",
    "dsp.optimize()\n",
    "\n",
    "if dsp.status == GRB.OPTIMAL:\n",
    "    u1_opt = u1.X\n",
    "    u2_opt = u2.X\n",
    "    \n",
    "    print(f'optimal obj = {dsp.objVal:.2f}')\n",
    "    print(f'u1 = {u1_opt:.2f}')\n",
    "    print(f'u2 = {u2_opt:.2f}')\n",
    "    ub = np.min([ub, 15*y1_opt + 18*y2_opt + dsp.objVal])\n",
    "    print(f'lb={lb}, ub={ub}')\n",
    "elif dsp.status == GRB.UNBOUNDED:\n",
    "    print(f'dual subproblem is unbounded!')"
   ]
  },
  {
   "cell_type": "markdown",
   "metadata": {},
   "source": [
    "Now the upper bound is reduced to 1133.33, but the subproblem optimal solution is still bigger than the value of $\\bar{g} = 0$."
   ]
  },
  {
   "cell_type": "code",
   "execution_count": null,
   "metadata": {},
   "outputs": [],
   "source": [
    "rbmp.addConstr((300 - 4*y1 - 5*y2) * u1_opt + (220 - 2*y1 - 3*y2) * u2_opt <= g, name='c3')\n",
    "rbmp.update()\n",
    "rbmp.optimize()\n",
    "\n",
    "if rbmp.status == GRB.OPTIMAL:\n",
    "    print(f'optimal solution found!')\n",
    "    \n",
    "    y1_opt = y1.X\n",
    "    y2_opt = y2.X\n",
    "    g_opt = g.X\n",
    "    lb = np.max([lb, rbmp.objVal])\n",
    "    \n",
    "    print(f'optimal obj: {rbmp.objVal:.2f}')\n",
    "    print(f'y1 = {y1_opt:.2f}')\n",
    "    print(f'y2 = {y2_opt:.2f}')\n",
    "    print(f'g = {g_opt:.2f}')\n",
    "    print(f'lb={lb}, ub={ub}')\n",
    "elif rbmp.status == GRB.INFEASIBLE:\n",
    "    print(f'original problem is infeasible!')"
   ]
  },
  {
   "cell_type": "code",
   "execution_count": null,
   "metadata": {},
   "outputs": [],
   "source": [
    "dsp.setObjective((300 - 4*y1_opt - 5*y2_opt) * u1 + (220 - 2*y1_opt - 3*y2_opt) * u2, GRB.MAXIMIZE)\n",
    "dsp.update()\n",
    "dsp.optimize()\n",
    "\n",
    "if dsp.status == GRB.OPTIMAL:\n",
    "    u1_opt = u1.X\n",
    "    u2_opt = u2.X\n",
    "    \n",
    "    print(f'optimal obj = {dsp.objVal:.2f}')\n",
    "    print(f'u1 = {u1_opt:.2f}')\n",
    "    print(f'u2 = {u2_opt:.2f}')\n",
    "    ub = np.min([ub, 15*y1_opt + 18*y2_opt + dsp.objVal])\n",
    "    print(f'lb={lb}, ub={ub}')\n",
    "elif dsp.status == GRB.UNBOUNDED:\n",
    "    print(f'dual subproblem is unbounded!')"
   ]
  },
  {
   "cell_type": "markdown",
   "metadata": {},
   "source": [
    "Now the gap between the lower bound and upper bound is reduced to 0, the problem completes."
   ]
  },
  {
   "cell_type": "markdown",
   "metadata": {},
   "source": [
    "### Putting it together"
   ]
  },
  {
   "cell_type": "markdown",
   "metadata": {},
   "source": [
    "Certainly we don't want to manually control the interaction between the master problem and subproblem to find the optimal solution.\n",
    "Therefore, in this section, we will put every together to come up with a control flow to help us identify the optimal solution automatically."
   ]
  },
  {
   "cell_type": "code",
   "execution_count": 2,
   "metadata": {},
   "outputs": [],
   "source": [
    "import gurobipy as gp\n",
    "from gurobipy import GRB\n",
    "import numpy as np\n",
    "from enum import Enum\n",
    "\n",
    "class OptStatus(Enum):\n",
    "    OPTIMAL = 0\n",
    "    UNBOUNDED = 1\n",
    "    INFEASIBLE = 2\n",
    "    ERROR = 3"
   ]
  },
  {
   "cell_type": "code",
   "execution_count": 55,
   "metadata": {},
   "outputs": [],
   "source": [
    "class MasterSolver:\n",
    "    \n",
    "    def __init__(self, env):\n",
    "        self._model = gp.Model(env=env, name='RBMP')\n",
    "        \n",
    "        # create decision variables\n",
    "        self._y1 = self._model.addVar(vtype=GRB.CONTINUOUS, lb=0, name='y1')\n",
    "        self._y2 = self._model.addVar(vtype=GRB.CONTINUOUS, lb=0, name='y2')\n",
    "        self._g = self._model.addVar(vtype=GRB.CONTINUOUS, lb=0, name='g')\n",
    "\n",
    "        # create objective\n",
    "        self._model.setObjective(15*self._y1 + 18*self._y2 + self._g, GRB.MINIMIZE)\n",
    "        \n",
    "        self._opt_obj = None\n",
    "        self._opt_y1 = None\n",
    "        self._opt_y2 = None\n",
    "        self._opt_g = None\n",
    "        \n",
    "    def solve(self) -> OptStatus:\n",
    "        print('-' * 50)\n",
    "        print(f'Start solving master problem.')\n",
    "        self._model.optimize()\n",
    "        \n",
    "        opt_status = None\n",
    "        if self._model.status == GRB.OPTIMAL:\n",
    "            opt_status = OptStatus.OPTIMAL\n",
    "            self._opt_obj = self._model.objVal\n",
    "            self._opt_y1 = self._y1.X\n",
    "            self._opt_y2 = self._y2.X\n",
    "            self._opt_g = self._g.X\n",
    "            print(f'\\tmaster problem is optimal.')\n",
    "            print(f'\\topt_obj={self._opt_obj:.2f}')\n",
    "            print(f'\\topt_y1={self._opt_y1:.2f}, opt_y2={self._opt_y2:.2f}, opt_g={self._opt_g:.2f}')\n",
    "        elif self._model.status == GRB.INFEASIBLE:\n",
    "            print(f'\\tmaster problem is infeasible.')\n",
    "            opt_status = OptStatus.INFEASIBLE\n",
    "        else:\n",
    "            print(f'\\tmaster problem encountered error.')\n",
    "            opt_status = OptStatus.ERROR\n",
    "        \n",
    "        print(f'Finish solving master problem.') \n",
    "        print('-' * 50)\n",
    "        return opt_status\n",
    "    \n",
    "    def add_feasibility_cut(self, opt_u1, opt_u2) -> None:\n",
    "        self._model.addConstr((300 - 4*self._y1 - 5*self._y2) * opt_u1 + \n",
    "                              (220 - 2*self._y1 - 3*self._y2) * opt_u2 <= 0)\n",
    "        print(f'Benders feasibility cut added!')\n",
    "    \n",
    "    def add_optimality_cut(self, opt_u1, opt_u2) -> None:\n",
    "        self._model.addConstr((300 - 4*self._y1 - 5*self._y2) * opt_u1 + \n",
    "                              (220 - 2*self._y1 - 3*self._y2) * opt_u2 <= self._g)\n",
    "        print(f'Benders optimality cut added!')\n",
    "    \n",
    "    def clean_up(self):\n",
    "        self._model.dispose()\n",
    "        \n",
    "    @property\n",
    "    def opt_obj(self):\n",
    "        return self._opt_obj\n",
    "    \n",
    "    @property\n",
    "    def opt_y1(self):\n",
    "        return self._opt_y1\n",
    "    \n",
    "    @property\n",
    "    def opt_y2(self):\n",
    "        return self._opt_y2\n",
    "    \n",
    "    @property\n",
    "    def opt_g(self):\n",
    "        return self._g"
   ]
  },
  {
   "cell_type": "code",
   "execution_count": 56,
   "metadata": {},
   "outputs": [],
   "source": [
    "class DualSubprobSolver:\n",
    "    \n",
    "    def __init__(self, env):\n",
    "        self._model = gp.Model(env=env, name='DSP')\n",
    "        \n",
    "        # create decision variables\n",
    "        self._u1 = self._model.addVar(vtype=GRB.CONTINUOUS, name='u1')\n",
    "        self._u2 = self._model.addVar(vtype=GRB.CONTINUOUS, name='u2')\n",
    "        \n",
    "        # create constraints\n",
    "        self._model.addConstr(2*self._u1 + 4*self._u2 <= 8, name='c1')\n",
    "        self._model.addConstr(3*self._u1 + 2*self._u2 <= 12, name='c2')\n",
    "        self._model.addConstr(2*self._u1 + 3*self._u2 <= 10, name='c3')\n",
    "        \n",
    "        self._model.setObjective(1, GRB.MAXIMIZE)\n",
    "        self._model.update()\n",
    "        \n",
    "        self._opt_obj = None\n",
    "        self._opt_u1 = None\n",
    "        self._opt_u2 = None\n",
    "    \n",
    "    def solve(self):\n",
    "        print('-' * 50)\n",
    "        print(f'Start solving dual subproblem.')\n",
    "        self._model.optimize()\n",
    "        \n",
    "        status = None\n",
    "        if self._model.status == GRB.OPTIMAL:\n",
    "            self._opt_obj = self._model.objVal\n",
    "            self._opt_u1 = self._u1.X\n",
    "            self._opt_u2 = self._u2.X\n",
    "            status = OptStatus.OPTIMAL\n",
    "            print(f'\\tdual subproblem is optimal.')\n",
    "            print(f'\\topt_obj={self._opt_obj:.2f}')\n",
    "            print(f'\\topt_y1={self._opt_u1:.2f}, opt_y2={self._opt_u2:.2f}')\n",
    "        elif self._model.status == GRB.UNBOUNDED:\n",
    "            status = OptStatus.UNBOUNDED\n",
    "        else:\n",
    "            status = OptStatus.ERROR\n",
    "        \n",
    "        print(f'Finish solving dual subproblem.')\n",
    "        print('-' * 50)\n",
    "        return status\n",
    "    \n",
    "    def update_objective(self, opt_y1, opt_y2):\n",
    "        self._model.setObjective((300-4*opt_y1-5*opt_y2)*self._u1 + (220-2*opt_y1-3*opt_y2)*self._u2, GRB.MAXIMIZE)\n",
    "        print(f'dual subproblem objective updated!')\n",
    "    \n",
    "    def clean_up(self):\n",
    "        self._model.dispose()\n",
    "        \n",
    "    @property\n",
    "    def opt_obj(self):\n",
    "        return self._opt_obj\n",
    "    \n",
    "    @property\n",
    "    def opt_u1(self):\n",
    "        return self._opt_u1\n",
    "    \n",
    "    @property\n",
    "    def opt_u2(self):\n",
    "        return self._opt_u2"
   ]
  },
  {
   "cell_type": "code",
   "execution_count": 43,
   "metadata": {},
   "outputs": [],
   "source": [
    "class BendersDecomposition:\n",
    "    \n",
    "    def __init__(self, master_solver, dual_subprob_solver):\n",
    "        self._master_solver = master_solver\n",
    "        self._dual_subprob_solver = dual_subprob_solver\n",
    "        \n",
    "    \n",
    "    def optimize(self) -> OptStatus:\n",
    "        eps = 1.0e-5\n",
    "        lb = -np.inf\n",
    "        ub = np.inf\n",
    "        \n",
    "        while True:\n",
    "            # solve master problem\n",
    "            master_status = self._master_solver.solve()\n",
    "            if master_status == OptStatus.INFEASIBLE:\n",
    "                return OptStatus.INFEASIBLE\n",
    "            \n",
    "            # update lower bound\n",
    "            lb = np.max([lb, self._master_solver.opt_obj])\n",
    "            print(f'Bounds: lb={lb:.2f}, ub={ub:.2f}')\n",
    "            \n",
    "            opt_y1 = self._master_solver.opt_y1\n",
    "            opt_y2 = self._master_solver.opt_y2\n",
    "            \n",
    "            # solve subproblem\n",
    "            self._dual_subprob_solver.update_objective(opt_y1, opt_y2)\n",
    "            dsp_status = self._dual_subprob_solver.solve()\n",
    "            \n",
    "            if dsp_status == OptStatus.OPTIMAL:\n",
    "                # update upper bound\n",
    "                opt_obj = self._dual_subprob_solver.opt_obj\n",
    "                ub = np.min([ub, 15*opt_y1 + 18*opt_y2 + opt_obj])\n",
    "                print(f'Bounds: lb={lb:.2f}, ub={ub:.2f}')\n",
    "                \n",
    "                if ub - lb <= eps:\n",
    "                    break\n",
    "                \n",
    "                opt_u1 = self._dual_subprob_solver.opt_u1\n",
    "                opt_u2 = self._dual_subprob_solver.opt_u2\n",
    "                self._master_solver.add_optimality_cut(opt_u1, opt_u2) \n",
    "            elif dsp_status == OptStatus.UNBOUNDED:\n",
    "                opt_u1 = self._dual_subprob_solver.opt_u1\n",
    "                opt_u2 = self._dual_subprob_solver.opt_u2\n",
    "                self._master_solver.add_feasibility_cut(opt_u1, opt_u2) \n",
    "            "
   ]
  },
  {
   "cell_type": "code",
   "execution_count": 57,
   "metadata": {},
   "outputs": [
    {
     "name": "stdout",
     "output_type": "stream",
     "text": [
      "Set parameter Username\n",
      "Set parameter LogFile to value \"benders\"\n",
      "--------------------------------------------------\n",
      "Start solving master problem.\n",
      "\tmaster problem is optimal.\n",
      "\topt_obj=0.00\n",
      "\topt_y1=0.00, opt_y2=0.00, opt_g=0.00\n",
      "Finish solving master problem.\n",
      "--------------------------------------------------\n",
      "Bounds: lb=0.00, ub=inf\n",
      "dual subproblem objective updated!\n",
      "--------------------------------------------------\n",
      "Start solving dual subproblem.\n",
      "\tdual subproblem is optimal.\n",
      "\topt_obj=1200.00\n",
      "\topt_y1=4.00, opt_y2=0.00\n",
      "Finish solving dual subproblem.\n",
      "--------------------------------------------------\n",
      "Bounds: lb=0.00, ub=1200.00\n",
      "Benders optimality cut added!\n",
      "--------------------------------------------------\n",
      "Start solving master problem.\n",
      "\tmaster problem is optimal.\n",
      "\topt_obj=1080.00\n",
      "\topt_y1=0.00, opt_y2=60.00, opt_g=0.00\n",
      "Finish solving master problem.\n",
      "--------------------------------------------------\n",
      "Bounds: lb=1080.00, ub=1200.00\n",
      "dual subproblem objective updated!\n",
      "--------------------------------------------------\n",
      "Start solving dual subproblem.\n",
      "\tdual subproblem is optimal.\n",
      "\topt_obj=80.00\n",
      "\topt_y1=0.00, opt_y2=2.00\n",
      "Finish solving dual subproblem.\n",
      "--------------------------------------------------\n",
      "Bounds: lb=1080.00, ub=1160.00\n",
      "Benders optimality cut added!\n",
      "--------------------------------------------------\n",
      "Start solving master problem.\n",
      "\tmaster problem is optimal.\n",
      "\topt_obj=1091.43\n",
      "\topt_y1=0.00, opt_y2=54.29, opt_g=114.29\n",
      "Finish solving master problem.\n",
      "--------------------------------------------------\n",
      "Bounds: lb=1091.43, ub=1160.00\n",
      "dual subproblem objective updated!\n",
      "--------------------------------------------------\n",
      "Start solving dual subproblem.\n",
      "\tdual subproblem is optimal.\n",
      "\topt_obj=114.29\n",
      "\topt_y1=0.00, opt_y2=2.00\n",
      "Finish solving dual subproblem.\n",
      "--------------------------------------------------\n",
      "Bounds: lb=1091.43, ub=1091.43\n"
     ]
    }
   ],
   "source": [
    "env = gp.Env('benders')\n",
    "env.setParam(\"OutputFlag\",0)\n",
    "master_solver = MasterSolver(env)\n",
    "dual_subprob_solver = DualSubprobSolver(env)\n",
    "\n",
    "benders_decomposition = BendersDecomposition(master_solver, dual_subprob_solver)\n",
    "benders_decomposition.optimize()"
   ]
  },
  {
   "cell_type": "markdown",
   "metadata": {},
   "source": [
    "### A generic solver"
   ]
  },
  {
   "cell_type": "markdown",
   "metadata": {},
   "source": [
    "In this section, we will create a more generic Benders decomposition based solver for linear programming problems."
   ]
  },
  {
   "cell_type": "code",
   "execution_count": 59,
   "metadata": {},
   "outputs": [],
   "source": [
    "class GenericLpMasterSolver:\n",
    "    \n",
    "    def __init__(self, f: np.array, B: np.array, b: np.array):\n",
    "        # save data\n",
    "        self._f = f\n",
    "        self._B = B\n",
    "        self._b = b \n",
    "        \n",
    "        # env and model\n",
    "        self._env = gp.Env('MasterEnv')\n",
    "        # self._env.setParam(\"OutputFlag\",0)\n",
    "        self._model = gp.Model(env=self._env, name='MasterSolver')\n",
    "        \n",
    "        # create variables\n",
    "        self._num_y_vars = len(f)\n",
    "        self._y = self._model.addVars(self._num_y_vars, lb=0, vtype=GRB.CONTINUOUS, name='y')\n",
    "        self._g = self._model.addVar(vtype=GRB.CONTINUOUS, lb=0, name='g')\n",
    "        \n",
    "        # create objective\n",
    "        self._model.setObjective(gp.quicksum(self._f[i] * self._y.get(i) \n",
    "                                             for i in range(self._num_y_vars)) + self._g, \n",
    "                                 GRB.MINIMIZE)\n",
    "        self._model.update()\n",
    "        \n",
    "        self._opt_obj = None\n",
    "        self._opt_obj_y = None\n",
    "        self._opt_y = None\n",
    "        self._opt_g = None\n",
    "        \n",
    "    def solve(self) -> OptStatus:\n",
    "        print('-' * 50)\n",
    "        print(f'Start solving master problem.')\n",
    "        print(self._model.display())\n",
    "        self._model.optimize()\n",
    "        \n",
    "        opt_status = None\n",
    "        if self._model.status == GRB.OPTIMAL:\n",
    "            opt_status = OptStatus.OPTIMAL\n",
    "            self._opt_obj = self._model.objVal\n",
    "            self._opt_y = {\n",
    "                i: self._y.get(i).X\n",
    "                for i in range(self._num_y_vars)\n",
    "            }\n",
    "            self._opt_g = self._g.X\n",
    "            self._opt_obj_y = self._opt_obj - self._opt_g\n",
    "            print(f'\\tmaster problem is optimal.')\n",
    "            print(f'\\topt_obj={self._opt_obj:.2f}')\n",
    "            print(f'\\topt_g={self._opt_g:.2f}')\n",
    "            for i in range(self._num_y_vars):\n",
    "                print(f'\\topt_y{i}={self._opt_y.get(i)}')\n",
    "        elif self._model.status == GRB.INFEASIBLE:\n",
    "            print(f'\\tmaster problem is infeasible.')\n",
    "            opt_status = OptStatus.INFEASIBLE\n",
    "        else:\n",
    "            print(f'\\tmaster problem encountered error.')\n",
    "            opt_status = OptStatus.ERROR\n",
    "        \n",
    "        print(f'Finish solving master problem.') \n",
    "        print('-' * 50)\n",
    "        return opt_status\n",
    "    \n",
    "    def add_feasibility_cut(self, opt_u: dict) -> None:\n",
    "        constr_expr = [\n",
    "            opt_u.get(u_idx) * (self._b[u_idx] - gp.quicksum(self._B[u_idx][j] * self._y.get(j) \n",
    "                                                   for j in range(self._num_y_vars)))\n",
    "            for u_idx in opt_u.keys()\n",
    "        ]\n",
    "        self._model.addConstr(gp.quicksum(constr_expr) <= 0)\n",
    "        print(f'Benders feasibility cut added!')\n",
    "    \n",
    "    def add_optimality_cut(self, opt_u: dict) -> None:\n",
    "        constr_expr = [\n",
    "            opt_u.get(u_idx) * (self._b[u_idx] - gp.quicksum(self._B[u_idx][j] * self._y.get(j) \n",
    "                                                   for j in range(self._num_y_vars)))\n",
    "            for u_idx in opt_u.keys()\n",
    "        ]\n",
    "        self._model.addConstr(gp.quicksum(constr_expr) <= self._g)\n",
    "        self._model.update()\n",
    "        print(self._model.display())\n",
    "        print(f'Benders optimality cut added!')\n",
    "    \n",
    "    def clean_up(self):\n",
    "        self._model.dispose()\n",
    "        self._env.dispose()\n",
    "        \n",
    "    @property\n",
    "    def f(self):\n",
    "        return self._f\n",
    "        \n",
    "    @property\n",
    "    def opt_obj(self):\n",
    "        return self._opt_obj\n",
    "    \n",
    "    @property\n",
    "    def opt_obj_y(self):\n",
    "        return self._opt_obj_y\n",
    "    \n",
    "    @property\n",
    "    def opt_y(self):\n",
    "        return self._opt_y\n",
    "    \n",
    "    @property\n",
    "    def opt_g(self):\n",
    "        return self._g"
   ]
  },
  {
   "cell_type": "code",
   "execution_count": 41,
   "metadata": {},
   "outputs": [],
   "source": [
    "class GenericLpSubprobSolver:\n",
    "    \n",
    "    def __init__(self, A: np.array, c: np.array, B: np.array, b: np.array):\n",
    "        # save data\n",
    "        self._A = A \n",
    "        self._c = c \n",
    "        self._b = b \n",
    "        self._B = B\n",
    "        \n",
    "        # env and model\n",
    "        self._env = gp.Env('SubprobEnv')\n",
    "        self._env.setParam(\"OutputFlag\",0)\n",
    "        self._model = gp.Model(env=self._env, name='SubprobSolver')\n",
    "\n",
    "        # create variables\n",
    "        self._num_vars = len(b)\n",
    "        self._u = self._model.addVars(self._num_vars, vtype=GRB.CONTINUOUS, name='u')\n",
    "\n",
    "        # create constraints\n",
    "        for c_idx in range(len(c)):\n",
    "            self._model.addConstr(gp.quicksum(A[:,c_idx][i] * self._u.get(i) \n",
    "                                              for i in range(len(b))) <= c[c_idx])\n",
    "        \n",
    "        self._opt_obj = None\n",
    "        self._opt_u = None\n",
    "        \n",
    "    def solve(self):\n",
    "        print('-' * 50)\n",
    "        print(f'Start solving dual subproblem.')\n",
    "        self._model.optimize()\n",
    "        \n",
    "        status = None\n",
    "        if self._model.status == GRB.OPTIMAL:\n",
    "            self._opt_obj = self._model.objVal\n",
    "            self._opt_u = {\n",
    "                i: self._u.get(i).X\n",
    "                for i in range(self._num_vars)\n",
    "            }\n",
    "            status = OptStatus.OPTIMAL\n",
    "            print(f'\\tdual subproblem is optimal.')\n",
    "            print(f'\\topt_obj={self._opt_obj:.2f}')\n",
    "            for i in range(self._num_vars):\n",
    "                print(f'\\topt_u{i}={self._opt_u.get(i)}')\n",
    "        elif self._model.status == GRB.UNBOUNDED:\n",
    "            status = OptStatus.UNBOUNDED\n",
    "        else:\n",
    "            status = OptStatus.ERROR\n",
    "        \n",
    "        print(f'Finish solving dual subproblem.')\n",
    "        print('-' * 50)\n",
    "        return status\n",
    "\n",
    "    def update_objective(self, opt_y: dict):\n",
    "        obj_expr = [\n",
    "            self._u.get(u_idx) * (self._b[u_idx] - sum(self._B[u_idx][j] * opt_y.get(j) \n",
    "                                                    for j in range(len(opt_y))))\n",
    "            for u_idx in range(self._num_vars)\n",
    "        ]\n",
    "        self._model.setObjective(gp.quicksum(obj_expr), GRB.MAXIMIZE)\n",
    "        print(f'dual subproblem objective updated!')\n",
    "    \n",
    "    def clean_up(self):\n",
    "        self._model.dispose()\n",
    "        self._env.dispose()\n",
    "        \n",
    "    @property\n",
    "    def opt_obj(self):\n",
    "        return self._opt_obj\n",
    "    \n",
    "    @property\n",
    "    def opt_u(self):\n",
    "        return self._opt_u"
   ]
  },
  {
   "cell_type": "code",
   "execution_count": 60,
   "metadata": {},
   "outputs": [],
   "source": [
    "class GenericBendersSolver:\n",
    "    \n",
    "    def __init__(self, master_solver, dual_subprob_solver):\n",
    "        self._master_solver = master_solver\n",
    "        self._dual_subprob_solver = dual_subprob_solver\n",
    "        \n",
    "    \n",
    "    def optimize(self,) -> OptStatus:\n",
    "        eps = 1.0e-5\n",
    "        lb = -np.inf\n",
    "        ub = np.inf\n",
    "        \n",
    "        while True:\n",
    "            # solve master problem\n",
    "            master_status = self._master_solver.solve()\n",
    "            if master_status == OptStatus.INFEASIBLE:\n",
    "                return OptStatus.INFEASIBLE\n",
    "            \n",
    "            # update lower bound\n",
    "            lb = np.max([lb, self._master_solver.opt_obj])\n",
    "            print(f'Bounds: lb={lb:.2f}, ub={ub:.2f}')\n",
    "            \n",
    "            opt_y = self._master_solver.opt_y\n",
    "            \n",
    "            # solve subproblem\n",
    "            self._dual_subprob_solver.update_objective(opt_y)\n",
    "            dsp_status = self._dual_subprob_solver.solve()\n",
    "            \n",
    "            if dsp_status == OptStatus.OPTIMAL:\n",
    "                # update upper bound\n",
    "                opt_obj = self._dual_subprob_solver.opt_obj\n",
    "                opt_obj_y = self._master_solver.opt_obj_y\n",
    "                ub = np.min([ub, opt_obj_y + opt_obj])\n",
    "                print(f'Bounds: lb={lb:.2f}, ub={ub:.2f}')\n",
    "                \n",
    "                if ub - lb <= eps:\n",
    "                    break\n",
    "                \n",
    "                opt_u = self._dual_subprob_solver.opt_u\n",
    "                self._master_solver.add_optimality_cut(opt_u) \n",
    "            elif dsp_status == OptStatus.UNBOUNDED:\n",
    "                opt_u = self._dual_subprob_solver.opt_u\n",
    "                self._master_solver.add_feasibility_cut(opt_u) "
   ]
  },
  {
   "cell_type": "code",
   "execution_count": 61,
   "metadata": {},
   "outputs": [
    {
     "name": "stdout",
     "output_type": "stream",
     "text": [
      "Set parameter Username\n",
      "Set parameter LogFile to value \"MasterEnv\"\n",
      "Set parameter Username\n",
      "Set parameter LogFile to value \"SubprobEnv\"\n",
      "--------------------------------------------------\n",
      "Start solving master problem.\n",
      "Minimize\n",
      "  15.0 y[0] + 18.0 y[1] + g\n",
      "Subject To\n",
      "None\n",
      "Gurobi Optimizer version 10.0.3 build v10.0.3rc0 (mac64[arm])\n",
      "\n",
      "CPU model: Apple M1\n",
      "Thread count: 8 physical cores, 8 logical processors, using up to 8 threads\n",
      "\n",
      "Optimize a model with 0 rows, 3 columns and 0 nonzeros\n",
      "Model fingerprint: 0xb00b2c2a\n",
      "Coefficient statistics:\n",
      "  Matrix range     [0e+00, 0e+00]\n",
      "  Objective range  [1e+00, 2e+01]\n",
      "  Bounds range     [0e+00, 0e+00]\n",
      "  RHS range        [0e+00, 0e+00]\n",
      "Presolve removed 0 rows and 3 columns\n",
      "Presolve time: 0.00s\n",
      "Presolve: All rows and columns removed\n",
      "Iteration    Objective       Primal Inf.    Dual Inf.      Time\n",
      "       0    0.0000000e+00   0.000000e+00   0.000000e+00      0s\n",
      "\n",
      "Solved in 0 iterations and 0.00 seconds (0.00 work units)\n",
      "Optimal objective  0.000000000e+00\n",
      "\tmaster problem is optimal.\n",
      "\topt_obj=0.00\n",
      "\topt_g=0.00\n",
      "\topt_y0=0.0\n",
      "\topt_y1=0.0\n",
      "Finish solving master problem.\n",
      "--------------------------------------------------\n",
      "Bounds: lb=0.00, ub=inf\n",
      "dual subproblem objective updated!\n",
      "--------------------------------------------------\n",
      "Start solving dual subproblem.\n",
      "\tdual subproblem is optimal.\n",
      "\topt_obj=1200.00\n",
      "\topt_u0=4.0\n",
      "\topt_u1=0.0\n",
      "Finish solving dual subproblem.\n",
      "--------------------------------------------------\n",
      "Bounds: lb=0.00, ub=1200.00\n",
      "Minimize\n",
      "  15.0 y[0] + 18.0 y[1] + g\n",
      "Subject To\n",
      "  R0: -16.0 y[0] + -20.0 y[1] + -1.0 g <= -1200\n",
      "None\n",
      "Benders optimality cut added!\n",
      "--------------------------------------------------\n",
      "Start solving master problem.\n",
      "Minimize\n",
      "  15.0 y[0] + 18.0 y[1] + g\n",
      "Subject To\n",
      "  R0: -16.0 y[0] + -20.0 y[1] + -1.0 g <= -1200\n",
      "None\n",
      "Gurobi Optimizer version 10.0.3 build v10.0.3rc0 (mac64[arm])\n",
      "\n",
      "CPU model: Apple M1\n",
      "Thread count: 8 physical cores, 8 logical processors, using up to 8 threads\n",
      "\n",
      "Optimize a model with 1 rows, 3 columns and 3 nonzeros\n",
      "Coefficient statistics:\n",
      "  Matrix range     [1e+00, 2e+01]\n",
      "  Objective range  [1e+00, 2e+01]\n",
      "  Bounds range     [0e+00, 0e+00]\n",
      "  RHS range        [1e+03, 1e+03]\n",
      "Iteration    Objective       Primal Inf.    Dual Inf.      Time\n",
      "       0    0.0000000e+00   1.500000e+02   0.000000e+00      0s\n",
      "       1    1.0800000e+03   0.000000e+00   0.000000e+00      0s\n",
      "\n",
      "Solved in 1 iterations and 0.00 seconds (0.00 work units)\n",
      "Optimal objective  1.080000000e+03\n",
      "\tmaster problem is optimal.\n",
      "\topt_obj=1080.00\n",
      "\topt_g=0.00\n",
      "\topt_y0=0.0\n",
      "\topt_y1=60.0\n",
      "Finish solving master problem.\n",
      "--------------------------------------------------\n",
      "Bounds: lb=1080.00, ub=1200.00\n",
      "dual subproblem objective updated!\n",
      "--------------------------------------------------\n",
      "Start solving dual subproblem.\n",
      "\tdual subproblem is optimal.\n",
      "\topt_obj=80.00\n",
      "\topt_u0=0.0\n",
      "\topt_u1=2.0\n",
      "Finish solving dual subproblem.\n",
      "--------------------------------------------------\n",
      "Bounds: lb=1080.00, ub=1160.00\n",
      "Minimize\n",
      "  15.0 y[0] + 18.0 y[1] + g\n",
      "Subject To\n",
      "  R0: -16.0 y[0] + -20.0 y[1] + -1.0 g <= -1200\n",
      "  R1: -4.0 y[0] + -6.0 y[1] + -1.0 g <= -440\n",
      "None\n",
      "Benders optimality cut added!\n",
      "--------------------------------------------------\n",
      "Start solving master problem.\n",
      "Minimize\n",
      "  15.0 y[0] + 18.0 y[1] + g\n",
      "Subject To\n",
      "  R0: -16.0 y[0] + -20.0 y[1] + -1.0 g <= -1200\n",
      "  R1: -4.0 y[0] + -6.0 y[1] + -1.0 g <= -440\n",
      "None\n",
      "Gurobi Optimizer version 10.0.3 build v10.0.3rc0 (mac64[arm])\n",
      "\n",
      "CPU model: Apple M1\n",
      "Thread count: 8 physical cores, 8 logical processors, using up to 8 threads\n",
      "\n",
      "Optimize a model with 2 rows, 3 columns and 6 nonzeros\n",
      "Coefficient statistics:\n",
      "  Matrix range     [1e+00, 2e+01]\n",
      "  Objective range  [1e+00, 2e+01]\n",
      "  Bounds range     [0e+00, 0e+00]\n",
      "  RHS range        [4e+02, 1e+03]\n",
      "Iteration    Objective       Primal Inf.    Dual Inf.      Time\n",
      "       0    1.0800000e+03   4.000000e+01   0.000000e+00      0s\n",
      "       1    1.0914286e+03   0.000000e+00   0.000000e+00      0s\n",
      "\n",
      "Solved in 1 iterations and 0.00 seconds (0.00 work units)\n",
      "Optimal objective  1.091428571e+03\n",
      "\tmaster problem is optimal.\n",
      "\topt_obj=1091.43\n",
      "\topt_g=114.29\n",
      "\topt_y0=0.0\n",
      "\topt_y1=54.285714285714285\n",
      "Finish solving master problem.\n",
      "--------------------------------------------------\n",
      "Bounds: lb=1091.43, ub=1160.00\n",
      "dual subproblem objective updated!\n",
      "--------------------------------------------------\n",
      "Start solving dual subproblem.\n",
      "\tdual subproblem is optimal.\n",
      "\topt_obj=114.29\n",
      "\topt_u0=0.0\n",
      "\topt_u1=2.0\n",
      "Finish solving dual subproblem.\n",
      "--------------------------------------------------\n",
      "Bounds: lb=1091.43, ub=1091.43\n"
     ]
    }
   ],
   "source": [
    "import gurobipy as gp\n",
    "from gurobipy import GRB\n",
    "import numpy as np\n",
    "\n",
    "c = np.array([8, 12, 10])\n",
    "f = np.array([15, 18])\n",
    "A = np.array([\n",
    "    [2, 3, 2],\n",
    "    [4, 2, 3]\n",
    "])\n",
    "B = np.array([\n",
    "    [4, 5],\n",
    "    [2, 3],\n",
    "])\n",
    "b = np.array([300, 220])\n",
    "\n",
    "master_solver = GenericLpMasterSolver(f, B, b)\n",
    "dual_subprob_solver = GenericLpSubprobSolver(A, c, B, b)\n",
    "\n",
    "benders_solver = GenericBendersSolver(master_solver, dual_subprob_solver)\n",
    "benders_solver.optimize()"
   ]
  },
  {
   "cell_type": "markdown",
   "metadata": {},
   "source": [
    "### Implementation with callbacks"
   ]
  }
 ],
 "metadata": {
  "kernelspec": {
   "display_name": "large-opt",
   "language": "python",
   "name": "python3"
  },
  "language_info": {
   "codemirror_mode": {
    "name": "ipython",
    "version": 3
   },
   "file_extension": ".py",
   "mimetype": "text/x-python",
   "name": "python",
   "nbconvert_exporter": "python",
   "pygments_lexer": "ipython3",
   "version": "3.11.6"
  }
 },
 "nbformat": 4,
 "nbformat_minor": 2
}
