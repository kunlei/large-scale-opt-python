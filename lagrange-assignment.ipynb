{
 "cells": [
  {
   "cell_type": "markdown",
   "metadata": {},
   "source": [
    "---\n",
    "format:\n",
    "  html:\n",
    "    code-line-numbers: false\n",
    "    code-overflow: wrap\n",
    "    code-block-bg: true\n",
    "    code-block-border-left: true\n",
    "    highlight-style: arrow\n",
    "  pdf:\n",
    "    documentclass: scrreprt\n",
    "    links-as-notes: true\n",
    "    reference-location: section\n",
    "    toc: true\n",
    "    toc-depth: 2\n",
    "    lof: true\n",
    "    lot: true\n",
    "    number-sections: true\n",
    "    fig-width: 8\n",
    "    fig-height: 6\n",
    "\n",
    "---"
   ]
  },
  {
   "cell_type": "markdown",
   "metadata": {},
   "source": [
    "# Generalized Assignment Problem"
   ]
  },
  {
   "cell_type": "markdown",
   "metadata": {},
   "source": [
    "Assignment problems are really everywhere, that is, if we look around carefully.\n",
    "For example, vehicle routing problem could be formulated as an assignment problem coupled with a traveling salesman problem for each vehicle.\n",
    "The job shop scheduling problem involves assigning job processes onto machines and optimizing the processes on each machine to minimize a certain criterion like makespan.\n",
    "In this chapter, we examine the generalized assignment problem and its solution approach via Lagrangian relaxation."
   ]
  },
  {
   "cell_type": "markdown",
   "metadata": {},
   "source": [
    "The Generalized Assignment Problem (GAP) is a well-known problem in operations research and combinatorial optimization. It is an extension of the classic assignment problem where a set of tasks needs to be assigned to a set of agents, with each task requiring a specific amount of resources from the assigned agent. However, in the generalized version, multiple agents can be assigned to a single task, and each agent may have a limit on the amount of resource it can contribute. "
   ]
  },
  {
   "cell_type": "markdown",
   "metadata": {},
   "source": [
    "## Formulation"
   ]
  },
  {
   "cell_type": "markdown",
   "metadata": {},
   "source": [
    "\n",
    "\n",
    "Formally, the Generalized Assignment Problem can be defined as follows:\n",
    "\n",
    "Given:\n",
    "\n",
    "- A set of tasks, $T = \\{1, 2, ..., n\\}$\n",
    "- A set of agents, $A = \\{1, 2, ..., m\\}$\n",
    "- For each task $i$ and agent $j$, a cost or profit $c_{ij}$ associated with assigning task $i$ to agent $j$\n",
    "- For each task $i$ and agent $j$, a resource requirement $r_{ij}$ specifying the amount of resource needed from agent $j$ to complete task $i$\n",
    "- For each agent $j$, a capacity $b_j$ specifying the maximum amount of resource that agent $j$ can contribute\n",
    "\n",
    "The goal is to find an assignment of tasks to agents that minimizes the total cost or maximizes the total profit, while ensuring that each task is assigned to one or more agents, and the total resource requirement of each agent does not exceed its capacity.\n",
    "\n",
    "Mathematically, the GAP can be formulated as an integer linear programming problem. One possible formulation is as follows:\n",
    "\n",
    "$$\n",
    "\\begin{aligned}\n",
    "\\text{min.} &\\quad \\sum_{i=1}^{n} \\sum_{j=1}^{m} c_{ij} x_{ij} \\label{gap-obj}\\\\\n",
    "\\text{s.t.} &\\quad \\sum_{j=1}^{m} x_{ij} = 1, \\ \\forall i = 1, 2, ..., n \\label{gap-cons1}\\\\\n",
    "&\\quad \\sum_{i=1}^{n} r_{ij} x_{ij} \\leq b_j, \\  \\forall j = 1, 2, ..., m \\label{gap-cons2}\\\\\n",
    "&\\quad x_{ij} \\in \\{0, 1\\}, \\ \\forall i = 1, 2, ..., n, j = 1, 2, ..., m \\label{gap-cons3}\n",
    "\\end{aligned}\n",
    "$$\n",
    "\n",
    "where $x_{ij}$ is a binary decision variable that equals 1 if task $i$ is assigned to agent $j$, and 0 otherwise.\n",
    "\n",
    "The first set of constraints ensures that each task is assigned to exactly one agent, and the second set of constraints ensures that the total resource requirement of each agent does not exceed its capacity.\n",
    "\n",
    "Solving the GAP can be computationally challenging, especially for large instances, as it is a generalization of the classic assignment problem, which is known to be polynomial-time solvable. Various algorithms and heuristics, such as branch and bound, dynamic programming, and approximation algorithms, can be employed to find feasible or optimal solutions to the GAP.\n"
   ]
  },
  {
   "cell_type": "markdown",
   "metadata": {},
   "source": [
    "## Lagrangian Relaxation"
   ]
  },
  {
   "cell_type": "markdown",
   "metadata": {},
   "source": [
    "The essence of Lagrangian relaxation is to choose some 'hard' constraints in the original model formulation and put them into the objective function.\n",
    "In the meantime, Lagrange multipliers are used to penalize the violations of these constraints.\n",
    "In the GAP formulation, we could choose the constraints \\eqref{gap-cons1} and put them into the objective function, which gives us the corresponding Lagrangian relaxation:"
   ]
  },
  {
   "cell_type": "markdown",
   "metadata": {},
   "source": [
    "$$\n",
    "\\begin{aligned}\n",
    "LR(v): \\text{min.} &\\quad \\sum_{i=1}^{n} \\sum_{j=1}^{m} c_{ij} x_{ij} + \\sum_{i=1}^{n} v_i (\\sum_{j=1}^{m} x_{ij} - 1) \\label{gap-lr-obj}\\\\\n",
    "\\text{s.t.} &\\quad \\sum_{i=1}^{n} r_{ij} x_{ij} \\leq b_j, \\  \\forall j = 1, 2, ..., m \\label{gap-lr-cons1}\\\\\n",
    "&\\quad x_{ij} \\in \\{0, 1\\}, \\ \\forall i = 1, 2, ..., n, j = 1, 2, ..., m \\label{gap-lr-cons2}\n",
    "\\end{aligned}\n",
    "$$"
   ]
  },
  {
   "cell_type": "markdown",
   "metadata": {},
   "source": [
    "In the above formulation, $v_i$ is the Lagrange multiplier associated with each task $i$.\n",
    "Note that the optimal objective value of $LR(v)$ for a given $v$ serves as a lower bound of the original problem.\n",
    "Our goal is then to find the best value of $v$ such that the best lower bound is obtained for the original problem."
   ]
  },
  {
   "cell_type": "markdown",
   "metadata": {},
   "source": [
    "## Implementation"
   ]
  },
  {
   "cell_type": "markdown",
   "metadata": {},
   "source": [
    "Optimization is fun, especially when we turn our curated models and algorithms into computer codes using our favorite programming languages.\n",
    "In this section, we will solve some GAP instances using Lagrangian Relaxation!"
   ]
  },
  {
   "cell_type": "markdown",
   "metadata": {},
   "source": [
    "### Benchmarking instances"
   ]
  },
  {
   "cell_type": "markdown",
   "metadata": {},
   "source": [
    "All the benchmarking instances we solve here are taken from the [OR-Library](http://people.brunel.ac.uk/~mastjjb/jeb/orlib/gapinfo.html).\n",
    "There are a total of 16 data files, among which the first 12 data files are gap1, gap2, ..., gap12, and the remaining 4 data files are gapa, gapb, gapc and gapd."
   ]
  },
  {
   "cell_type": "markdown",
   "metadata": {},
   "source": [
    "All the data files are formatted as follows:\n",
    "  \n",
    "- The total number of problem instances in the data set ($P$)\n",
    "- For each problem set $p$ ($p = 1,...,P$) in turn:\n",
    "  - The number of agents ($m$), number of tasks ($n$)\n",
    "  - For each agent $i$ ($i = 1,...,m$) in turn:\n",
    "    - The cost of allocating task $j$ to agent $i$ ($j = 1,...,n$)\n",
    "  - For each agent $i$ ($i = 1,...,m$) in turn:\n",
    "    - The resource consumed in allocating task $j$ to agent $i$ ($j = 1,...,n$)\n",
    "  - The resource capacity of agent $i$ ($i = 1,...,m$)"
   ]
  },
  {
   "cell_type": "markdown",
   "metadata": {},
   "source": [
    "Since we have the luxury of unlimited space in this online book, I will show the full content of the data file *gap1.txt*.\n",
    "This file contains 5 GAP instances and all of them have the same number of agents (5) and tasks (15)."
   ]
  },
  {
   "cell_type": "markdown",
   "metadata": {},
   "source": [
    "```{.txt filename=\"gap1.txt\"}\n",
    " 5\n",
    " 5 15\n",
    " 17 21 22 18 24 15 20 18 19 18 16 22 24 24 16\n",
    " 23 16 21 16 17 16 19 25 18 21 17 15 25 17 24\n",
    " 16 20 16 25 24 16 17 19 19 18 20 16 17 21 24\n",
    " 19 19 22 22 20 16 19 17 21 19 25 23 25 25 25\n",
    " 18 19 15 15 21 25 16 16 23 15 22 17 19 22 24\n",
    " 8 15 14 23 8 16 8 25 9 17 25 15 10 8 24\n",
    " 15 7 23 22 11 11 12 10 17 16 7 16 10 18 22\n",
    " 21 20 6 22 24 10 24 9 21 14 11 14 11 19 16\n",
    " 20 11 8 14 9 5 6 19 19 7 6 6 13 9 18\n",
    " 8 13 13 13 10 20 25 16 16 17 10 10 5 12 23\n",
    " 36 34 38 27 33\n",
    " 5 15\n",
    " 19 23 24 20 20 25 16 21 24 15 17 17 20 20 20\n",
    " 25 24 16 21 19 17 17 19 23 21 21 23 20 15 16\n",
    " 16 21 25 22 24 24 16 17 15 18 15 17 18 24 18\n",
    " 25 24 18 19 15 18 20 22 23 18 16 19 17 15 22\n",
    " 25 19 21 22 20 15 20 19 18 18 17 23 17 25 25\n",
    " 16 12 8 20 18 10 12 8 14 23 19 14 15 15 24\n",
    " 16 18 19 22 13 20 9 7 25 10 20 13 11 15 16\n",
    " 6 20 20 5 14 12 6 15 22 18 13 23 23 18 25\n",
    " 18 23 25 17 25 13 23 23 13 20 20 23 17 19 24\n",
    " 12 17 15 25 22 5 24 19 12 25 23 21 23 19 18\n",
    " 36 37 38 48 44\n",
    " 5 15\n",
    " 22 21 16 17 21 15 17 22 22 25 18 20 24 15 22\n",
    " 23 24 19 15 16 21 15 25 16 21 20 19 16 23 20\n",
    " 21 20 21 25 21 20 21 19 17 16 25 19 15 15 15\n",
    " 17 21 25 25 23 22 20 19 20 25 15 20 21 25 23\n",
    " 15 25 23 19 17 17 25 24 24 17 24 19 18 19 16\n",
    " 23 10 15 13 17 10 13 6 9 21 20 7 9 25 8\n",
    " 17 13 8 23 11 18 7 22 13 5 24 24 15 10 22\n",
    " 22 17 22 23 20 11 17 25 23 9 22 20 15 9 25\n",
    " 5 19 25 16 15 10 18 9 11 20 7 21 15 8 25\n",
    " 22 9 10 23 19 21 17 15 15 17 25 19 10 9 21\n",
    " 32 37 44 35 40\n",
    " 5 15\n",
    " 15 25 20 18 19 21 18 22 24 15 25 17 17 15 22\n",
    " 20 18 25 25 16 24 22 24 17 18 23 25 21 25 24\n",
    " 25 19 18 18 23 18 15 22 23 16 25 22 22 15 16\n",
    " 19 19 23 17 19 19 22 19 23 22 24 22 25 19 16\n",
    " 25 24 17 19 25 19 23 19 25 15 19 21 18 19 22\n",
    " 20 20 18 9 18 5 16 18 13 24 21 23 15 19 9\n",
    " 5 12 18 8 22 19 19 11 7 19 20 17 21 25 5\n",
    " 18 8 8 9 20 20 23 13 15 12 6 12 25 25 23\n",
    " 17 19 24 9 16 22 10 17 12 17 15 21 16 18 6\n",
    " 14 6 20 6 21 5 11 23 20 21 20 18 13 13 21\n",
    " 39 36 37 38 37\n",
    " 5 15\n",
    " 25 25 18 24 20 19 25 24 23 15 18 18 25 15 22\n",
    " 25 18 17 22 21 23 20 23 16 19 15 18 16 23 16\n",
    " 18 16 19 15 15 18 15 20 19 24 22 20 25 16 21\n",
    " 18 21 16 18 17 24 18 23 22 16 17 22 22 18 16\n",
    " 17 18 15 21 23 21 24 23 20 22 19 15 22 22 25\n",
    " 16 20 9 22 17 19 20 22 20 13 6 20 23 19 7\n",
    " 12 22 18 18 6 13 17 17 17 14 20 12 17 14 22\n",
    " 5 19 19 14 24 16 7 8 9 22 13 23 24 15 20\n",
    " 20 8 6 9 5 17 23 18 14 12 14 17 15 23 21\n",
    " 6 6 24 24 8 7 5 25 21 18 12 20 20 7 12\n",
    " 40 38 38 35 34\n",
    " ```"
   ]
  },
  {
   "cell_type": "markdown",
   "metadata": {},
   "source": [
    "@lst-gap-reader shows the python code that reads in all the instances from a data file and saves them into a Python list."
   ]
  },
  {
   "cell_type": "code",
   "execution_count": 3,
   "metadata": {},
   "outputs": [],
   "source": [
    "#| lst-label: lst-gap-reader\n",
    "#| lst-cap: File reading function\n",
    "def read_instance_file(file_path):\n",
    "    instances = []\n",
    "\n",
    "    with open(file_path, 'r') as file:\n",
    "        num_instances = int(file.readline().strip())\n",
    "\n",
    "        for _ in range(num_instances):\n",
    "            num_agents, num_tasks = map(int, file.readline().split())\n",
    "\n",
    "            costs = []\n",
    "            for _ in range(num_agents):\n",
    "                costs.append(list(map(int, file.readline().split())))\n",
    "\n",
    "            resources = []\n",
    "            for _ in range(num_agents):\n",
    "                resources.append(list(map(int, file.readline().split())))\n",
    "\n",
    "            capacities = list(map(int, file.readline().split()))\n",
    "\n",
    "            instance = {\n",
    "                'num_agents': num_agents,\n",
    "                'num_tasks': num_tasks,\n",
    "                'costs': costs,\n",
    "                'resources': resources,\n",
    "                'capacities': capacities\n",
    "            }\n",
    "            instances.append(instance)\n",
    "\n",
    "    return num_instances, instances\n"
   ]
  },
  {
   "cell_type": "markdown",
   "metadata": {},
   "source": [
    "Below we read the data file 'gap1.txt' and display the first instance."
   ]
  },
  {
   "cell_type": "code",
   "execution_count": 4,
   "metadata": {},
   "outputs": [
    {
     "name": "stdout",
     "output_type": "stream",
     "text": [
      "num_instances: 5\n",
      "num_agents: 5\n",
      "num_tasks: 15\n"
     ]
    }
   ],
   "source": [
    "# Example usage:\n",
    "file_path = '/Users/klian/dev/books/large-scale-opt-python/data/gap/gap1.txt'  # Replace with the actual file path\n",
    "num_instances, instances = read_instance_file(file_path)\n",
    "instance = instances[0]\n",
    "print(f'num_instances: {num_instances}')\n",
    "print(f\"num_agents: {instance['num_agents']}\")\n",
    "print(f\"num_tasks: {instance['num_tasks']}\")"
   ]
  },
  {
   "cell_type": "code",
   "execution_count": 5,
   "metadata": {},
   "outputs": [
    {
     "data": {
      "text/plain": [
       "[[17, 21, 22, 18, 24, 15, 20, 18, 19, 18, 16, 22, 24, 24, 16],\n",
       " [23, 16, 21, 16, 17, 16, 19, 25, 18, 21, 17, 15, 25, 17, 24],\n",
       " [16, 20, 16, 25, 24, 16, 17, 19, 19, 18, 20, 16, 17, 21, 24],\n",
       " [19, 19, 22, 22, 20, 16, 19, 17, 21, 19, 25, 23, 25, 25, 25],\n",
       " [18, 19, 15, 15, 21, 25, 16, 16, 23, 15, 22, 17, 19, 22, 24]]"
      ]
     },
     "execution_count": 5,
     "metadata": {},
     "output_type": "execute_result"
    }
   ],
   "source": [
    "instance['costs']"
   ]
  },
  {
   "cell_type": "code",
   "execution_count": 6,
   "metadata": {},
   "outputs": [
    {
     "data": {
      "text/plain": [
       "[[8, 15, 14, 23, 8, 16, 8, 25, 9, 17, 25, 15, 10, 8, 24],\n",
       " [15, 7, 23, 22, 11, 11, 12, 10, 17, 16, 7, 16, 10, 18, 22],\n",
       " [21, 20, 6, 22, 24, 10, 24, 9, 21, 14, 11, 14, 11, 19, 16],\n",
       " [20, 11, 8, 14, 9, 5, 6, 19, 19, 7, 6, 6, 13, 9, 18],\n",
       " [8, 13, 13, 13, 10, 20, 25, 16, 16, 17, 10, 10, 5, 12, 23]]"
      ]
     },
     "execution_count": 6,
     "metadata": {},
     "output_type": "execute_result"
    }
   ],
   "source": [
    "instance['resources']"
   ]
  },
  {
   "cell_type": "code",
   "execution_count": 7,
   "metadata": {},
   "outputs": [
    {
     "data": {
      "text/plain": [
       "[36, 34, 38, 27, 33]"
      ]
     },
     "execution_count": 7,
     "metadata": {},
     "output_type": "execute_result"
    }
   ],
   "source": [
    "instance['capacities']"
   ]
  },
  {
   "cell_type": "markdown",
   "metadata": {},
   "source": [
    "### Solve the original problem"
   ]
  },
  {
   "cell_type": "markdown",
   "metadata": {},
   "source": [
    "In this section, we use SCIP to solve the original formulation of the GAP, which is given in @lst-scip-gap."
   ]
  },
  {
   "cell_type": "code",
   "execution_count": 24,
   "metadata": {},
   "outputs": [],
   "source": [
    "#| lst-label: lst-scip-gap\n",
    "#| lst-cap: \"SCIP solver for GAP\"\n",
    "import pyscipopt as scip\n",
    "from pyscipopt import SCIP_PARAMSETTING\n",
    "\n",
    "class ScipGapSolver:\n",
    "    \n",
    "    def __init__(self, instance):\n",
    "        self._instance = instance\n",
    "        self._model = scip.Model(\"GAP solver\")\n",
    "        self._vars = None\n",
    "        \n",
    "        self._opt_obj = None\n",
    "    \n",
    "    def build_model(self):\n",
    "        # create decision variables\n",
    "        self._vars = {\n",
    "            (i, j): self._model.addVar(f\"x_{i},{j}\", vtype='B')\n",
    "            for i in range(self._instance['num_tasks'])\n",
    "            for j in range(self._instance['num_agents'])\n",
    "        }\n",
    "        \n",
    "        # create objective\n",
    "        obj_expr = [\n",
    "            self._instance['costs'][j][i] * self._vars[(i, j)]\n",
    "            for i in range(self._instance['num_tasks'])\n",
    "            for j in range(self._instance['num_agents'])\n",
    "        ]\n",
    "        self._model.setObjective(scip.quicksum(obj_expr), \"minimize\")\n",
    "        \n",
    "        # create constraints\n",
    "        for i in range(self._instance['num_tasks']):\n",
    "            expr = [\n",
    "                self._vars[(i, j)]\n",
    "                for j in range(self._instance['num_agents'])\n",
    "            ]\n",
    "            self._model.addCons(scip.quicksum(expr) == 1)\n",
    "            \n",
    "        for j in range(self._instance['num_agents']):\n",
    "            expr = [\n",
    "                self._instance['resources'][j][i] * self._vars[(i, j)]\n",
    "            for i in range(self._instance['num_tasks'])\n",
    "            ]\n",
    "            self._model.addCons(scip.quicksum(expr) <= self._instance['capacities'][j])\n",
    "    \n",
    "    def solve(self, verbose=False):\n",
    "        self._model.hideOutput()\n",
    "        self._model.optimize()\n",
    "        status = self._model.getStatus()\n",
    "        if status == \"optimal\":\n",
    "            if verbose:\n",
    "                print(f'Optimal solution found!')\n",
    "                print(f'Optimal objective = {self._model.getObjVal():.2f}')\n",
    "            self._opt_obj = self._model.getObjVal()\n",
    "        elif status == \"unbounded\":\n",
    "            if verbose:\n",
    "                print(f'Model is unbounded!')\n",
    "        elif status == \"infeasible\":\n",
    "            if verbose:\n",
    "                print(f'Model is infeasible!')\n",
    "        else:\n",
    "            if verbose:\n",
    "                print(f'Unknown error occurred!')\n",
    "                \n",
    "    @property\n",
    "    def opt_obj(self):\n",
    "        return self._opt_obj"
   ]
  },
  {
   "cell_type": "code",
   "execution_count": 26,
   "metadata": {},
   "outputs": [
    {
     "name": "stdout",
     "output_type": "stream",
     "text": [
      "Optimal solution found!\n",
      "Optimal objective = 261.00\n"
     ]
    }
   ],
   "source": [
    "scip_gap_solver = ScipGapSolver(instance=instances[0])\n",
    "scip_gap_solver.build_model()\n",
    "scip_gap_solver.solve(True)"
   ]
  },
  {
   "cell_type": "markdown",
   "metadata": {},
   "source": [
    "### Solve the Lagrangian relaxation with fixed multipliers"
   ]
  },
  {
   "cell_type": "markdown",
   "metadata": {},
   "source": []
  },
  {
   "cell_type": "code",
   "execution_count": 20,
   "metadata": {},
   "outputs": [],
   "source": [
    "#| lst-label: lst-scip-gap\n",
    "#| lst-cap: \"SCIP solver for GAP\"\n",
    "from typing import List\n",
    "import numpy as np\n",
    "import pyscipopt as scip\n",
    "from pyscipopt import quicksum, SCIP_PARAMSETTING\n",
    "\n",
    "class ScipGapLRSolver:\n",
    "    \n",
    "    def __init__(self, instance):\n",
    "        self._instance = instance\n",
    "        self._model = scip.Model(\"GAP Lagrangian relaxation solver\")\n",
    "        self._model.setBoolParam(\"reoptimization/enable\", True)\n",
    "        self._lagrange_multipliers = None\n",
    "        self._vars = None\n",
    "        \n",
    "        self._opt_vals = None\n",
    "    \n",
    "    def build_model(self, lagrange_multipliers: List):\n",
    "        # create decision variables\n",
    "        self._vars = {\n",
    "            (i, j): self._model.addVar(f\"x_{i},{j}\", vtype='BINARY')\n",
    "            for i in range(self._instance['num_tasks'])\n",
    "            for j in range(self._instance['num_agents'])\n",
    "        }\n",
    "        \n",
    "        # create objective\n",
    "        self._lagrange_multipliers = lagrange_multipliers\n",
    "        obj_expr = [\n",
    "            (self._instance['costs'][j][i] + self._lagrange_multipliers[i]) * self._vars[(i, j)]\n",
    "            for i in range(self._instance['num_tasks'])\n",
    "            for j in range(self._instance['num_agents'])\n",
    "        ]\n",
    "        self._model.setObjective(quicksum(obj_expr) - quicksum(self._lagrange_multipliers), \"minimize\") \n",
    "        \n",
    "        # create constraints        \n",
    "        for j in range(self._instance['num_agents']):\n",
    "            expr = [\n",
    "                self._instance['resources'][j][i] * self._vars[(i, j)]\n",
    "                for i in range(self._instance['num_tasks'])\n",
    "            ]\n",
    "            self._model.addCons(quicksum(expr) <= self._instance['capacities'][j])    \n",
    "        \n",
    "    def solve(self):\n",
    "        self._model.hideOutput()\n",
    "        self._model.optimize()\n",
    "        status = self._model.getStatus()\n",
    "        if status == \"optimal\":\n",
    "            # print(f'Optimal solution found!')\n",
    "            # print(f'Optimal objective = {self._model.getObjVal():.2f}')\n",
    "            \n",
    "            self._opt_vals = {\n",
    "                (i, j): int(self._model.getVal(self._vars[(i, j)]))\n",
    "                for i in range(self._instance['num_tasks'])\n",
    "                for j in range(self._instance['num_agents'])\n",
    "            }\n",
    "        elif status == \"unbounded\":\n",
    "            print(f'Model is unbounded!')\n",
    "        elif status == \"infeasible\":\n",
    "            print(f'Model is infeasible!')\n",
    "        else:\n",
    "            print(f'Unknown error occurred!')\n",
    "            \n",
    "    def are_relaxed_constraints_violated(self) -> bool:\n",
    "        \"\"\"check if the chosen relaxed constraints are violated in \n",
    "        the optimal solution.\n",
    "\n",
    "        Returns:\n",
    "            bool: true if violated, false otherwise\n",
    "        \"\"\"\n",
    "        for i in range(self._instance['num_tasks']):\n",
    "            total_assignments = np.sum([\n",
    "                self._opt_vals[(i, j)]\n",
    "                for j in range(self._instance['num_agents'])\n",
    "            ])\n",
    "            if total_assignments != 1:\n",
    "                return True\n",
    "        return False\n",
    "    \n",
    "    def get_original_obj_val(self):\n",
    "        orig_obj = np.sum([\n",
    "            self._instance['costs'][j][i] * self._opt_vals[(i, j)]\n",
    "            for i in range(self._instance['num_tasks'])\n",
    "            for j in range(self._instance['num_agents'])\n",
    "        ])\n",
    "        return orig_obj\n",
    "    \n",
    "    def get_constraint_violations(self):\n",
    "        violations = [\n",
    "            np.sum([\n",
    "                self._opt_vals[(i, j)]\n",
    "                for j in range(self._instance['num_agents'])\n",
    "            ]) - 1\n",
    "            for i in range(self._instance['num_tasks'])\n",
    "        ]\n",
    "        return violations\n",
    "    \n",
    "    def get_slackness(self) -> List:\n",
    "        violations = self.get_constraint_violations()\n",
    "        slackness = np.sum(np.array(violations) * np.array(self._lagrange_multipliers))\n",
    "        return slackness\n",
    "    \n",
    "    @property\n",
    "    def opt_obj(self):\n",
    "        return self._model.getObjVal()\n",
    "            \n",
    "    @property\n",
    "    def opt_vals(self):\n",
    "        return self._opt_vals"
   ]
  },
  {
   "cell_type": "code",
   "execution_count": 11,
   "metadata": {},
   "outputs": [
    {
     "name": "stdout",
     "output_type": "stream",
     "text": [
      "Optimal solution found!\n",
      "Optimal objective = 0.00\n"
     ]
    }
   ],
   "source": [
    "lagrange_multipliers = [0] * instances[0]['num_tasks']\n",
    "scip_gap_lr_solver = ScipGapLRSolver(instances[0])\n",
    "scip_gap_lr_solver.build_model(lagrange_multipliers)\n",
    "scip_gap_lr_solver.solve()"
   ]
  },
  {
   "cell_type": "code",
   "execution_count": 12,
   "metadata": {},
   "outputs": [
    {
     "name": "stdout",
     "output_type": "stream",
     "text": [
      "Optimal solution found!\n",
      "Optimal objective = 36.43\n"
     ]
    }
   ],
   "source": [
    "lagrange_multipliers = np.random.uniform(-5, 0, instances[0]['num_tasks'])\n",
    "scip_gap_lr_solver = ScipGapLRSolver(instances[0])\n",
    "scip_gap_lr_solver.build_model(lagrange_multipliers)\n",
    "scip_gap_lr_solver.solve()"
   ]
  },
  {
   "cell_type": "code",
   "execution_count": 13,
   "metadata": {},
   "outputs": [
    {
     "data": {
      "text/plain": [
       "array([-0.17007182, -3.94871019, -0.36710205, -1.8633616 , -4.09109043,\n",
       "       -3.53643355, -3.51083883, -2.08736108, -3.64585478, -1.0379109 ,\n",
       "       -3.94447795, -3.74243486, -0.61145116, -1.25320861, -2.61552727])"
      ]
     },
     "execution_count": 13,
     "metadata": {},
     "output_type": "execute_result"
    }
   ],
   "source": [
    "lagrange_multipliers"
   ]
  },
  {
   "cell_type": "markdown",
   "metadata": {},
   "source": [
    "### Approximating the best Lagrange multipliers"
   ]
  },
  {
   "cell_type": "code",
   "execution_count": null,
   "metadata": {},
   "outputs": [],
   "source": []
  },
  {
   "cell_type": "markdown",
   "metadata": {},
   "source": [
    "#### Subgradient Search"
   ]
  },
  {
   "cell_type": "code",
   "execution_count": 102,
   "metadata": {},
   "outputs": [],
   "source": [
    "import numpy as np\n",
    "\n",
    "class ScipGapSubgradientSearch:\n",
    "    \n",
    "    def __init__(self, instance):\n",
    "        self._instance = instance\n",
    "        self._lr_solver = None\n",
    "        \n",
    "        self._max_iter = 1000\n",
    "        self._max_iter_lb_not_improving = 1000\n",
    "    \n",
    "    def set_max_iter(self, max_iter):\n",
    "        self._max_iter = max_iter\n",
    "        \n",
    "    def set_max_iter_lb_not_improving(self, max_iter_lb_not_improving):\n",
    "        self._max_iter_lb_not_improving = max_iter_lb_not_improving\n",
    "        \n",
    "    def solve(self, verbose=False):\n",
    "        iter = 0\n",
    "        lb = -np.inf\n",
    "        ub = np.inf\n",
    "        eps = 1.0e-4\n",
    "        gamma = 0.9\n",
    "        \n",
    "        # obtain best bound\n",
    "        scip_gap_solver = ScipGapSolver(instance=self._instance)\n",
    "        scip_gap_solver.build_model()\n",
    "        scip_gap_solver.solve(verbose)\n",
    "        self.best_bound = scip_gap_solver.opt_obj\n",
    "        \n",
    "        num_tasks = self._instance['num_tasks']\n",
    "        multipliers = np.zeros(num_tasks)\n",
    "        \n",
    "        iterations = []\n",
    "        lower_bounds = []\n",
    "        iterLbNoImprove = 0\n",
    "        while True:\n",
    "            if verbose: print(f'\\niter: {iter}')\n",
    "            # solve relaxation with given multipliers\n",
    "            self._lr_solver = ScipGapLRSolver(self._instance)\n",
    "            self._lr_solver.build_model(multipliers)\n",
    "            self._lr_solver.solve()\n",
    "            \n",
    "            # update bounds\n",
    "            opt_obj = self._lr_solver.opt_obj\n",
    "            if opt_obj > lb:\n",
    "                lb = opt_obj\n",
    "                iterLbNoImprove = 0\n",
    "                if verbose: print(f'lb updated, new lb: {lb}')\n",
    "            else:\n",
    "                iterLbNoImprove += 1\n",
    "            \n",
    "            iterations.append(iter)\n",
    "            lower_bounds.append(lb)\n",
    "\n",
    "            constraints_violated = self._lr_solver.are_relaxed_constraints_violated()\n",
    "            if verbose: print(f'constraints violation: {constraints_violated}')\n",
    "            if not constraints_violated:\n",
    "                orig_obj = self._lr_solver.get_original_obj_val()\n",
    "                if orig_obj < ub:\n",
    "                    ub = orig_obj\n",
    "                    if verbose: print(f'ub updated, new ub: {ub}')\n",
    "                \n",
    "            \n",
    "            # check stopping criteria\n",
    "            if iterLbNoImprove >= self._max_iter_lb_not_improving:\n",
    "                break\n",
    "            \n",
    "            slackness = self._lr_solver.get_slackness()\n",
    "            # print(f'slack: {slackness}')\n",
    "            if not constraints_violated:\n",
    "                if np.sum(slackness) < eps:\n",
    "                    break\n",
    "            if iter >= self._max_iter:\n",
    "                break\n",
    "            \n",
    "            # update multipliers\n",
    "            violations = self._lr_solver.get_constraint_violations()\n",
    "            if verbose: print(f'violations: {violations}')\n",
    "            relaxed_obj = self._lr_solver.opt_obj\n",
    "            step_size = gamma * (self.best_bound - relaxed_obj) / (np.linalg.norm(violations))**2\n",
    "            multipliers += step_size * np.array(violations)\n",
    "            \n",
    "            iter += 1\n",
    "            \n",
    "        return lb, iterations, lower_bounds"
   ]
  },
  {
   "cell_type": "markdown",
   "metadata": {},
   "source": [
    "#### Surrogate Subgradient Search"
   ]
  },
  {
   "cell_type": "code",
   "execution_count": null,
   "metadata": {},
   "outputs": [],
   "source": []
  },
  {
   "cell_type": "code",
   "execution_count": 103,
   "metadata": {},
   "outputs": [],
   "source": [
    "import numpy as np\n",
    "\n",
    "class ScipGapSurrogateSubgradientSearch:\n",
    "    \n",
    "    def __init__(self, instance):\n",
    "        self._instance = instance\n",
    "        self._lr_solver = None\n",
    "        \n",
    "        self._max_iter = 1000\n",
    "        self._max_iter_lb_not_improving = 1000\n",
    "    \n",
    "    def set_max_iter(self, max_iter):\n",
    "        self._max_iter = max_iter\n",
    "        \n",
    "    def set_max_iter_lb_not_improving(self, max_iter_lb_not_improving):\n",
    "        self._max_iter_lb_not_improving = max_iter_lb_not_improving\n",
    "    \n",
    "    def solve(self, verbose=False):\n",
    "        lb = -np.inf\n",
    "        ub = np.inf\n",
    "        eps = 1.0e-4\n",
    "        r = 0.06\n",
    "        M = 25\n",
    "        \n",
    "        # obtain best bound\n",
    "        scip_gap_solver = ScipGapSolver(instance=self._instance)\n",
    "        scip_gap_solver.build_model()\n",
    "        scip_gap_solver.solve(verbose)\n",
    "        self.best_bound = scip_gap_solver.opt_obj\n",
    "        \n",
    "        num_tasks = self._instance['num_tasks']\n",
    "        multipliers = np.zeros(num_tasks)\n",
    "        \n",
    "        iter = 0\n",
    "        iterations = []\n",
    "        lower_bounds = []\n",
    "        iterLbNoImprove = 0\n",
    "        \n",
    "        prev_step_size = None\n",
    "        prev_violations = None\n",
    "        while True:\n",
    "            if verbose: print(f'\\niter: {iter}')\n",
    "            # solve relaxation with given multipliers\n",
    "            self._lr_solver = ScipGapLRSolver(self._instance)\n",
    "            self._lr_solver.build_model(multipliers)\n",
    "            self._lr_solver.solve()\n",
    "            \n",
    "            # update bounds\n",
    "            opt_obj = self._lr_solver.opt_obj\n",
    "            if verbose: print(f'lr_obj: {opt_obj}')\n",
    "            if opt_obj > lb:\n",
    "                lb = opt_obj\n",
    "                iterLbNoImprove = 0\n",
    "                if verbose: print(f'lb updated, new lb: {lb}')\n",
    "            else:\n",
    "                iterLbNoImprove += 1\n",
    "            \n",
    "            iterations.append(iter)\n",
    "            lower_bounds.append(lb)\n",
    "\n",
    "            constraints_violated = self._lr_solver.are_relaxed_constraints_violated()\n",
    "            if verbose: print(f'constraints violation: {constraints_violated}')\n",
    "            if not constraints_violated:\n",
    "                orig_obj = self._lr_solver.get_original_obj_val()\n",
    "                if orig_obj < ub:\n",
    "                    ub = orig_obj\n",
    "                    if verbose: print(f'ub updated, new ub: {ub}')\n",
    "                \n",
    "            \n",
    "            # check stopping criteria\n",
    "            if iterLbNoImprove >= self._max_iter_lb_not_improving:\n",
    "                break\n",
    "            \n",
    "            slackness = self._lr_solver.get_slackness()\n",
    "            # print(f'slack: {slackness}')\n",
    "            if not constraints_violated:\n",
    "                if np.sum(slackness) < eps:\n",
    "                    break\n",
    "            if iter >= self._max_iter:\n",
    "                break\n",
    "            \n",
    "            # update multipliers\n",
    "            violations = self._lr_solver.get_constraint_violations()\n",
    "            if verbose: print(f'violations: {violations}')\n",
    "            relaxed_obj = self._lr_solver.opt_obj\n",
    "            \n",
    "            if iter == 0:\n",
    "                step_size = (self.best_bound - relaxed_obj) / (np.linalg.norm(violations))**2\n",
    "            else:\n",
    "                p = 1 - 1 / ((iter+1)**r)\n",
    "                alpha = 1 - 1 / (M * (iter+1)**p)\n",
    "                step_size = alpha * prev_step_size * np.linalg.norm(prev_violations) / np.linalg.norm(violations)\n",
    "            \n",
    "            if verbose: print(f'step_size: {step_size}')\n",
    "            multipliers += step_size * np.array(violations)\n",
    "            if verbose: print(f'multipliers: {multipliers}')\n",
    "            \n",
    "            prev_step_size = step_size\n",
    "            prev_violations = violations\n",
    "            \n",
    "            iter += 1\n",
    "            \n",
    "        return lb, iterations, lower_bounds"
   ]
  },
  {
   "cell_type": "code",
   "execution_count": 104,
   "metadata": {},
   "outputs": [],
   "source": [
    "instance = instances[1]\n",
    "\n",
    "approximator_ss = ScipGapSubgradientSearch(instance)\n",
    "approximator_ss.set_max_iter(1000)\n",
    "best_bound_ss, iterations_ss, lower_bounds_ss = approximator_ss.solve(verbose=False)\n",
    "\n",
    "approximator_sss = ScipGapSurrogateSubgradientSearch(instance)\n",
    "approximator_sss.set_max_iter(1000)\n",
    "best_bound_sss, iterations_sss, lower_bounds_sss = approximator_sss.solve(verbose=False)"
   ]
  },
  {
   "cell_type": "code",
   "execution_count": 105,
   "metadata": {},
   "outputs": [
    {
     "data": {
      "text/plain": [
       "(269.00000010648733, 268.0917422821587)"
      ]
     },
     "execution_count": 105,
     "metadata": {},
     "output_type": "execute_result"
    }
   ],
   "source": [
    "best_bound_ss, best_bound_sss"
   ]
  },
  {
   "cell_type": "code",
   "execution_count": 106,
   "metadata": {},
   "outputs": [
    {
     "data": {
      "text/plain": [
       "<matplotlib.legend.Legend at 0x11d95d110>"
      ]
     },
     "execution_count": 106,
     "metadata": {},
     "output_type": "execute_result"
    },
    {
     "data": {
      "image/png": "[encoded data removed]",
      "text/plain": [
       "<Figure size 1200x400 with 1 Axes>"
      ]
     },
     "metadata": {},
     "output_type": "display_data"
    }
   ],
   "source": [
    "import matplotlib.pyplot as plt\n",
    "\n",
    "fit, ax = plt.subplots(1, 1, figsize=(12, 4))\n",
    "\n",
    "bound = approximator_ss.best_bound\n",
    "ax.plot(iterations_ss, np.ones(len(iterations_ss))*bound, 'r--', label='Optimal Value')\n",
    "ax.plot(iterations_ss, lower_bounds_ss, 'b--', label='Subgradient Search')\n",
    "ax.plot(iterations_sss, lower_bounds_sss, 'g--', label='Surrogate Subgradient Search')\n",
    "\n",
    "ax.legend()"
   ]
  },
  {
   "cell_type": "markdown",
   "metadata": {},
   "source": [
    "## Alternative Relaxation"
   ]
  },
  {
   "cell_type": "code",
   "execution_count": null,
   "metadata": {},
   "outputs": [],
   "source": []
  },
  {
   "cell_type": "markdown",
   "metadata": {},
   "source": [
    "## Performance Comparison"
   ]
  },
  {
   "cell_type": "code",
   "execution_count": null,
   "metadata": {},
   "outputs": [],
   "source": []
  },
  {
   "cell_type": "code",
   "execution_count": null,
   "metadata": {},
   "outputs": [],
   "source": []
  }
 ],
 "metadata": {
  "kernelspec": {
   "display_name": "large-opt",
   "language": "python",
   "name": "python3"
  },
  "language_info": {
   "codemirror_mode": {
    "name": "ipython",
    "version": 3
   },
   "file_extension": ".py",
   "mimetype": "text/x-python",
   "name": "python",
   "nbconvert_exporter": "python",
   "pygments_lexer": "ipython3",
   "version": "3.11.6"
  }
 },
 "nbformat": 4,
 "nbformat_minor": 2
}
