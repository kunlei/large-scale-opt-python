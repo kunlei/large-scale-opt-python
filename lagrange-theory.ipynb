{
 "cells": [
  {
   "cell_type": "markdown",
   "metadata": {},
   "source": [
    "---\n",
    "format:\n",
    "  html:\n",
    "    code-line-numbers: false\n",
    "    code-overflow: wrap\n",
    "    code-block-bg: true\n",
    "    code-block-border-left: true\n",
    "    highlight-style: arrow\n",
    "  pdf:\n",
    "    documentclass: scrreprt\n",
    "    links-as-notes: true\n",
    "    reference-location: section\n",
    "    toc: true\n",
    "    toc-depth: 2\n",
    "    lof: true\n",
    "    lot: true\n",
    "    number-sections: true\n",
    "    fig-width: 8\n",
    "    fig-height: 6\n",
    "\n",
    "---"
   ]
  },
  {
   "cell_type": "markdown",
   "metadata": {},
   "source": [
    "# Lagrangian Relaxation Theories"
   ]
  },
  {
   "cell_type": "markdown",
   "metadata": {},
   "source": [
    "When it comes to solving integer programming (IP) problems, linear programming relaxation is often used to obtain the lower bound of a minimization problem or upper bound of a maximization problem.\n",
    "The effectiveness of the bounding algorithm plays a vital role in the overall performance of branch and bound algorithms.\n",
    "Sometimes, we might not be interested in solving the optimization problem at hand to its optimality at all, instead, we could be happy with deriving a feasible solution from the optimal solution of the relaxed formulation.\n",
    "This is particularly common in industry application where proving optimality might not be as important as obtaining a near-optimal solution in reasonable computational time."
   ]
  },
  {
   "cell_type": "markdown",
   "metadata": {},
   "source": [
    "Aside from resorting to linear programming relaxation to help solve IP problem, there is another powerful decomposition algorithm, Lagrangian Relaxation, that can help obtain tight bound though another form of relaxation of the original problem.\n",
    "I have used this algorithm to solve some very interesting optimization problems in industry and I believe mastering the essence and intricacies of Lagrangian Relaxation could be very beneficial to the success of solving optimization problems in practice."
   ]
  },
  {
   "cell_type": "markdown",
   "metadata": {},
   "source": [
    "In the following sections, we will examine the two key components of applying Lagrangian Relaxation, namely, reformulation and problem solving through subgradient search."
   ]
  },
  {
   "cell_type": "markdown",
   "metadata": {},
   "source": [
    "## Lagrangian Relaxation Reformulation"
   ]
  },
  {
   "cell_type": "markdown",
   "metadata": {},
   "source": [
    "As with the case of applying other decomposition algorithm, the first step in utilizing Lagrangian Relaxation is to transform our problem at hand into a suitable format.\n",
    "This involves two critical steps:\n",
    "\n",
    "- Recognizing the applicability of the Lagrangian Relaxation algorithm.\n",
    "- Model reformulation.\n",
    "\n",
    "Arguably, the first step is more challenging when facing a new optimization problem.\n",
    "The second step is often straightforward to do once one recognize the required structure is present in the model formulation.\n",
    "My experience in using the Lagrangian Relaxation is through problem solving.\n",
    "It is natural to build up intuition once one solves more optimization problem with this powerful algorithm.\n",
    "In this chapter and following chapter, we will use Lagrangian Relaxation to solve a number of classical optimization problems.\n",
    "Hopefully, the exercise will help us gain enough sense of recognizing when Lagrangian Relaxation is applicable.\n",
    "\n",
    "Regarding the second point, we will see that sometimes one original problem formulation invites multiple forms of Lagrangian relaxations and some are better than others in terms of providing tighter bounds."
   ]
  },
  {
   "cell_type": "markdown",
   "metadata": {},
   "source": [
    "## Subgradient Search"
   ]
  },
  {
   "cell_type": "markdown",
   "metadata": {},
   "source": [
    "The essential component of Lagrangian relaxation is the use of Lagrange multipliers to penalize the violation of constraints that we choose to put in the objective function.\n",
    "The determination of the values of Lagrange multipliers is through the subgradient search algorithm, which is outlined in this section and illustrated in following chapters through concrete examples."
   ]
  },
  {
   "cell_type": "code",
   "execution_count": null,
   "metadata": {},
   "outputs": [],
   "source": []
  },
  {
   "cell_type": "code",
   "execution_count": null,
   "metadata": {},
   "outputs": [],
   "source": []
  }
 ],
 "metadata": {
  "kernelspec": {
   "display_name": "large-opt",
   "language": "python",
   "name": "python3"
  },
  "language_info": {
   "name": "python",
   "version": "3.11.6"
  }
 },
 "nbformat": 4,
 "nbformat_minor": 2
}
