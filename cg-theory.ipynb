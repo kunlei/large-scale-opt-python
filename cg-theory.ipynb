{
 "cells": [
  {
   "cell_type": "markdown",
   "metadata": {},
   "source": [
    "---\n",
    "format:\n",
    "  html:\n",
    "    code-line-numbers: false\n",
    "    code-overflow: wrap\n",
    "    code-block-bg: true\n",
    "    code-block-border-left: true\n",
    "    highlight-style: arrow\n",
    "  pdf:\n",
    "    documentclass: scrreprt\n",
    "    links-as-notes: true\n",
    "    reference-location: section\n",
    "    toc: true\n",
    "    toc-depth: 2\n",
    "    lof: true\n",
    "    lot: true\n",
    "    number-sections: true\n",
    "    fig-width: 8\n",
    "    fig-height: 6\n",
    "\n",
    "---"
   ]
  },
  {
   "cell_type": "markdown",
   "metadata": {},
   "source": [
    "# Column Generation Theories"
   ]
  },
  {
   "cell_type": "markdown",
   "metadata": {},
   "source": [
    "If I have to choose my favorite decomposition algorithm, column generation is the one!\n",
    "\n",
    "\n",
    "I have used column generation in several industry projects and it never failed to meet my needs.\n",
    "Unlike Benders decomposition or Lagrangian relaxation which transforms the original formulation in certain smart ways, column generation is more of a new modeling philosophy.\n",
    "It requires one to approach a problem through a different mindset and rise with a new formulation that enables efficient problem solving."
   ]
  },
  {
   "cell_type": "code",
   "execution_count": null,
   "metadata": {
    "vscode": {
     "languageId": "plaintext"
    }
   },
   "outputs": [],
   "source": []
  }
 ],
 "metadata": {
  "language_info": {
   "name": "python"
  }
 },
 "nbformat": 4,
 "nbformat_minor": 2
}
